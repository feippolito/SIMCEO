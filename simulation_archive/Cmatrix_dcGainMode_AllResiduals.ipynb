{
 "cells": [
  {
   "cell_type": "code",
   "execution_count": 1,
   "metadata": {},
   "outputs": [],
   "source": [
    "import dos\n",
    "from IPython.display import Image\n",
    "path = './dos/Cmatrix_dcGain_AllResiduals'"
   ]
  },
  {
   "cell_type": "code",
   "execution_count": null,
   "metadata": {
    "scrolled": false
   },
   "outputs": [
    {
     "name": "stderr",
     "output_type": "stream",
     "text": [
      "INFO:DOS:Reading config from ./dos/Cmatrix_dcGain_AllResiduals/dos.yaml\n"
     ]
    }
   ],
   "source": [
    "# init\n",
    "sim = dos.DOS(path, 20, show_timing = 2)\n",
    "Image(filename=path + '/timing.png')"
   ]
  },
  {
   "cell_type": "code",
   "execution_count": null,
   "metadata": {},
   "outputs": [],
   "source": [
    "sim.start()"
   ]
  },
  {
   "cell_type": "code",
   "execution_count": null,
   "metadata": {},
   "outputs": [],
   "source": [
    "sim.join()\n",
    "sim.terminate()\n",
    "\n",
    "logs = sim.logs.entries"
   ]
  },
  {
   "cell_type": "markdown",
   "metadata": {},
   "source": [
    "# plot logs\n",
    "---"
   ]
  },
  {
   "cell_type": "markdown",
   "metadata": {},
   "source": [
    "#####  Save\n",
    "\n",
    "---"
   ]
  },
  {
   "cell_type": "code",
   "execution_count": null,
   "metadata": {},
   "outputs": [],
   "source": [
    "# Genarate and save displacements\n",
    "\n",
    "import scipy.io as sio\n",
    "import yaml\n",
    "import numpy as np\n",
    "\n",
    "duration = sim.cfg['simulation']['duration']\n",
    "\n",
    "with open(path + r'/FEM.yaml') as file:\n",
    "    cfg = yaml.load(file, Loader=yaml.FullLoader)\n",
    "    \n",
    "fem_io = cfg['FEM']['build']['fem_io_filename']\n",
    "fem_ss = cfg['FEM']['build']['state_space_filename']\n",
    "\n",
    "shape_st_ = (C.shape[1],duration*2000+1)\n",
    "states = np.memmap('./variables/states.dat', dtype=np.float32, mode='r+', shape=shape_st_)\n",
    "\n",
    "C = sio.loadmat(fem_ss)['C']\n",
    "\n",
    "data = sio.loadmat(fem_io)\n",
    "fem_outputs=[(x[0][0],y[0]) for x,y in zip(data['FEM_IO']['outputs_name'][0,0],\n",
    "                                           data['FEM_IO']['outputs_size'][0][0])]\n",
    "\n",
    "i_sum = 0\n",
    "i_, ii_ = 0, 0\n",
    "for k in fem_outputs:\n",
    "    if k[0] != 'M1_surfaces_d':\n",
    "        i_sum += k[1]\n",
    "    else:\n",
    "        ref_size = k[1]\n",
    "        i_, ii_ = i_sum, i_sum + ref_size\n",
    "C = C[i_:ii_,:]\n",
    "indexes = range(2,C.shape[0],3)\n",
    "C = C[indexes, :]\n",
    "\n",
    "displacements_ptt = np.dot(C, states)\n",
    "\n",
    "indc1 = [x*742 for x in range(1,7)]\n",
    "seg_displacements_ptt = np.array(np.split(displacements_ptt,\n",
    "                                 indices_or_sections = indc1,\n",
    "                                 axis = 0), dtype = object)\n",
    "\n",
    "seg_BM = np.empty([7], dtype = object)\n",
    "\n",
    "for seg in range(7):\n",
    "    _STR = 'Bending Modes S' + str(seg + 1)\n",
    "    seg_BM[seg] =  logs['FEM'][_STR].timeSeries[1].T"
   ]
  },
  {
   "cell_type": "code",
   "execution_count": null,
   "metadata": {},
   "outputs": [],
   "source": [
    "import pickle\n",
    "\n",
    "with open('./logs/displacements_ptt_dcGain_allResiduals.sclogs', 'wb') as f:\n",
    "    pickle.dump({'displacements_ptt':seg_displacements_ptt}, f)\n",
    "    \n",
    "with open('./logs/bending_modes_dcGain_allResiduals.sclogs', 'wb') as f:\n",
    "    pickle.dump({'bending_modes': seg_BM}, f)"
   ]
  },
  {
   "cell_type": "markdown",
   "metadata": {},
   "source": [
    "##### Load\n",
    "\n",
    "---"
   ]
  },
  {
   "cell_type": "code",
   "execution_count": null,
   "metadata": {},
   "outputs": [],
   "source": [
    "import pickle\n",
    "import numpy as np\n",
    "import scipy.io as sio\n",
    "import yaml\n",
    "\n",
    "displacements_ptt = pickle.load( open( './logs/displacements_ptt_dcGain_allResiduals.sclogs',\n",
    "                                       \"rb\" ) )['displacements_ptt']\n",
    "\n",
    "bending_modes = pickle.load( open( './logs/bending_modes_dcGain_allResiduals.sclogs',\n",
    "                                   \"rb\" ) )['bending_modes']"
   ]
  },
  {
   "cell_type": "markdown",
   "metadata": {},
   "source": [
    "#### Be sure to use the right transformation matrix!"
   ]
  },
  {
   "cell_type": "code",
   "execution_count": null,
   "metadata": {},
   "outputs": [],
   "source": [
    "transformation_path = '../database/bendingmodes/AllResidualSoftDrive_SSMode_transformation_matrices.mat'\n",
    "Q_seg = np.squeeze(sio.loadmat(transformation_path)['Q_incell'])\n",
    "U_seg = np.squeeze(sio.loadmat(transformation_path)['U_incell'])"
   ]
  },
  {
   "cell_type": "code",
   "execution_count": null,
   "metadata": {},
   "outputs": [],
   "source": [
    "import matplotlib.pyplot as plt\n",
    "try:\n",
    "    from jupyterthemes import jtplot\n",
    "    jtplot.style()\n",
    "except:\n",
    "    pass\n",
    "\n",
    "duration = (bending_modes[0].shape[1] - 1)/2000 \n",
    "xticks = np.arange(0, duration + 1, duration/ 10)"
   ]
  },
  {
   "cell_type": "markdown",
   "metadata": {},
   "source": [
    "#### Surface displacement"
   ]
  },
  {
   "cell_type": "code",
   "execution_count": null,
   "metadata": {},
   "outputs": [],
   "source": [
    "# Plot Bending Modes\n",
    "\n",
    "seg = 6\n",
    "\n",
    "plt.figure(figsize = (12,7))\n",
    "plt.plot(bending_modes[seg][:,:].T)\n",
    "plt.show()"
   ]
  },
  {
   "cell_type": "code",
   "execution_count": null,
   "metadata": {},
   "outputs": [],
   "source": [
    "def remove_ptt_time(seg_displacements_ptt, Q, vartype = np.float64):\n",
    "    n_samples = seg_displacements_ptt.shape[1]\n",
    "    n_nodes = seg_displacements_ptt.shape[0]\n",
    "\n",
    "    displacements_noptt_ = np.empty([n_nodes, n_samples], dtype=vartype)\n",
    "    ptt = np.empty([n_nodes, n_samples], dtype=vartype)\n",
    "    \n",
    "    for k in range(displacements_noptt_.shape[1]):\n",
    "        _aux = np.linalg.lstsq(Q, seg_displacements_ptt[:,k])[0]\n",
    "        ptt[:,k] = np.dot(Q, _aux)\n",
    "        displacements_noptt_[:,k] = seg_displacements_ptt[:,k] - ptt[:,k]\n",
    "    return displacements_noptt_, ptt\n",
    "\n",
    "def disp_to_bm(disp_noPTT, U):\n",
    "    U64 = np.empty(U.shape, dtype=np.float64)\n",
    "    disp_noPTT64 = np.empty(disp_noPTT.shape, dtype=np.float64)\n",
    "    \n",
    "    U64[:] = U[:]\n",
    "    disp_noPTT64[:] = disp_noPTT[:]\n",
    "    \n",
    "    return np.dot(U64.T, disp_noPTT64) # returns bm\n",
    "\n",
    "def bm_to_disp(bm, U):\n",
    "    return np.dot(U, bm) \n",
    "\n",
    "def return_surface(displacements ,Ts, Q , zmin, zmax, ax = None, fig = None):\n",
    "    \n",
    "    import matplotlib.pyplot as plt\n",
    "    import matplotlib.tri as mtri   \n",
    "    import matplotlib.animation as animation\n",
    "    import matplotlib as mpl\n",
    "    import scipy.spatial as ssp\n",
    "    \n",
    "    if ax is None:\n",
    "        ax = plt.gca()\n",
    "        \n",
    "    resolution = 100\n",
    "    \n",
    "    tri = ssp.Delaunay(Q[:,[0,1]])\n",
    "\n",
    "    xi = Q[:,0]\n",
    "    yi = Q[:,1]\n",
    "    \n",
    "    z = displacements[:,Ts]\n",
    "\n",
    "    triang = mtri.Triangulation(xi, yi, tri.simplices.copy())\n",
    "    \n",
    "    z_values = z\n",
    "\n",
    "    interp_cubic_geom = mtri.CubicTriInterpolator(triang, z_values, kind='geom')\n",
    "    xi = np.linspace(xi.min(), xi.max(), resolution)\n",
    "    yi = np.linspace(yi.min(), yi.max(), resolution)\n",
    "    xii, yii = np.meshgrid(xi, yi)\n",
    "    zi_cubic_geom = interp_cubic_geom(xii, yii)\n",
    "\n",
    "    z_min, z_max = z.min(), z.max()\n",
    "    \n",
    "    graph = ax.contourf(xii, yii, zi_cubic_geom, vmin = zmin, vmax = zmax)\n",
    "    return graph"
   ]
  },
  {
   "cell_type": "code",
   "execution_count": null,
   "metadata": {},
   "outputs": [],
   "source": [
    "ptt = np.empty((7,), dtype = object)\n",
    "disp_noPTT = np.empty((7,), dtype = object)\n",
    "\n",
    "for seg in range(7):\n",
    "    disp_noPTT[seg], ptt[seg] = remove_ptt_time(displacements_ptt[seg],\n",
    "                                                Q_seg[seg],\n",
    "                                               vartype = np.float64)"
   ]
  },
  {
   "cell_type": "code",
   "execution_count": null,
   "metadata": {},
   "outputs": [],
   "source": [
    "bending_modes[0].shape"
   ]
  },
  {
   "cell_type": "code",
   "execution_count": null,
   "metadata": {},
   "outputs": [],
   "source": [
    "rec_disp = np.empty((7,), dtype = object)\n",
    "\n",
    "for seg in range(7):\n",
    "    rec_disp[seg] = bm_to_disp(bending_modes[seg][0:30,:], U_seg[seg][:,0:30])"
   ]
  },
  {
   "cell_type": "code",
   "execution_count": null,
   "metadata": {},
   "outputs": [],
   "source": [
    "Ts  = 20000\n",
    "seg = 2\n",
    "\n",
    "Q_ = Q_seg[seg]\n",
    "\n",
    "fig, axes =  plt.subplots(1 ,3 ,figsize = (30, 12))\n",
    "ax1, ax2, ax3 = axes\n",
    "\n",
    "z_max = np.amax(rec_disp[seg])\n",
    "z_min = np.amin(rec_disp[seg])\n",
    "z_step = (z_max - z_min)/10\n",
    "\n",
    "error = disp_noPTT[seg] - rec_disp[seg]\n",
    "e_max = np.amax(error)\n",
    "e_min = np.amin(error)\n",
    "\n",
    "graph1 = return_surface(rec_disp[seg], Ts,  Q_, z_min, z_max, ax1, fig)\n",
    "graph2 = return_surface(rec_disp[seg], Ts,  Q_, z_min, z_max,  ax2, fig)\n",
    "graph3 = return_surface(error, Ts, Q_, e_min, e_max,  ax3, fig);\n",
    "\n",
    "cbar1 = fig.colorbar(graph1, ax = [ax1, ax2], orientation='horizontal', aspect=20)\n",
    "cbar2 = fig.colorbar(graph3, ax=[ax3], orientation='horizontal', aspect=9)"
   ]
  },
  {
   "cell_type": "code",
   "execution_count": null,
   "metadata": {},
   "outputs": [],
   "source": [
    "\"\"\"\n",
    "Check error magnitude when removing ptt from displacement and adding it again\n",
    "\"\"\"\n",
    "\n",
    "seg = 0\n",
    "node = 0\n",
    "\n",
    "plt.figure(figsize = (18,14))\n",
    "ax1 = plt.subplot(2,1,1)\n",
    "ax1.plot(displacements_ptt[seg][node, :].T , label = \"Original\",  c='r')\n",
    "ax1.plot(disp_noPTT[seg][node,:].T + ptt[seg][node,:].T, '--', label = \"Reconstructed\")\n",
    "ax1.set_title('Node displacement with PTT ')\n",
    "ax1.legend()\n",
    "ax2 = plt.subplot(2,1,2)\n",
    "ax2.plot(displacements_ptt[seg][node, :].T  - \n",
    "        (disp_noPTT[seg][node,:].T + ptt[seg][node,:].T))\n",
    "ax2.set_title(\"Error\")\n",
    "plt.show()"
   ]
  },
  {
   "cell_type": "code",
   "execution_count": null,
   "metadata": {},
   "outputs": [],
   "source": [
    "%matplotlib inline"
   ]
  },
  {
   "cell_type": "code",
   "execution_count": null,
   "metadata": {},
   "outputs": [],
   "source": [
    "seg = 6\n",
    "node = 500\n",
    "\n",
    "plt.figure(figsize = (18,14))\n",
    "ax1 = plt.subplot(2,1,1)\n",
    "ax1.plot(disp_noPTT[seg][node, :].T, c='r', label = 'original')\n",
    "ax1.plot(rec_disp[seg][node, :].T, '--', label = 'recovered')\n",
    "ax1.set_title('Node ('+str(node) + ') Seg (' +str(seg + 1) + ') displacement')\n",
    "ax1.legend()\n",
    "ax2 = plt.subplot(2,1,2)\n",
    "ax2.plot(disp_noPTT[seg][node, :].T - rec_disp[seg][node, :].T)\n",
    "ax2.set_title('Error')\n",
    "plt.show()"
   ]
  },
  {
   "cell_type": "code",
   "execution_count": null,
   "metadata": {},
   "outputs": [],
   "source": [
    "from scipy.linalg import norm as scinorm\n",
    "\n",
    "def calculate_score(original, recovered):\n",
    "    error = original - recovered\n",
    "    \n",
    "    norm_time = np.empty(error.shape[1], dtype = np.float64)\n",
    "    for k in range(error.shape[1]):\n",
    "        norm_time[k]  = scinorm(error[:,k]) / scinorm(original[:,k])\n",
    "    return np.mean(norm_time), np.std(norm_time)"
   ]
  },
  {
   "cell_type": "code",
   "execution_count": null,
   "metadata": {},
   "outputs": [],
   "source": [
    "range_ = range(5, 161, 5)\n",
    "sz = len(list(range_))\n",
    "sz"
   ]
  },
  {
   "cell_type": "code",
   "execution_count": null,
   "metadata": {},
   "outputs": [],
   "source": [
    "range_ = range(5, 161, 1)\n",
    "sz = len(list(range_))\n",
    "\n",
    "scores = np.empty((sz), dtype = np.float64)\n",
    "std = np.empty((sz), dtype = np.float64)\n",
    "\n",
    "scores_mem = np.memmap('./variables/scores.dat',\n",
    "                          dtype=np.float32, mode='w+', shape=(7,sz))\n",
    "std_mem = np.memmap('./variables/std.dat',\n",
    "                          dtype=np.float32, mode='w+', shape=(7,sz))\n",
    "\n",
    "for seg in range(7):\n",
    "    print(seg)\n",
    "    i = 0\n",
    "    for nBM in range_:\n",
    "        try:\n",
    "            aux_disp  = bm_to_disp(bending_modes[seg][0:nBM,:], U_seg[seg][:,0:nBM])\n",
    "            scores[i], std[i] = calculate_score(disp_noPTT[seg], aux_disp)\n",
    "        except ValueError:\n",
    "            nBM_max = 151\n",
    "            aux_disp  = bm_to_disp(bending_modes[seg][0:nBM_max, :], U_seg[seg][:,0:nBM_max])\n",
    "            scores[i],std[i] = calculate_score(disp_noPTT[seg], aux_disp)\n",
    "        i += 1\n",
    "    scores_mem[seg,:], std_mem[seg,:] = scores[:], std[:]"
   ]
  },
  {
   "cell_type": "code",
   "execution_count": null,
   "metadata": {},
   "outputs": [],
   "source": [
    "# Save\n",
    "import pickle\n",
    "\n",
    "with open('./logs/scores_dcGain_AllResiduals.sclogs', 'wb') as f:\n",
    "    pickle.dump({'scores':scores_mem}, f)\n",
    "    \n",
    "with open('./logs/std_dcGain_AllResiduals.sclogs', 'wb') as f:\n",
    "    pickle.dump({'std': std_mem}, f)"
   ]
  },
  {
   "cell_type": "code",
   "execution_count": 1,
   "metadata": {},
   "outputs": [],
   "source": [
    "# Load\n",
    "import pickle\n",
    "scores_mem = pickle.load( open( './logs/scores_dcGain_AllResiduals.sclogs',\n",
    "                                       \"rb\" ) )['scores']\n",
    "std_mem = pickle.load( open( './logs/std_dcGain_AllResiduals.sclogs',\n",
    "                                   \"rb\" ) )['std']"
   ]
  },
  {
   "cell_type": "code",
   "execution_count": 4,
   "metadata": {},
   "outputs": [
    {
     "data": {
      "image/png": "[encoded data removed]",
      "text/plain": [
       "<Figure size 1080x504 with 1 Axes>"
      ]
     },
     "metadata": {},
     "output_type": "display_data"
    }
   ],
   "source": [
    "import matplotlib.pyplot as plt\n",
    "try:\n",
    "    from jupyterthemes import jtplot\n",
    "    jtplot.style()\n",
    "except:\n",
    "    pass\n",
    "\n",
    "plt.figure(figsize = (15,7))\n",
    "plt.title('Recovered displacement error for n Modes')\n",
    "range_ = range(5, 161, 1)\n",
    "sz = len(list(range_))\n",
    "\n",
    "x = list(range_)\n",
    "for seg in range(7):\n",
    "    if seg == 6:\n",
    "        ax = plt.plot(x,scores_mem[seg,:], label = 'S'+str(seg+1), c = 'r')\n",
    "    else:\n",
    "        plt.plot(list(range_),scores_mem[seg,:], label = 'S'+str(seg+1))\n",
    "\n",
    "plt.legend()\n",
    "plt.show()"
   ]
  },
  {
   "cell_type": "code",
   "execution_count": null,
   "metadata": {},
   "outputs": [],
   "source": [
    "plt.figure(figsize = (15,7))\n",
    "plt.title('Recovered displacement error for n Bending Modes')\n",
    "range_ = range(5, 161, 1)\n",
    "sz = len(list(range_))\n",
    "\n",
    "start_bm = 30\n",
    "x = list(range_)\n",
    "for seg in range(7):\n",
    "    if seg == 6:\n",
    "        ax = plt.plot(x[start_bm:],scores_mem[seg,start_bm:], label = 'S'+str(seg+1), c = 'r')\n",
    "    else:\n",
    "        plt.plot(x[start_bm:],scores_mem[seg,start_bm:], label = 'S'+str(seg+1))\n",
    "\n",
    "plt.legend()\n",
    "plt.show()"
   ]
  }
 ],
 "metadata": {
  "kernelspec": {
   "display_name": "Python 3",
   "language": "python",
   "name": "python3"
  },
  "language_info": {
   "codemirror_mode": {
    "name": "ipython",
    "version": 3
   },
   "file_extension": ".py",
   "mimetype": "text/x-python",
   "name": "python",
   "nbconvert_exporter": "python",
   "pygments_lexer": "ipython3",
   "version": "3.7.4"
  }
 },
 "nbformat": 4,
 "nbformat_minor": 2
}
