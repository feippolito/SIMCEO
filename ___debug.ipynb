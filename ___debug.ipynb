{
 "cells": [
  {
   "cell_type": "code",
   "execution_count": 1,
   "metadata": {},
   "outputs": [],
   "source": [
    "import sys\n",
    "import threading\n",
    "import time\n",
    "import zmq\n",
    "import ceo\n",
    "import numpy as np\n",
    "from collections import OrderedDict\n",
    "import os\n",
    "import shelve\n",
    "import traceback\n",
    "import scipy.linalg as LA\n",
    "import pickle\n",
    "import zlib\n",
    "import logging\n",
    "import copy\n",
    "from numpy.linalg import norm\n",
    "\n",
    "from ruamel.yaml import YAML\n",
    "yaml=YAML(typ='safe')"
   ]
  },
  {
   "cell_type": "code",
   "execution_count": 2,
   "metadata": {},
   "outputs": [],
   "source": [
    "path_to_config_dir = './dos/trivial_AcO'"
   ]
  },
  {
   "cell_type": "code",
   "execution_count": 3,
   "metadata": {},
   "outputs": [],
   "source": [
    "logger = logging.getLogger('Teste')\n",
    "logger.setLevel(logging.INFO)\n",
    "\n",
    "DOS_REPO = path_to_config_dir\n",
    "cfg_file = os.path.join(path_to_config_dir,'dos.yaml')\n",
    "logger.info('Reading config from %s',cfg_file)\n",
    "with open(cfg_file) as f:\n",
    "    cfg = yaml.load(f)"
   ]
  },
  {
   "cell_type": "code",
   "execution_count": 4,
   "metadata": {},
   "outputs": [],
   "source": [
    "agent = None\n",
    "N_SAMPLE = int(cfg['simulation']['sampling frequency']*\n",
    "               cfg['simulation']['duration'])"
   ]
  },
  {
   "cell_type": "code",
   "execution_count": 5,
   "metadata": {},
   "outputs": [],
   "source": [
    "from dos.dos import Logs"
   ]
  },
  {
   "cell_type": "code",
   "execution_count": 6,
   "metadata": {},
   "outputs": [],
   "source": [
    "__k_step = 0\n",
    "pushed = False\n",
    "initialized = False\n",
    "tau = 1/cfg['simulation']['sampling frequency']\n",
    "logs = Logs(tau,logs_repo=DOS_REPO)"
   ]
  },
  {
   "cell_type": "code",
   "execution_count": 7,
   "metadata": {},
   "outputs": [],
   "source": [
    "from dos.driver import Server, Client, Atmosphere\n",
    "verbose=logging.INFO"
   ]
  },
  {
   "cell_type": "code",
   "execution_count": 8,
   "metadata": {},
   "outputs": [
    {
     "data": {
      "text/plain": [
       "dict_keys(['M1', 'M2', 'wfs48', 'AcO_controller', 'science'])"
      ]
     },
     "execution_count": 8,
     "metadata": {},
     "output_type": "execute_result"
    }
   ],
   "source": [
    "cfg['drivers'].keys()"
   ]
  },
  {
   "cell_type": "code",
   "execution_count": 9,
   "metadata": {},
   "outputs": [
    {
     "name": "stderr",
     "output_type": "stream",
     "text": [
      "INFO:Teste:New driver: M1\n",
      "INFO:M1:New input: Txyz\n",
      "INFO:M1:New input: Rxyz\n",
      "INFO:M1:New input: modes\n",
      "INFO:M1:No inputs!\n",
      "INFO:Teste:New driver: M2\n",
      "INFO:M2:New input: Txyz\n",
      "INFO:M2:New input: Rxyz\n",
      "INFO:M2:No inputs!\n",
      "INFO:Teste:New driver: wfs48\n",
      "INFO:wfs48:No inputs!\n",
      "INFO:wfs48:New output: M12_RBM\n",
      "INFO:wfs48:Output logged in!\n",
      "INFO:Teste:New driver: AcO_controller\n",
      "INFO:AcO_controller:New input: x_hat\n",
      "INFO:AcO_controller:New output: M1 Txyz\n",
      "INFO:AcO_controller:Output logged in!\n",
      "INFO:AcO_controller:New output: M1 Rxyz\n",
      "INFO:AcO_controller:Output logged in!\n",
      "INFO:AcO_controller:New output: M2 Txyz\n",
      "INFO:AcO_controller:Output logged in!\n",
      "INFO:AcO_controller:New output: M2 Rxyz\n",
      "INFO:AcO_controller:Output logged in!\n",
      "INFO:AcO_controller:New output: M1 BM\n",
      "INFO:AcO_controller:Output logged in!\n",
      "INFO:Teste:New driver: science\n",
      "INFO:science:No inputs!\n",
      "INFO:science:New output: wfe_rms\n",
      "INFO:science:Output logged in!\n",
      "INFO:science:New output: segment_wfe_rms\n",
      "INFO:science:Output logged in!\n",
      "INFO:science:New output: PSSn\n",
      "INFO:science:Output logged in!\n",
      "INFO:science:New output: tiptilt\n",
      "INFO:science:Output logged in!\n",
      "INFO:science:New output: segment_piston\n",
      "INFO:science:Output logged in!\n",
      "INFO:science:New output: segment_tiptilt\n",
      "INFO:science:Output logged in!\n"
     ]
    },
    {
     "name": "stdout",
     "output_type": "stream",
     "text": [
      "{'delay': 0, 'sampling_rate': 1, 'inputs': {'Txyz': {'size': [7, 3]}, 'Rxyz': {'size': [7, 3]}, 'modes': {'size': [7, 27]}}}\n",
      "{'delay': 0, 'sampling_rate': 1, 'inputs': {'Txyz': {'size': [7, 3]}, 'Rxyz': {'size': [7, 3]}}}\n",
      "{'delay': 0, 'sampling_rate': 1, 'outputs': {'M12_RBM': {'sampling_rate': 1, 'size': 273, 'logs': {'decimation': 1}}}}\n",
      "{'outputs': {'wfe_rms': {'size': 1, 'logs': {'decimation': 1}}, 'segment_wfe_rms': {'size': 7, 'logs': {'decimation': 1}}, 'PSSn': {'size': 1, 'logs': {'decimation': 1}}, 'tiptilt': {'size': 2, 'logs': {'decimation': 1}}, 'segment_piston': {'size': 7, 'logs': {'decimation': 1}}, 'segment_tiptilt': {'size': 14, 'logs': {'decimation': 1}}}}\n"
     ]
    }
   ],
   "source": [
    "drivers = {}\n",
    "for d,v in cfg['drivers'].items():\n",
    "    prm_file = os.path.join(path_to_config_dir,d)\n",
    "    if os.path.isfile(prm_file+'.yaml') or os.path.isfile(prm_file+'.pickle'):\n",
    "        logger.info('New driver: %s',d)\n",
    "        if 'server' in v and v['server'] is False:\n",
    "            drivers[d] = Client(tau,d,\n",
    "                                            logs,\n",
    "                                            verbose=verbose,**v)\n",
    "        elif d=='atmosphere':\n",
    "            drivers[d] = Atmosphere(tau,d,agent,\n",
    "                                                    verbose=verbose)\n",
    "        else:\n",
    "            print(v)\n",
    "            drivers[d] = Server(tau,d,\n",
    "                                            logs,\n",
    "                                            agent,\n",
    "                                            verbose=verbose,**v)\n",
    "    else:\n",
    "        logger.warning('%s is missing!',prm_file)"
   ]
  },
  {
   "cell_type": "code",
   "execution_count": 15,
   "metadata": {},
   "outputs": [
    {
     "name": "stderr",
     "output_type": "stream",
     "text": [
      "INFO:x_hat:Linked to M12_RBM from wfs48\n",
      "INFO:M1 Txyz:Linked to Txyz from M1\n",
      "INFO:M1 Rxyz:Linked to Rxyz from M1\n",
      "INFO:M2 Txyz:Linked to Txyz from M2\n",
      "INFO:M2 Rxyz:Linked to Rxyz from M2\n",
      "INFO:M1 BM:Linked to modes from M1\n"
     ]
    },
    {
     "name": "stdout",
     "output_type": "stream",
     "text": [
      "M1\n",
      "M2\n"
     ]
    }
   ],
   "source": [
    " for k_d in drivers:\n",
    "    d = drivers[k_d]\n",
    "    for k_i in d.inputs:\n",
    "        d.inputs[k_i].tie(drivers)\n",
    "    for k_o in d.outputs:\n",
    "        d.outputs[k_o].tie(drivers)\n",
    "for k_d in drivers:\n",
    "    d = drivers[k_d]\n",
    "    device = os.path.join(path_to_config_dir,k_d)\n",
    "    try:\n",
    "        with open(device+'.yaml') as f:\n",
    "            prm = yaml.load(f)\n",
    "    except:\n",
    "        with open(device+'.pickle','rb') as f:\n",
    "            prm = pickle.load(f)\n",
    "    #print(prm)\n",
    "    if 'mirror' in prm:\n",
    "        print(k_d)\n",
    "    #print('\\n\\n')\n",
    "    d.associate(prm)"
   ]
  },
  {
   "cell_type": "code",
   "execution_count": 35,
   "metadata": {},
   "outputs": [
    {
     "data": {
      "text/plain": [
       "{'Txyz': <dos.driver.Input at 0x7f67f0173b50>,\n",
       " 'Rxyz': <dos.driver.Input at 0x7f67f7f21410>,\n",
       " 'modes': <dos.driver.Input at 0x7f67f016fa10>}"
      ]
     },
     "execution_count": 35,
     "metadata": {},
     "output_type": "execute_result"
    }
   ],
   "source": [
    "drivers['M1'].inputs"
   ]
  },
  {
   "cell_type": "code",
   "execution_count": null,
   "metadata": {},
   "outputs": [],
   "source": [
    "self.__start = map(lambda x: x.start(), self.drivers.values())\n",
    "self.__init = map(lambda x: x.init(), self.drivers.values())\n",
    "self.step = self.stepping()\n",
    "self.__terminate = map(lambda x: x.terminate(), self.drivers.values())\n",
    "self.logger.info('Simulation setup for a duration of {0}s @ {1}Hz ({2} steps)!'.format(\n",
    "    self.cfg['simulation']['duration'],\n",
    "    self.cfg['simulation']['sampling frequency'],\n",
    "    self.N_SAMPLE))\n"
   ]
  }
 ],
 "metadata": {
  "kernelspec": {
   "display_name": "Python 3",
   "language": "python",
   "name": "python3"
  },
  "language_info": {
   "codemirror_mode": {
    "name": "ipython",
    "version": 3
   },
   "file_extension": ".py",
   "mimetype": "text/x-python",
   "name": "python",
   "nbconvert_exporter": "python",
   "pygments_lexer": "ipython3",
   "version": "3.7.4"
  }
 },
 "nbformat": 4,
 "nbformat_minor": 2
}
