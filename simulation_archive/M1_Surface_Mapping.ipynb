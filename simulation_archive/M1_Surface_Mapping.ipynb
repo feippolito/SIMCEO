{
 "cells": [
  {
   "cell_type": "code",
   "execution_count": null,
   "metadata": {},
   "outputs": [],
   "source": [
    "import numpy as np\n",
    "import ceo\n",
    "import scipy.io as spio\n",
    "import matplotlib.pyplot as plt\n",
    "%matplotlib inline"
   ]
  },
  {
   "cell_type": "markdown",
   "metadata": {},
   "source": [
    "# AfzIM for Calibration Matrix"
   ]
  },
  {
   "cell_type": "code",
   "execution_count": null,
   "metadata": {},
   "outputs": [],
   "source": [
    "transformation_path = '../SIMCEO/dos/BendingModes_Interface/InterfaceTransformationMatrixes.mat'\n",
    "load_args = {'squeeze_me' : True, 'mat_dtype' : True}\n",
    "TransformationM = spio.loadmat(transformation_path,\n",
    "                  variable_names = ['HR_Qoa','HR_Qcs','Uoa','Ucs'],\n",
    "                   **load_args)\n",
    "\n",
    "Qo = TransformationM['HR_Qoa']\n",
    "Qc = TransformationM['HR_Qcs']\n",
    "Uo = TransformationM['Uoa']\n",
    "Uc = TransformationM['Ucs']\n",
    "\n",
    "modes = u'bending modes'"
   ]
  },
  {
   "cell_type": "markdown",
   "metadata": {},
   "source": [
    "# SSBM_Softdrive"
   ]
  },
  {
   "cell_type": "code",
   "execution_count": null,
   "metadata": {},
   "outputs": [],
   "source": [
    "transformation_path = '../database/bendingmodes/SoftDrive_SSBM_transformation_matrices.mat'\n",
    "load_args = {'squeeze_me' : True, 'mat_dtype' : True}\n",
    "Q_seg = spio.loadmat(transformation_path,variable_names = ['Q_incell'],\n",
    "                   **load_args)['Q_incell']\n",
    "U_seg = spio.loadmat(transformation_path, variable_names = ['U_incell'],\n",
    "                    **load_args)['U_incell']\n",
    "\n",
    "modes = u'HR PSI'\n",
    "\n",
    "print(Q_seg[0].shape)\n",
    "print(Q_seg[6].shape)\n",
    "\n",
    "print(U_seg[0].shape)\n",
    "print(U_seg[6].shape)\n",
    "\n",
    "Qo = Q_seg[0]\n",
    "Qc = Q_seg[6]\n",
    "\n",
    "Uo = U_seg[0]\n",
    "Uc = U_seg[6]"
   ]
  },
  {
   "cell_type": "code",
   "execution_count": null,
   "metadata": {},
   "outputs": [],
   "source": [
    "\"\"\"\n",
    "center = spio.loadmat('m1s7_orth_base.mat')\n",
    "print(\"Center\\n\",center.keys())\n",
    "print([center[_].shape for  _ in ['Xsurface','Ysurface','Urn']])\n",
    "outer = spio.loadmat('m1s1_orth_base.mat')\n",
    "print(\"Outer\",outer.keys())\n",
    "print([outer[_].shape for  _ in ['Xsurface','Ysurface','Urn']])\n",
    "\"\"\";"
   ]
  },
  {
   "cell_type": "markdown",
   "metadata": {},
   "source": [
    "---"
   ]
  },
  {
   "cell_type": "code",
   "execution_count": null,
   "metadata": {},
   "outputs": [],
   "source": [
    "\"\"\"\n",
    "xyc =np.hstack([center[_] for _ in ['Xsurface','Ysurface']])\n",
    "zc = center['Urn'][:,:-3]\n",
    "xyo =np.hstack([outer[_] for _ in ['Xsurface','Ysurface']])\n",
    "zo = outer['Urn'][:,:-3]\n",
    "zc_ext = np.append(zc,np.zeros((zc.shape[0],zo.shape[1]-zc.shape[1])),1)\n",
    "zc.shape,zo.shape,zc_ext.shape\n",
    "\"\"\";\n",
    "\n",
    "\"\"\"\n",
    "outputs\n",
    "((25794, 151), (27685, 162), (25794, 162))\n",
    "\"\"\";"
   ]
  },
  {
   "cell_type": "code",
   "execution_count": null,
   "metadata": {},
   "outputs": [],
   "source": [
    "xyc = Qc[:,[0,1]]\n",
    "xyo = Qo[:,[0,1]]\n",
    "\n",
    "zc = Uc[:,:-3] #:-3 for bending Modes\n",
    "zo = Uo[:,:-3] #:-3 for bending Modes\n",
    "\n",
    "zc_ext = np.append(zc,np.zeros((zc.shape[0],zo.shape[1]-zc.shape[1])),1)\n",
    "zc.shape,zo.shape,zc_ext.shape"
   ]
  },
  {
   "cell_type": "code",
   "execution_count": null,
   "metadata": {},
   "outputs": [],
   "source": [
    "L = 8.5 # meter\n",
    "N_L = 201 # pixel\n",
    "O = ceo.Mapping(xy=xyo ,z=zo)(N_L,L)\n",
    "C = ceo.Mapping(xy=xyc ,z=zc_ext)(N_L,L)"
   ]
  },
  {
   "cell_type": "code",
   "execution_count": null,
   "metadata": {},
   "outputs": [],
   "source": [
    "OC = ceo.mapping.cat(O,C,[0]*6+[1])"
   ]
  },
  {
   "cell_type": "code",
   "execution_count": null,
   "metadata": {},
   "outputs": [],
   "source": [
    "OC.dump('bending modes')"
   ]
  },
  {
   "cell_type": "code",
   "execution_count": null,
   "metadata": {},
   "outputs": [],
   "source": [
    "import numpy as np\n",
    "import ceo\n",
    "import matplotlib.pyplot as plt\n",
    "%matplotlib inline"
   ]
  },
  {
   "cell_type": "code",
   "execution_count": null,
   "metadata": {},
   "outputs": [],
   "source": [
    "gmt = ceo.GMT_MX(M1_mirror_modes= modes ,M1_N_MODE=27)"
   ]
  },
  {
   "cell_type": "code",
   "execution_count": null,
   "metadata": {},
   "outputs": [],
   "source": [
    "src = ceo.Source('V',rays_box_sampling=48*16+1,rays_box_size=25.5,rays_origin=[0,0,25])\n",
    "src>>(gmt,)\n",
    "~gmt\n",
    "\n",
    "gmt.M1.modes.a[:,0] = 1e-5\n",
    "gmt.M1.modes.update()\n",
    "+src\n",
    "\n",
    "plt.imshow(src.phase.host(units='nm'))\n",
    "plt.colorbar();"
   ]
  }
 ],
 "metadata": {
  "kernelspec": {
   "display_name": "Python 3",
   "language": "python",
   "name": "python3"
  },
  "language_info": {
   "codemirror_mode": {
    "name": "ipython",
    "version": 3
   },
   "file_extension": ".py",
   "mimetype": "text/x-python",
   "name": "python",
   "nbconvert_exporter": "python",
   "pygments_lexer": "ipython3",
   "version": "3.7.4"
  }
 },
 "nbformat": 4,
 "nbformat_minor": 4
}
