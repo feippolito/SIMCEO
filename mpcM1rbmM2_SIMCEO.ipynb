{
 "cells": [
  {
   "cell_type": "markdown",
   "metadata": {},
   "source": [
    "### Load required libraries and define simulations settings path"
   ]
  },
  {
   "cell_type": "code",
   "execution_count": 1,
   "metadata": {},
   "outputs": [],
   "source": [
    "import numpy as np\n",
    "import scipy.sparse as sparse\n",
    "import pickle\n",
    "\n",
    "sim_folder = './dos/mpcM1rbmM2coupled'"
   ]
  },
  {
   "cell_type": "markdown",
   "metadata": {},
   "source": [
    "### MPC controller settings"
   ]
  },
  {
   "cell_type": "code",
   "execution_count": null,
   "metadata": {},
   "outputs": [],
   "source": [
    "from pathlib import Path\n",
    "\n",
    "# Plant dynamic model matrices\n",
    "A = np.zeros((84,84))\n",
    "B = np.identity(84)\n",
    "nx,nu = A.shape[0], B.shape[1]\n",
    "\n",
    "# MPC settings\n",
    "# Prediction horizon\n",
    "npred = 4\n",
    "# Weighting matrices\n",
    "Q = (0.2/npred)*sparse.block_diag([1]*nx)\n",
    "R = (1/npred)*sparse.block_diag([1]*nu)\n",
    "# Controller output constraints\n",
    "dumin, dumax = -0.25*np.ones(nu), 0.25*np.ones(nu)\n",
    "umin, umax = -2*np.ones(nu), 2*np.ones(nu)\n",
    "\n",
    "# MPC dictionary\n",
    "data = {'MPC':{'A':A,'B':B,'Q':Q,'R':R,\n",
    "              'npred':npred,\n",
    "               'dumin':dumin,'dumax':dumax,\n",
    "               'umin':umin,'umax':umax}}\n",
    "# Pickles MPC data into string representation\n",
    "with open(Path(sim_folder)/'MPC.pickle','wb') as f:\n",
    "    pickle.dump(data,f)"
   ]
  },
  {
   "cell_type": "markdown",
   "metadata": {},
   "source": [
    "### Load DOS and define define folder with simulation settings"
   ]
  },
  {
   "cell_type": "code",
   "execution_count": 2,
   "metadata": {},
   "outputs": [
    {
     "name": "stderr",
     "output_type": "stream",
     "text": [
      "INFO:DOS:Reading config from ./dos/mpcM1rbmM2coupled/dos.yaml\n"
     ]
    },
    {
     "ename": "KeyboardInterrupt",
     "evalue": "",
     "output_type": "error",
     "traceback": [
      "\u001b[0;31m---------------------------------------------------------------------------\u001b[0m",
      "\u001b[0;31mKeyboardInterrupt\u001b[0m                         Traceback (most recent call last)",
      "\u001b[0;32m<ipython-input-2-e74aa5345592>\u001b[0m in \u001b[0;36m<module>\u001b[0;34m\u001b[0m\n\u001b[1;32m      2\u001b[0m \u001b[0;34m\u001b[0m\u001b[0m\n\u001b[1;32m      3\u001b[0m \u001b[0;32mimport\u001b[0m \u001b[0mdos\u001b[0m\u001b[0;34m\u001b[0m\u001b[0;34m\u001b[0m\u001b[0m\n\u001b[0;32m----> 4\u001b[0;31m \u001b[0msim\u001b[0m \u001b[0;34m=\u001b[0m \u001b[0mdos\u001b[0m\u001b[0;34m.\u001b[0m\u001b[0mDOS\u001b[0m\u001b[0;34m(\u001b[0m\u001b[0msim_folder\u001b[0m\u001b[0;34m,\u001b[0m\u001b[0mverbose\u001b[0m\u001b[0;34m=\u001b[0m\u001b[0mlogging\u001b[0m\u001b[0;34m.\u001b[0m\u001b[0mINFO\u001b[0m\u001b[0;34m,\u001b[0m\u001b[0mshow_timing\u001b[0m\u001b[0;34m=\u001b[0m\u001b[0;36m0\u001b[0m\u001b[0;34m)\u001b[0m\u001b[0;34m\u001b[0m\u001b[0;34m\u001b[0m\u001b[0m\n\u001b[0m",
      "\u001b[0;32m~/Workspace/SIMCEO/dos/dos.py\u001b[0m in \u001b[0;36m__init__\u001b[0;34m(self, path_to_config_dir, verbose, show_timing)\u001b[0m\n\u001b[1;32m     43\u001b[0m         \u001b[0mself\u001b[0m\u001b[0;34m.\u001b[0m\u001b[0magent\u001b[0m \u001b[0;34m=\u001b[0m \u001b[0;32mNone\u001b[0m\u001b[0;34m\u001b[0m\u001b[0;34m\u001b[0m\u001b[0m\n\u001b[1;32m     44\u001b[0m         \u001b[0;32mif\u001b[0m \u001b[0mshow_timing\u001b[0m \u001b[0;32min\u001b[0m \u001b[0;34m[\u001b[0m\u001b[0;36m0\u001b[0m\u001b[0;34m,\u001b[0m\u001b[0;36m2\u001b[0m\u001b[0;34m]\u001b[0m\u001b[0;34m:\u001b[0m\u001b[0;34m\u001b[0m\u001b[0;34m\u001b[0m\u001b[0m\n\u001b[0;32m---> 45\u001b[0;31m             \u001b[0mself\u001b[0m\u001b[0;34m.\u001b[0m\u001b[0magent\u001b[0m \u001b[0;34m=\u001b[0m \u001b[0mbroker\u001b[0m\u001b[0;34m(\u001b[0m\u001b[0mself\u001b[0m\u001b[0;34m.\u001b[0m\u001b[0mcfg\u001b[0m\u001b[0;34m[\u001b[0m\u001b[0;34m'simulation'\u001b[0m\u001b[0;34m]\u001b[0m\u001b[0;34m[\u001b[0m\u001b[0;34m'server'\u001b[0m\u001b[0;34m]\u001b[0m\u001b[0;34m[\u001b[0m\u001b[0;34m'IP'\u001b[0m\u001b[0;34m]\u001b[0m\u001b[0;34m)\u001b[0m\u001b[0;34m\u001b[0m\u001b[0;34m\u001b[0m\u001b[0m\n\u001b[0m\u001b[1;32m     46\u001b[0m \u001b[0;34m\u001b[0m\u001b[0m\n\u001b[1;32m     47\u001b[0m         self.N_SAMPLE = int(self.cfg['simulation']['sampling frequency']*\n",
      "\u001b[0;32m~/Workspace/SIMCEO/dos/dos.py\u001b[0m in \u001b[0;36m__init__\u001b[0;34m(self, IP)\u001b[0m\n\u001b[1;32m    272\u001b[0m         \u001b[0mself\u001b[0m\u001b[0;34m.\u001b[0m\u001b[0msocket\u001b[0m\u001b[0;34m.\u001b[0m\u001b[0mconnect\u001b[0m\u001b[0;34m(\u001b[0m\u001b[0;34m\"tcp://{}:3650\"\u001b[0m\u001b[0;34m.\u001b[0m\u001b[0mformat\u001b[0m\u001b[0;34m(\u001b[0m\u001b[0mIP\u001b[0m\u001b[0;34m)\u001b[0m\u001b[0;34m)\u001b[0m\u001b[0;34m\u001b[0m\u001b[0;34m\u001b[0m\u001b[0m\n\u001b[1;32m    273\u001b[0m         \u001b[0mself\u001b[0m\u001b[0;34m.\u001b[0m\u001b[0m_send_\u001b[0m\u001b[0;34m(\u001b[0m\u001b[0;34m\"Acknowledging connection from SIMCEO client!\"\u001b[0m\u001b[0;34m)\u001b[0m\u001b[0;34m\u001b[0m\u001b[0;34m\u001b[0m\u001b[0m\n\u001b[0;32m--> 274\u001b[0;31m         \u001b[0mprint\u001b[0m\u001b[0;34m(\u001b[0m\u001b[0mself\u001b[0m\u001b[0;34m.\u001b[0m\u001b[0m_recv_\u001b[0m\u001b[0;34m(\u001b[0m\u001b[0;34m)\u001b[0m\u001b[0;34m)\u001b[0m\u001b[0;34m\u001b[0m\u001b[0;34m\u001b[0m\u001b[0m\n\u001b[0m\u001b[1;32m    275\u001b[0m \u001b[0;34m\u001b[0m\u001b[0m\n\u001b[1;32m    276\u001b[0m     \u001b[0;32mdef\u001b[0m \u001b[0m__del__\u001b[0m\u001b[0;34m(\u001b[0m\u001b[0mself\u001b[0m\u001b[0;34m)\u001b[0m\u001b[0;34m:\u001b[0m\u001b[0;34m\u001b[0m\u001b[0;34m\u001b[0m\u001b[0m\n",
      "\u001b[0;32m~/Workspace/SIMCEO/dos/dos.py\u001b[0m in \u001b[0;36m_recv_\u001b[0;34m(self, flags)\u001b[0m\n\u001b[1;32m    285\u001b[0m \u001b[0;34m\u001b[0m\u001b[0m\n\u001b[1;32m    286\u001b[0m     \u001b[0;32mdef\u001b[0m \u001b[0m_recv_\u001b[0m\u001b[0;34m(\u001b[0m\u001b[0mself\u001b[0m\u001b[0;34m,\u001b[0m\u001b[0mflags\u001b[0m\u001b[0;34m=\u001b[0m\u001b[0;36m0\u001b[0m\u001b[0;34m)\u001b[0m\u001b[0;34m:\u001b[0m\u001b[0;34m\u001b[0m\u001b[0;34m\u001b[0m\u001b[0m\n\u001b[0;32m--> 287\u001b[0;31m         \u001b[0mzobj\u001b[0m \u001b[0;34m=\u001b[0m \u001b[0mself\u001b[0m\u001b[0;34m.\u001b[0m\u001b[0msocket\u001b[0m\u001b[0;34m.\u001b[0m\u001b[0mrecv\u001b[0m\u001b[0;34m(\u001b[0m\u001b[0mflags\u001b[0m\u001b[0;34m)\u001b[0m\u001b[0;34m\u001b[0m\u001b[0;34m\u001b[0m\u001b[0m\n\u001b[0m\u001b[1;32m    288\u001b[0m         \u001b[0mpobj\u001b[0m \u001b[0;34m=\u001b[0m \u001b[0mzlib\u001b[0m\u001b[0;34m.\u001b[0m\u001b[0mdecompress\u001b[0m\u001b[0;34m(\u001b[0m\u001b[0mzobj\u001b[0m\u001b[0;34m)\u001b[0m\u001b[0;34m\u001b[0m\u001b[0;34m\u001b[0m\u001b[0m\n\u001b[1;32m    289\u001b[0m         \u001b[0;32mreturn\u001b[0m \u001b[0mpickle\u001b[0m\u001b[0;34m.\u001b[0m\u001b[0mloads\u001b[0m\u001b[0;34m(\u001b[0m\u001b[0mpobj\u001b[0m\u001b[0;34m)\u001b[0m\u001b[0;34m\u001b[0m\u001b[0;34m\u001b[0m\u001b[0m\n",
      "\u001b[0;32mzmq/backend/cython/socket.pyx\u001b[0m in \u001b[0;36mzmq.backend.cython.socket.Socket.recv\u001b[0;34m()\u001b[0m\n",
      "\u001b[0;32mzmq/backend/cython/socket.pyx\u001b[0m in \u001b[0;36mzmq.backend.cython.socket.Socket.recv\u001b[0;34m()\u001b[0m\n",
      "\u001b[0;32mzmq/backend/cython/socket.pyx\u001b[0m in \u001b[0;36mzmq.backend.cython.socket._recv_copy\u001b[0;34m()\u001b[0m\n",
      "\u001b[0;32m~/anaconda3/lib/python3.7/site-packages/zmq/backend/cython/checkrc.pxd\u001b[0m in \u001b[0;36mzmq.backend.cython.checkrc._check_rc\u001b[0;34m()\u001b[0m\n",
      "\u001b[0;31mKeyboardInterrupt\u001b[0m: "
     ]
    }
   ],
   "source": [
    "import logging\n",
    "\n",
    "import dos\n",
    "sim = dos.DOS(sim_folder,verbose=logging.INFO,show_timing=0)"
   ]
  },
  {
   "cell_type": "code",
   "execution_count": null,
   "metadata": {},
   "outputs": [],
   "source": [
    "sim.push()"
   ]
  },
  {
   "cell_type": "code",
   "execution_count": null,
   "metadata": {},
   "outputs": [],
   "source": [
    "sim.init()"
   ]
  },
  {
   "cell_type": "code",
   "execution_count": null,
   "metadata": {},
   "outputs": [],
   "source": [
    "sim.terminate()"
   ]
  },
  {
   "cell_type": "code",
   "execution_count": null,
   "metadata": {},
   "outputs": [],
   "source": [
    "# Start simulation\n",
    "sim.start()"
   ]
  },
  {
   "cell_type": "markdown",
   "metadata": {},
   "source": [
    "### Steady-state behavior"
   ]
  },
  {
   "cell_type": "code",
   "execution_count": null,
   "metadata": {},
   "outputs": [],
   "source": [
    "M12_RBM = sim.logs.entries['wfs48']['M12_RBM'].timeSeries\n",
    "M1_Txyz, M1_Rxyz = M12_RBM[1][:,:21], M12_RBM[1][:,21:42]\n",
    "M2_Txyz, M2_Rxyz = M12_RBM[1][:,42:63], M12_RBM[1][:,63:]\n",
    "scale = 1.0e6\n",
    "\n",
    "print('M1 Txyz:')\n",
    "for k in range(7):\n",
    "    print('Seg#',k+1,':',scale*M1_Txyz[-1,0+(k*3):3+(k*3)])\n",
    "    \n",
    "print('\\n M1 Rxyz:')\n",
    "for k in range(7):\n",
    "    print('Seg#',k+1,':',scale*M1_Rxyz[-1,0+(k*3):3+(k*3)])\n",
    "    \n",
    "print('\\n M2 Txyz:')\n",
    "for k in range(7):\n",
    "    print('Seg#',k+1,':',scale*M2_Txyz[-1,0+(k*3):3+(k*3)])\n",
    "    \n",
    "print('\\n M2 Rxyz:')\n",
    "for k in range(7):\n",
    "    print('Seg#',k+1,':',scale*M2_Rxyz[-1,0+(k*3):3+(k*3)])"
   ]
  },
  {
   "cell_type": "code",
   "execution_count": null,
   "metadata": {},
   "outputs": [],
   "source": []
  },
  {
   "cell_type": "markdown",
   "metadata": {},
   "source": [
    "### Plot simulation results\n",
    "#### Mirror states"
   ]
  },
  {
   "cell_type": "code",
   "execution_count": null,
   "metadata": {},
   "outputs": [],
   "source": [
    "# Plot mirror states\n",
    "import matplotlib.pyplot as plt\n",
    "\n",
    "plt.figure(figsize=(16,10))\n",
    "plt.subplot(221)\n",
    "plt.plot(M12_RBM[0],M1_Txyz,'.--')\n",
    "plt.grid(True)\n",
    "plt.ylabel('M1 Txyz state')\n",
    "    \n",
    "plt.subplot(222)\n",
    "plt.plot(M12_RBM[0],M1_Rxyz,'.--')\n",
    "plt.grid(True)\n",
    "plt.ylabel('M1 Rxyz state')    \n",
    "\n",
    "plt.figure(figsize=(16,5))\n",
    "plt.subplot(223)\n",
    "plt.plot(M12_RBM[0],M2_Txyz,'.--')\n",
    "plt.grid(True)\n",
    "plt.ylabel('M2 Txyz state')\n",
    "    \n",
    "plt.subplot(224)\n",
    "plt.plot(M12_RBM[0],M2_Rxyz,'.--')\n",
    "plt.grid(True)\n",
    "plt.ylabel('M2 Rxyz state')   \n",
    "plt.show()"
   ]
  },
  {
   "cell_type": "code",
   "execution_count": null,
   "metadata": {
    "scrolled": true
   },
   "outputs": [],
   "source": [
    "# Plot controller outputs\n",
    "u2Txyz = sim.logs.entries['MPC']['M2 Txyz'].timeSeries\n",
    "u2Rxyz = sim.logs.entries['MPC']['M2 Rxyz'].timeSeries\n",
    "u1Txyz = sim.logs.entries['MPC']['M1 Txyz'].timeSeries\n",
    "u1Rxyz = sim.logs.entries['MPC']['M1 Rxyz'].timeSeries\n",
    "\n",
    "fig = plt.figure(figsize=(16,5))\n",
    "\n",
    "plt1, plt2, plt3, plt4 = fig.add_subplot(221), fig.add_subplot(222), fig.add_subplot(223), fig.add_subplot(224)\n",
    "\n",
    "for k in range(7):\n",
    "    for kk in range(3):\n",
    "        #Txyz\n",
    "        plt1.plot(u1Txyz[1][k,kk,:],'.--')\n",
    "        plt1.grid(True)\n",
    "        plt1.set_ylabel('M1 Txyz cmd')\n",
    "        plt1.autoscale(enable=True, axis='y')\n",
    "        #Rxyz\n",
    "        plt2.plot(u1Rxyz[1][k,kk,:],'.--')\n",
    "        plt2.grid(True)\n",
    "        plt2.set_ylabel('M1 Rxyz cmd')\n",
    "        #Txyz\n",
    "        plt3.plot(u2Txyz[1][k,kk,:],'.--')\n",
    "        plt3.grid(True)\n",
    "        plt3.set_ylabel('M2 Txyz cmd')\n",
    "        plt3.autoscale(enable=True, axis='y')\n",
    "        #Rxyz\n",
    "        plt4.plot(u2Rxyz[1][k,kk,:],'.--')\n",
    "        plt4.grid(True)\n",
    "        plt4.set_ylabel('M2 Rxyz cmd')\n",
    "\n",
    "plt.show()"
   ]
  },
  {
   "cell_type": "code",
   "execution_count": null,
   "metadata": {},
   "outputs": [],
   "source": [
    "# Plot segment 1 mirror states\n",
    "import matplotlib.pyplot as plt\n",
    "\n",
    "M2_RBM = sim.logs.entries['wfs48']['M12_RBM'].timeSeries\n",
    "M2_Txyz = M2_RBM[1][:,:3]\n",
    "M2_Rxyz = M2_RBM[1][:,21:24]\n",
    "\n",
    "plt.figure(figsize=(16,5))\n",
    "\n",
    "plt.subplot(211)\n",
    "plt.plot(M2_RBM[0],M2_Txyz,'.--')\n",
    "plt.grid(True)\n",
    "plt.ylabel('M2 Txyz state')\n",
    "    \n",
    "plt.subplot(212)\n",
    "plt.plot(M2_RBM[0],M2_Rxyz,'.--')\n",
    "plt.grid(True)\n",
    "plt.ylabel('M2 Rxyz state')\n",
    "    \n",
    "plt.show()"
   ]
  },
  {
   "cell_type": "code",
   "execution_count": null,
   "metadata": {},
   "outputs": [],
   "source": []
  }
 ],
 "metadata": {
  "celltoolbar": "Raw Cell Format",
  "kernelspec": {
   "display_name": "Python 3",
   "language": "python",
   "name": "python3"
  },
  "language_info": {
   "codemirror_mode": {
    "name": "ipython",
    "version": 3
   },
   "file_extension": ".py",
   "mimetype": "text/x-python",
   "name": "python",
   "nbconvert_exporter": "python",
   "pygments_lexer": "ipython3",
   "version": "3.7.3"
  }
 },
 "nbformat": 4,
 "nbformat_minor": 2
}
