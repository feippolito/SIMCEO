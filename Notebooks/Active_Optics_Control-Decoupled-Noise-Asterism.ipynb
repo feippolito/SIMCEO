{
 "cells": [
  {
   "cell_type": "markdown",
   "metadata": {},
   "source": [
    "# ACTIVE OPTICS CONTROL"
   ]
  },
  {
   "cell_type": "code",
   "execution_count": 1,
   "metadata": {
    "collapsed": false
   },
   "outputs": [
    {
     "data": {
      "text/plain": [
       "<module 'ceo' from '/home/ubuntu/CEO/python/ceo/__init__.pyc'>"
      ]
     },
     "execution_count": 1,
     "metadata": {},
     "output_type": "execute_result"
    }
   ],
   "source": [
    "import numpy as np\n",
    "import numpy.linalg as LA\n",
    "import ceo\n",
    "import matplotlib.pyplot as plt\n",
    "import json\n",
    "import sys\n",
    "import time\n",
    "import ubjson\n",
    "from IPython.display import display, clear_output\n",
    "%matplotlib inline\n",
    "reload(ceo)"
   ]
  },
  {
   "cell_type": "markdown",
   "metadata": {},
   "source": [
    "## Simulation sampling time, WFSs exposure and simulation duration [s]"
   ]
  },
  {
   "cell_type": "code",
   "execution_count": 2,
   "metadata": {
    "collapsed": true
   },
   "outputs": [],
   "source": [
    "samplingTime = 1/200.0\n",
    "wfsExposureTime = 15\n",
    "simDuration = 15*5+1\n",
    "wfsDelay = 1"
   ]
  },
  {
   "cell_type": "markdown",
   "metadata": {},
   "source": [
    "# PARAMETERS"
   ]
  },
  {
   "cell_type": "markdown",
   "metadata": {},
   "source": [
    "* Pupil size"
   ]
  },
  {
   "cell_type": "code",
   "execution_count": 3,
   "metadata": {
    "collapsed": true
   },
   "outputs": [],
   "source": [
    "pupil_size = 25.5"
   ]
  },
  {
   "cell_type": "markdown",
   "metadata": {},
   "source": [
    "- atmosphere or not"
   ]
  },
  {
   "cell_type": "code",
   "execution_count": 4,
   "metadata": {
    "collapsed": true
   },
   "outputs": [],
   "source": [
    "WITH_ATMOSPHERE = False"
   ]
  },
  {
   "cell_type": "markdown",
   "metadata": {},
   "source": [
    "* diffractive or geometric TT7"
   ]
  },
  {
   "cell_type": "code",
   "execution_count": 5,
   "metadata": {
    "collapsed": true
   },
   "outputs": [],
   "source": [
    "TT7_CLASS = \"TT7\" # diffractive model\n",
    "#TT7_CLASS = \"GeometricTT7\" # geometric model"
   ]
  },
  {
   "cell_type": "markdown",
   "metadata": {},
   "source": [
    " - initial segments misalignment or not"
   ]
  },
  {
   "cell_type": "code",
   "execution_count": 6,
   "metadata": {
    "collapsed": true
   },
   "outputs": [],
   "source": [
    "WITH_MISALIGNMENT = False\n",
    "if WITH_MISALIGNMENT:\n",
    "    TT7_CLASS = \"GeometricTT7\""
   ]
  },
  {
   "cell_type": "markdown",
   "metadata": {},
   "source": [
    "## GMT"
   ]
  },
  {
   "cell_type": "code",
   "execution_count": 7,
   "metadata": {
    "collapsed": true
   },
   "outputs": [],
   "source": [
    "gmt_prms = {'M1_mirror_modes':u\"bending modes\",'M1_N_MODE':42}"
   ]
  },
  {
   "cell_type": "markdown",
   "metadata": {},
   "source": [
    "## Optical paths\n",
    "\n",
    "### On-axis imager"
   ]
  },
  {
   "cell_type": "code",
   "execution_count": 8,
   "metadata": {
    "collapsed": false
   },
   "outputs": [],
   "source": [
    "if WITH_ATMOSPHERE:\n",
    "    on_axis_imgr = {'N_SIDE_LENSLET':1,\"N_PX_PUPIL\":511,\n",
    "                   'N_PX_IMAGE':1001,'intensityThreshold':0.0}\n",
    "else:\n",
    "    on_axis_imgr = {'N_SIDE_LENSLET':1,\"N_PX_PUPIL\":255,\n",
    "                   'DFT_osf':4,'N_PX_IMAGE':401,'intensityThreshold':0.0}    \n",
    "on_axis_src = {'photometric_band':\"V\",'zenith':[0],'azimuth':[0],\n",
    "               'fwhm':0,'magnitude':0,'rays_box_size':pupil_size,\n",
    "               'rays_box_sampling':on_axis_imgr['N_PX_PUPIL']+1,'rays_origin':[0,0,25],\n",
    "               'samplingTime':samplingTime}"
   ]
  },
  {
   "cell_type": "markdown",
   "metadata": {},
   "source": [
    "### WFSs"
   ]
  },
  {
   "cell_type": "code",
   "execution_count": 9,
   "metadata": {
    "collapsed": false
   },
   "outputs": [
    {
     "name": "stdout",
     "output_type": "stream",
     "text": [
      "Asterism ID: 88\n"
     ]
    }
   ],
   "source": [
    "import csv\n",
    "_asterism_zenith = []\n",
    "_asterism_azimuth = []\n",
    "_asterism_magnitude = []\n",
    "with open('asterisms_agws', 'rb') as csvfile:\n",
    "    asterisms = csv.reader(csvfile)\n",
    "    for row in asterisms:\n",
    "        _asterism_zenith.append( float(row[0])*ceo.constants.ARCMIN2RAD )\n",
    "        _asterism_azimuth.append( float(row[1]) )\n",
    "        _asterism_magnitude.append( float(row[2]) )\n",
    "\n",
    "asterism_id = np.load('asterism_id.npy')\n",
    "print \"Asterism ID: %d\"%asterism_id\n",
    "\n",
    "asterism_zenith = _asterism_zenith[asterism_id*4:(1+asterism_id)*4]\n",
    "asterism_azimuth = _asterism_azimuth[asterism_id*4:(1+asterism_id)*4]\n",
    "asterism_magnitude = _asterism_magnitude[asterism_id*4:(1+asterism_id)*4]\n",
    "\n",
    "asterism_zenith,asterism_azimuth,asterism_magnitude = \\\n",
    "    zip(*sorted(zip(asterism_zenith,asterism_azimuth,asterism_magnitude),reverse=True))"
   ]
  },
  {
   "cell_type": "code",
   "execution_count": 10,
   "metadata": {
    "collapsed": false
   },
   "outputs": [],
   "source": [
    "#asterism_id = 40\n",
    "asterism_id += 1\n",
    "np.save('asterism_id',asterism_id)"
   ]
  },
  {
   "cell_type": "code",
   "execution_count": 11,
   "metadata": {
    "collapsed": false
   },
   "outputs": [],
   "source": [
    "wfs_nLenslet = 48\n",
    "wfs_prms = {'N_SIDE_LENSLET':wfs_nLenslet,\"N_PX_LENSLET\":16,'d':pupil_size/wfs_nLenslet,\n",
    "           'DFT_osf':2,'N_PX_IMAGE':24,'BIN_IMAGE':3,'N_GS': 3,\n",
    "           'readOutNoiseRms':0.5,'noiseFactor':np.sqrt(2),\n",
    "           'photoElectronGain':0.63, 'exposureTime':wfsExposureTime,\n",
    "           'intensityThreshold':0.0}\n",
    "\n",
    "zen = np.ones(3)*ceo.constants.ARCMIN2RAD*6\n",
    "azi = np.arange(3)*2*np.pi/3\n",
    "wfs_guide_stars = {'photometric_band':\"R+I\",'zenith':asterism_zenith[:3],\n",
    "                   'azimuth':asterism_azimuth[:3],\n",
    "                   'fwhm':0,'magnitude':asterism_magnitude[:3],'rays_box_size':pupil_size,\n",
    "                   'rays_box_sampling':wfs_prms['N_SIDE_LENSLET']*wfs_prms['N_PX_LENSLET']+1,\n",
    "                   'rays_origin':[0,0,25],'samplingTime':samplingTime}"
   ]
  },
  {
   "cell_type": "markdown",
   "metadata": {},
   "source": [
    "### TT7"
   ]
  },
  {
   "cell_type": "code",
   "execution_count": 12,
   "metadata": {
    "collapsed": false
   },
   "outputs": [],
   "source": [
    "tt7_prms = {\"N_PX_LENSLET\":1023,'d':pupil_size,\n",
    "           'N_PX_IMAGE':142*5,'BIN_IMAGE':142,\n",
    "            'readOutNoiseRms':0.5,'photoElectronGain':0.66,\n",
    "            'exposureTime':samplingTime,'intensityThreshold':0.0}\n",
    "\n",
    "zen = ceo.constants.ARCMIN2RAD*6\n",
    "azi = np.pi\n",
    "tt7_guide_star = {'photometric_band':\"R+I\",'zenith':asterism_zenith[-1],\n",
    "                  'azimuth':asterism_azimuth[-1],\n",
    "                  'fwhm':0,'magnitude':asterism_magnitude[-1],'rays_box_size':pupil_size,\n",
    "                  'rays_box_sampling':tt7_prms['N_PX_LENSLET']+1,'rays_origin':[0,0,25],\n",
    "                  'samplingTime':samplingTime}"
   ]
  },
  {
   "cell_type": "markdown",
   "metadata": {},
   "source": [
    "## Atmosphere"
   ]
  },
  {
   "cell_type": "code",
   "execution_count": 13,
   "metadata": {
    "collapsed": false
   },
   "outputs": [],
   "source": [
    "r0 = 12.8e-2 \n",
    "r0_wavelength = 500e-9\n",
    "if WITH_ATMOSPHERE:\n",
    "    atm_prms = dict(jsonfile='/mnt/bins/gmtAtmosphereL060.json',\n",
    "                    zipdata='s3://gmto.rconan/gmtAtmosphereL060.zip',\n",
    "                    cache='/mnt/bins/')\n",
    "else:\n",
    "    atm_prms = {}"
   ]
  },
  {
   "cell_type": "markdown",
   "metadata": {},
   "source": [
    "## JSON parameter files"
   ]
  },
  {
   "cell_type": "code",
   "execution_count": 14,
   "metadata": {
    "collapsed": false
   },
   "outputs": [],
   "source": [
    "config = {'GMT':gmt_prms, \n",
    "          'ON_AXIS_SRC':on_axis_src, 'ON_AXIS_IMGR':on_axis_imgr,\n",
    "          'WFS_GUIDE_STARS': wfs_guide_stars, 'WFS':wfs_prms,\n",
    "          'TT7_GUIDE_STAR': tt7_guide_star, 'TT7':tt7_prms,\n",
    "          'ATMOSPHERE':atm_prms}"
   ]
  },
  {
   "cell_type": "code",
   "execution_count": 15,
   "metadata": {
    "collapsed": false
   },
   "outputs": [
    {
     "name": "stdout",
     "output_type": "stream",
     "text": [
      ">>> AcO_ON_AXIS_SRC.json\n",
      ">>> AcO_ON_AXIS_SRC.ubj\n",
      ">>> AcO_ATMOSPHERE.json\n",
      ">>> AcO_ATMOSPHERE.ubj\n",
      ">>> AcO_WFS_GUIDE_STARS.json\n",
      ">>> AcO_WFS_GUIDE_STARS.ubj\n",
      ">>> AcO_WFS.json\n",
      ">>> AcO_WFS.ubj\n",
      ">>> AcO_ON_AXIS_IMGR.json\n",
      ">>> AcO_ON_AXIS_IMGR.ubj\n",
      ">>> AcO_TT7_GUIDE_STAR.json\n",
      ">>> AcO_TT7_GUIDE_STAR.ubj\n",
      ">>> AcO_TT7.json\n",
      ">>> AcO_TT7.ubj\n",
      ">>> AcO_GMT.json\n",
      ">>> AcO_GMT.ubj\n"
     ]
    }
   ],
   "source": [
    "for key in config:\n",
    "    with open('AcO_'+key+'.json', 'w') as outfile:\n",
    "        print \">>> \"+outfile.name\n",
    "        json.dump(config[key], outfile, sort_keys = False, indent = 4, ensure_ascii=False)        \n",
    "    with open('AcO_'+key+'.ubj', 'w') as outfile:\n",
    "        print \">>> \"+outfile.name\n",
    "        ubjson.dump(config[key], outfile)"
   ]
  },
  {
   "cell_type": "markdown",
   "metadata": {},
   "source": [
    "# OBJECT DEFINITIONS"
   ]
  },
  {
   "cell_type": "code",
   "execution_count": 16,
   "metadata": {
    "collapsed": false
   },
   "outputs": [],
   "source": [
    "gmt = ceo.GMT_MX(**gmt_prms)"
   ]
  },
  {
   "cell_type": "code",
   "execution_count": 17,
   "metadata": {
    "collapsed": false
   },
   "outputs": [],
   "source": [
    "gs0 = ceo.Source(**on_axis_src)\n",
    "imgr = ceo.Imaging(**on_axis_imgr)"
   ]
  },
  {
   "cell_type": "code",
   "execution_count": 18,
   "metadata": {
    "collapsed": false
   },
   "outputs": [],
   "source": [
    "gs = ceo.Source(**wfs_guide_stars)\n",
    "wfs = ceo.ShackHartmann(**wfs_prms)"
   ]
  },
  {
   "cell_type": "code",
   "execution_count": 19,
   "metadata": {
    "collapsed": false
   },
   "outputs": [],
   "source": [
    "tt7_gs = ceo.Source(**tt7_guide_star)\n",
    "if TT7_CLASS=='TT7':\n",
    "    tt7 = ceo.TT7(**tt7_prms)\n",
    "if TT7_CLASS=='GeometricTT7':\n",
    "    tt7 = ceo.GeometricTT7()"
   ]
  },
  {
   "cell_type": "code",
   "execution_count": null,
   "metadata": {
    "collapsed": false
   },
   "outputs": [],
   "source": [
    "if WITH_ATMOSPHERE:\n",
    "    atm = ceo.JGmtAtmosphere(**atm_prms)\n",
    "    atm.r0 = r0\n",
    "    gs0.timeStamp = 0\n",
    "    gs0>>(atm,)\n",
    "    +gs0\n",
    "    plt.imshow(gs0.phase.host(units='nm'),interpolation='none',cmap='viridis')\n",
    "    plt.colorbar()\n",
    "else:\n",
    "    atm = None"
   ]
  },
  {
   "cell_type": "markdown",
   "metadata": {},
   "source": [
    "## GUIDE STARS"
   ]
  },
  {
   "cell_type": "code",
   "execution_count": null,
   "metadata": {
    "collapsed": false
   },
   "outputs": [],
   "source": [
    "fig = plt.figure(figsize=(8,8))\n",
    "ax = plt.subplot(111,polar=True)\n",
    "zen = np.concatenate([gs.zenith,tt7_gs.zenith])*ceo.constants.RAD2ARCMIN\n",
    "azi = np.concatenate([gs.azimuth,tt7_gs.azimuth])\n",
    "mag = np.concatenate([gs.magnitude,tt7_gs.magnitude])\n",
    "c = ax.scatter(azi,zen,c=mag,s=100,cmap=plt.cm.viridis)\n",
    "c.set_alpha(0.75)\n",
    "#c.set_edgecolor('None')\n",
    "plt.colorbar(c,ax=ax)"
   ]
  },
  {
   "cell_type": "markdown",
   "metadata": {},
   "source": [
    "# CALIBRATION"
   ]
  },
  {
   "cell_type": "markdown",
   "metadata": {},
   "source": [
    "## WFSs"
   ]
  },
  {
   "cell_type": "markdown",
   "metadata": {},
   "source": [
    "Seeing conversion to FWHM in detector pixel (before binning):"
   ]
  },
  {
   "cell_type": "code",
   "execution_count": null,
   "metadata": {
    "collapsed": false
   },
   "outputs": [],
   "source": [
    "_r0_ = r0*(gs.wavelength/r0_wavelength)**1.2\n",
    "seeingArcsec = gs.wavelength/_r0_*ceo.constants.RAD2ARCSEC\n",
    "print \"WFS seeing: %.2farcsec\"%seeingArcsec\n",
    "gs_fwhm = round(seeingArcsec/(wfs.camera.pixelScaleArcsec(gs)/wfs.BIN_IMAGE))\n",
    "print \"WFS FWHM: %d pixel\"%gs_fwhm\n",
    "gs.fwhm = gs_fwhm"
   ]
  },
  {
   "cell_type": "markdown",
   "metadata": {},
   "source": [
    "### Reference slopes"
   ]
  },
  {
   "cell_type": "code",
   "execution_count": null,
   "metadata": {
    "collapsed": false
   },
   "outputs": [],
   "source": [
    "gs.reset()\n",
    "gmt.reset()\n",
    "gmt.propagate(gs)\n",
    "wfs.calibrate(gs,0.)\n",
    "print wfs.n_valid_lenslet"
   ]
  },
  {
   "cell_type": "code",
   "execution_count": null,
   "metadata": {
    "collapsed": false
   },
   "outputs": [],
   "source": [
    "print \"detector resolution: %dpixel\"%wfs.N_PX_FRAME\n",
    "print \"WFS pixel scale:  %.2farcsec\"%wfs.pixel_scale_arcsec\n",
    "print \"WFS field-of-view %.2farcsec\"%(wfs.pixel_scale_arcsec*wfs.N_PX_IMAGE/wfs.BIN_IMAGE)"
   ]
  },
  {
   "cell_type": "markdown",
   "metadata": {},
   "source": [
    "###  Interaction matrix (decoupled)"
   ]
  },
  {
   "cell_type": "code",
   "execution_count": null,
   "metadata": {
    "collapsed": false
   },
   "outputs": [],
   "source": [
    "%%time\n",
    "gwfs = ceo.GeometricShackHartmann(48,25.5/48,N_GS=gs.N_SRC)\n",
    "gs.reset()\n",
    "gmt.reset()\n",
    "gmt.propagate(gs)\n",
    "gwfs.calibrate(gs,0.)\n",
    "\n",
    "C = gmt.AGWS_calibrate(gwfs,gs,decoupled=True,fluxThreshold=0.5,\n",
    "                      calibrationVaultKwargs={'nThreshold':[2]*6+[0],\n",
    "                                              'insertZeros':[None]*6 + [[2,4,6]]})"
   ]
  },
  {
   "cell_type": "markdown",
   "metadata": {},
   "source": [
    "The following cell allows to save and to load the WFS interaction matrix"
   ]
  },
  {
   "cell_type": "raw",
   "metadata": {
    "collapsed": true
   },
   "source": [
    "import shelve\n",
    "db = shelve.open('AGWS_CALIB_DECOUPLED')\n",
    "#db['C'] = C # uncomment to save \n",
    "C = db['C'] # uncomment to load (and comment the line above)\n",
    "db.close()"
   ]
  },
  {
   "cell_type": "code",
   "execution_count": null,
   "metadata": {
    "collapsed": false
   },
   "outputs": [],
   "source": [
    "for k in range(7):\n",
    "    plt.semilogy(C.eigenValues[k],'o',alpha=0.25,label='Seg, #%d'%k)\n",
    "plt.grid()\n",
    "plt.legend(loc=0)\n",
    "plt.xlabel('Eigen modes')\n",
    "plt.ylabel('Eigen values')"
   ]
  },
  {
   "cell_type": "markdown",
   "metadata": {},
   "source": [
    "## TT7"
   ]
  },
  {
   "cell_type": "markdown",
   "metadata": {},
   "source": [
    "Seeing conversion to FWHM in detector pixel (before binning):"
   ]
  },
  {
   "cell_type": "code",
   "execution_count": null,
   "metadata": {
    "collapsed": false
   },
   "outputs": [],
   "source": [
    "if TT7_CLASS=='TT7':\n",
    "    _r0_ = r0*(tt7_gs.wavelength/r0_wavelength)**1.2\n",
    "    seeingArcsec = tt7_gs.wavelength/_r0_*ceo.constants.RAD2ARCSEC\n",
    "    print \"TT7 seeing: %.2farcsec\"%seeingArcsec\n",
    "    pxscl = tt7.camera.pixelScaleArcsec(tt7_gs)\n",
    "    tt7_gs_fwhm = round(seeingArcsec/(pxscl/tt7.BIN_IMAGE))\n",
    "    print \"WFS FWHM: %d pixel\"%tt7_gs_fwhm\n",
    "    tt7_gs.fwhm = tt7_gs_fwhm\n",
    "\n",
    "    print \"detector resolution: %dpixel\"%tt7.N_PX_FRAME\n",
    "    print \"WFS pixel scale:  %.2farcsec\"%pxscl\n",
    "    print \"WFS field-of-view %.2farcsec\"%(pxscl*tt7.N_PX_IMAGE/tt7.BIN_IMAGE)"
   ]
  },
  {
   "cell_type": "markdown",
   "metadata": {},
   "source": [
    "### Reference slopes"
   ]
  },
  {
   "cell_type": "code",
   "execution_count": null,
   "metadata": {
    "collapsed": false
   },
   "outputs": [],
   "source": [
    "tt7_gs.reset()\n",
    "gmt.reset()\n",
    "gmt.propagate(tt7_gs)\n",
    "tt7.reset()\n",
    "tt7.calibrate(tt7_gs)"
   ]
  },
  {
   "cell_type": "markdown",
   "metadata": {},
   "source": [
    "### Interaction matrix"
   ]
  },
  {
   "cell_type": "code",
   "execution_count": null,
   "metadata": {
    "collapsed": false
   },
   "outputs": [],
   "source": [
    "%%time\n",
    "Dtt7 = gmt.calibrate(tt7,tt7_gs,mirror = 'M2',mode='segment tip-tilt',stroke=1e-6)\n",
    "print Dtt7.shape\n",
    "print LA.cond(Dtt7)\n",
    "Mtt7 = LA.inv(Dtt7)"
   ]
  },
  {
   "cell_type": "code",
   "execution_count": null,
   "metadata": {
    "collapsed": false
   },
   "outputs": [],
   "source": [
    "plt.pcolor(Dtt7)\n",
    "plt.colorbar()"
   ]
  },
  {
   "cell_type": "markdown",
   "metadata": {},
   "source": [
    "# ON AXIS IMAGER"
   ]
  },
  {
   "cell_type": "code",
   "execution_count": 20,
   "metadata": {
    "collapsed": false
   },
   "outputs": [
    {
     "name": "stdout",
     "output_type": "stream",
     "text": [
      "OPTICAL PATH: ['GMT_MX', 'Imaging']\n",
      "detector resolution: 401pixel\n",
      "WFS pixel scale:  1.11mas\n",
      "WFS field-of-view 0.45arcsec\n",
      "EE80: 26.69mas\n"
     ]
    },
    {
     "data": {
      "image/png": "[encoded data removed]",
      "text/plain": [
       "<matplotlib.figure.Figure at 0x7fdaaee88c50>"
      ]
     },
     "metadata": {},
     "output_type": "display_data"
    }
   ],
   "source": [
    "gs0>>(gmt,imgr)\n",
    "~gmt\n",
    "~imgr\n",
    "+gs0\n",
    "print \"detector resolution: %dpixel\"%imgr.N_PX_FRAME\n",
    "print \"WFS pixel scale:  %.2fmas\"%(imgr.pixelScaleArcsec(gs0)*1e3)\n",
    "print \"WFS field-of-view %.2farcsec\"%(imgr.pixelScaleArcsec(gs0)*imgr.N_PX_IMAGE/imgr.BIN_IMAGE)\n",
    "ext = np.array([-1,1,-1,1])*imgr.N_PX_FRAME*0.5*imgr.pixelScaleArcsec(gs0)\n",
    "plt.imshow(imgr.frame.host(),interpolation='None',cmap='viridis',extent=ext)\n",
    "plt.colorbar()\n",
    "plt.xlabel('arcsec')\n",
    "plt.ylabel('arcsec')\n",
    "plt.grid(color='w',linestyle=':',alpha=0.5)\n",
    "ee80_0 = imgr.ee80(units=1e3*imgr.pixelScaleArcsec(gs0))\n",
    "print \"EE80: %.2fmas\"%ee80_0"
   ]
  },
  {
   "cell_type": "code",
   "execution_count": 21,
   "metadata": {
    "collapsed": false
   },
   "outputs": [
    {
     "name": "stdout",
     "output_type": "stream",
     "text": [
      "OPTICAL PATH: ['GMT_MX', 'Imaging']\n",
      "detector resolution: 401pixel\n",
      "WFS pixel scale:  1.11mas\n",
      "WFS field-of-view 0.45arcsec\n",
      "EE80: 26.69mas\n"
     ]
    },
    {
     "data": {
      "image/png": "[encoded data removed]",
      "text/plain": [
       "<matplotlib.figure.Figure at 0x7fdab14e6890>"
      ]
     },
     "metadata": {},
     "output_type": "display_data"
    }
   ],
   "source": [
    "gs0>>(gmt,imgr)\n",
    "~gmt\n",
    "~imgr\n",
    "+gs0\n",
    "+imgr\n",
    "print \"detector resolution: %dpixel\"%imgr.N_PX_FRAME\n",
    "print \"WFS pixel scale:  %.2fmas\"%(imgr.pixelScaleArcsec(gs0)*1e3)\n",
    "print \"WFS field-of-view %.2farcsec\"%(imgr.pixelScaleArcsec(gs0)*imgr.N_PX_IMAGE/imgr.BIN_IMAGE)\n",
    "ext = np.array([-1,1,-1,1])*imgr.N_PX_FRAME*0.5*imgr.pixelScaleArcsec(gs0)\n",
    "plt.imshow(imgr.ghost_frame,interpolation='None',cmap='viridis',extent=ext)\n",
    "plt.colorbar()\n",
    "plt.xlabel('arcsec')\n",
    "plt.ylabel('arcsec')\n",
    "plt.grid(color='w',linestyle=':',alpha=0.5)\n",
    "ee80_0 = imgr.ee80(units=1e3*imgr.pixelScaleArcsec(gs0),from_ghost=True)\n",
    "print \"EE80: %.2fmas\"%ee80_0"
   ]
  },
  {
   "cell_type": "code",
   "execution_count": 22,
   "metadata": {
    "collapsed": false
   },
   "outputs": [
    {
     "name": "stdout",
     "output_type": "stream",
     "text": [
      "OPTICAL PATH: ['GMT_MX']\n"
     ]
    }
   ],
   "source": [
    "gs>>(gmt,)"
   ]
  },
  {
   "cell_type": "code",
   "execution_count": 23,
   "metadata": {
    "collapsed": false
   },
   "outputs": [
    {
     "name": "stdout",
     "output_type": "stream",
     "text": [
      "CPU times: user 174 ms, sys: 125 ms, total: 299 ms\n",
      "Wall time: 299 ms\n"
     ]
    }
   ],
   "source": [
    "%%time\n",
    "gmt.reset()\n",
    "#gmt.M1.global_tiptilt(ceo.constants.ARCSEC2RAD,-2.7*ceo.constants.ARCSEC2RAD)\n",
    "+gs"
   ]
  },
  {
   "cell_type": "code",
   "execution_count": 24,
   "metadata": {
    "collapsed": true
   },
   "outputs": [],
   "source": [
    "gs.reset()\n",
    "gmt.reset()\n",
    "gmt.propagate(gs)"
   ]
  },
  {
   "cell_type": "code",
   "execution_count": 25,
   "metadata": {
    "collapsed": false
   },
   "outputs": [
    {
     "name": "stdout",
     "output_type": "stream",
     "text": [
      "[[-5.09752703]\n",
      " [-3.93040299]\n",
      " [ 0.7646808 ]\n",
      " [ 5.31951141]\n",
      " [ 2.89166045]\n",
      " [-1.30943644]]\n",
      "CPU times: user 709 ms, sys: 484 ms, total: 1.19 s\n",
      "Wall time: 1.19 s\n"
     ]
    }
   ],
   "source": [
    "%%time\n",
    "q0 = gs.wavefront.gradientAverage(1,gs0.rays.L).host()\n",
    "print q0*ceo.constants.RAD2MAS"
   ]
  },
  {
   "cell_type": "code",
   "execution_count": 28,
   "metadata": {
    "collapsed": false
   },
   "outputs": [
    {
     "name": "stdout",
     "output_type": "stream",
     "text": [
      "[[ 4.00269794]\n",
      " [-7.48003626]\n",
      " [-0.37739184]\n",
      " [ 2.23869562]\n",
      " [ 0.15670271]\n",
      " [ 0.57361525]]\n",
      "CPU times: user 687 ms, sys: 508 ms, total: 1.19 s\n",
      "Wall time: 1.19 s\n"
     ]
    }
   ],
   "source": [
    "%%time\n",
    "q0 = gs.wavefront.gradientAverage(1,gs0.rays.L).host()\n",
    "print q0*ceo.constants.RAD2MAS"
   ]
  },
  {
   "cell_type": "code",
   "execution_count": 27,
   "metadata": {
    "collapsed": false
   },
   "outputs": [
    {
     "name": "stdout",
     "output_type": "stream",
     "text": [
      "[[-4.46646357]\n",
      " [-0.52137846]\n",
      " [ 1.7694248 ]\n",
      " [-3.18009567]\n",
      " [-0.90315765]\n",
      " [ 0.894723  ]]\n",
      "CPU times: user 748 ms, sys: 443 ms, total: 1.19 s\n",
      "Wall time: 1.19 s\n"
     ]
    }
   ],
   "source": [
    "%%time\n",
    "q0 = gs.wavefront.gradientAverage(1,gs0.rays.L).host()\n",
    "print q0*ceo.constants.RAD2MAS"
   ]
  },
  {
   "cell_type": "code",
   "execution_count": 28,
   "metadata": {
    "collapsed": false
   },
   "outputs": [
    {
     "name": "stdout",
     "output_type": "stream",
     "text": [
      "[-4.46621275  1.76929247 -0.90311939 -0.52153343 -3.18027544  0.89282435]\n",
      "CPU times: user 8.32 ms, sys: 77 µs, total: 8.4 ms\n",
      "Wall time: 7.74 ms\n"
     ]
    }
   ],
   "source": [
    "%%time\n",
    "q = gs.wavefront.gradientAverageFast(gs0.rays.L)\n",
    "print q*ceo.constants.RAD2MAS"
   ]
  },
  {
   "cell_type": "code",
   "execution_count": 31,
   "metadata": {
    "collapsed": false
   },
   "outputs": [
    {
     "name": "stdout",
     "output_type": "stream",
     "text": [
      "[[ 1.91665936  2.09174871  2.24732184]\n",
      " [ 1.78165472  1.51517677  1.8046416 ]\n",
      " [ 1.98045373  5.51954651  5.21256638]\n",
      " [ 4.99319077  4.9326725   4.77874565]\n",
      " [ 5.15014791  5.35630322  2.00195217]\n",
      " [ 1.66336679  1.74826598  1.69272757]\n",
      " [ 1.92385745  2.31820703  1.97909224]\n",
      " [ 4.98537827  4.80078411  5.11929703]\n",
      " [ 5.46265125  5.15584564  4.98963928]\n",
      " [ 5.36588383  2.08957481  2.00161719]\n",
      " [ 1.97330093  1.55728519  1.57734835]\n",
      " [ 2.07601762  1.99332559  5.31651449]\n",
      " [ 4.85066605  4.85249901  5.13224363]\n",
      " [ 5.09404278  5.28553581  5.36308384]]\n",
      "CPU times: user 293 ms, sys: 203 ms, total: 496 ms\n",
      "Wall time: 494 ms\n"
     ]
    }
   ],
   "source": [
    "%%time\n",
    "q0 = gs.segmentsWavefrontGradient().host()\n",
    "print q0.reshape(14,3)*ceo.constants.RAD2ARCSEC"
   ]
  },
  {
   "cell_type": "code",
   "execution_count": 29,
   "metadata": {
    "collapsed": false
   },
   "outputs": [
    {
     "name": "stdout",
     "output_type": "stream",
     "text": [
      "[[ 1.91665971  2.09175158  2.24731922]\n",
      " [ 1.78165066  1.51517677  1.8046391 ]\n",
      " [ 1.98045123  2.00195503  1.6633718 ]\n",
      " [ 1.74826503  1.69273055  1.92385161]\n",
      " [ 2.3182075   1.97908723  2.08957386]\n",
      " [ 2.00161791  1.9733901   1.55728459]\n",
      " [ 1.57734597  2.07601428  1.99332321]\n",
      " [ 5.51984739  5.21257305  4.99318838]\n",
      " [ 4.93267012  4.77874279  5.15014982]\n",
      " [ 5.35634565  4.98536777  4.80079365]\n",
      " [ 5.11929703  5.46288109  5.15584469]\n",
      " [ 4.98963642  5.36588192  5.31652117]\n",
      " [ 4.85066986  4.85251331  5.13224363]\n",
      " [ 5.09404469  5.28551674  5.36306858]]\n",
      "CPU times: user 7.28 ms, sys: 7.89 ms, total: 15.2 ms\n",
      "Wall time: 14.4 ms\n"
     ]
    }
   ],
   "source": [
    "%%time\n",
    "q0 = gs.segmentsWavefrontGradientFast()\n",
    "print q0.reshape(14,3)*ceo.constants.RAD2ARCSEC"
   ]
  },
  {
   "cell_type": "code",
   "execution_count": 27,
   "metadata": {
    "collapsed": false
   },
   "outputs": [
    {
     "name": "stdout",
     "output_type": "stream",
     "text": [
      "[[ 1.68557203  1.85750985  2.23293376]\n",
      " [ 1.99443543  1.7436415   1.81224525]\n",
      " [ 1.98393583  5.38038731  5.30913401]\n",
      " [ 5.23716593  5.07217836  4.67558193]\n",
      " [ 4.91335344  5.35585451  1.8170563 ]\n",
      " [ 1.65816379  1.90874147  1.85275078]\n",
      " [ 1.92530513  2.14324522  1.98315382]\n",
      " [ 5.08118153  4.93313313  5.16470146]\n",
      " [ 5.3700428   5.02687788  4.96586895]\n",
      " [ 5.36426783  1.73154998  1.82843053]\n",
      " [ 2.16473794  1.9393394   1.75847554]\n",
      " [ 1.89098799  1.98728478  5.32509279]\n",
      " [ 5.12109756  5.10763407  5.1277504 ]\n",
      " [ 4.83848381  5.02577686  5.36538124]]\n",
      "CPU times: user 299 ms, sys: 198 ms, total: 497 ms\n",
      "Wall time: 496 ms\n"
     ]
    }
   ],
   "source": [
    "%%time\n",
    "q0 = gs.segmentsWavefrontGradient()\n",
    "print q0.host().reshape(14,3)*ceo.constants.RAD2ARCSEC"
   ]
  },
  {
   "cell_type": "code",
   "execution_count": 29,
   "metadata": {
    "collapsed": false
   },
   "outputs": [
    {
     "data": {
      "text/plain": [
       "array([ 2.77113318,  3.35165119,  2.81183648], dtype=float32)"
      ]
     },
     "execution_count": 29,
     "metadata": {},
     "output_type": "execute_result"
    }
   ],
   "source": [
    "np.mean(q0.host().reshape(14,3)[:7,:],axis=0)*ceo.constants.RAD2ARCSEC"
   ]
  },
  {
   "cell_type": "code",
   "execution_count": 34,
   "metadata": {
    "collapsed": false
   },
   "outputs": [
    {
     "data": {
      "text/plain": [
       "array([ 5.12521601,  5.13785839,  5.12887955], dtype=float32)"
      ]
     },
     "execution_count": 34,
     "metadata": {},
     "output_type": "execute_result"
    }
   ],
   "source": [
    "np.mean(q0.reshape(14,3)[7:,:],axis=0)*ceo.constants.RAD2ARCSEC"
   ]
  },
  {
   "cell_type": "code",
   "execution_count": 27,
   "metadata": {
    "collapsed": false
   },
   "outputs": [
    {
     "ename": "AttributeError",
     "evalue": "'ceo.source.Source' object has no attribute 'segmentsWavefrontGradientFast'",
     "output_type": "error",
     "traceback": [
      "\u001b[0;31m---------------------------------------------------------------------------\u001b[0m",
      "\u001b[0;31mAttributeError\u001b[0m                            Traceback (most recent call last)",
      "\u001b[0;32m<ipython-input-27-7a9f97dc8d2e>\u001b[0m in \u001b[0;36m<module>\u001b[0;34m()\u001b[0m\n\u001b[0;32m----> 1\u001b[0;31m \u001b[0mget_ipython\u001b[0m\u001b[0;34m(\u001b[0m\u001b[0;34m)\u001b[0m\u001b[0;34m.\u001b[0m\u001b[0mrun_cell_magic\u001b[0m\u001b[0;34m(\u001b[0m\u001b[0;34mu'time'\u001b[0m\u001b[0;34m,\u001b[0m \u001b[0;34mu''\u001b[0m\u001b[0;34m,\u001b[0m \u001b[0;34mu'q = gs.segmentsWavefrontGradientFast()\\nprint q.reshape(14,3)*ceo.constants.RAD2ARCSEC'\u001b[0m\u001b[0;34m)\u001b[0m\u001b[0;34m\u001b[0m\u001b[0m\n\u001b[0m",
      "\u001b[0;32m/home/ubuntu/anaconda/lib/python2.7/site-packages/IPython/core/interactiveshell.pyc\u001b[0m in \u001b[0;36mrun_cell_magic\u001b[0;34m(self, magic_name, line, cell)\u001b[0m\n\u001b[1;32m   2113\u001b[0m             \u001b[0mmagic_arg_s\u001b[0m \u001b[0;34m=\u001b[0m \u001b[0mself\u001b[0m\u001b[0;34m.\u001b[0m\u001b[0mvar_expand\u001b[0m\u001b[0;34m(\u001b[0m\u001b[0mline\u001b[0m\u001b[0;34m,\u001b[0m \u001b[0mstack_depth\u001b[0m\u001b[0;34m)\u001b[0m\u001b[0;34m\u001b[0m\u001b[0m\n\u001b[1;32m   2114\u001b[0m             \u001b[0;32mwith\u001b[0m \u001b[0mself\u001b[0m\u001b[0;34m.\u001b[0m\u001b[0mbuiltin_trap\u001b[0m\u001b[0;34m:\u001b[0m\u001b[0;34m\u001b[0m\u001b[0m\n\u001b[0;32m-> 2115\u001b[0;31m                 \u001b[0mresult\u001b[0m \u001b[0;34m=\u001b[0m \u001b[0mfn\u001b[0m\u001b[0;34m(\u001b[0m\u001b[0mmagic_arg_s\u001b[0m\u001b[0;34m,\u001b[0m \u001b[0mcell\u001b[0m\u001b[0;34m)\u001b[0m\u001b[0;34m\u001b[0m\u001b[0m\n\u001b[0m\u001b[1;32m   2116\u001b[0m             \u001b[0;32mreturn\u001b[0m \u001b[0mresult\u001b[0m\u001b[0;34m\u001b[0m\u001b[0m\n\u001b[1;32m   2117\u001b[0m \u001b[0;34m\u001b[0m\u001b[0m\n",
      "\u001b[0;32m<decorator-gen-59>\u001b[0m in \u001b[0;36mtime\u001b[0;34m(self, line, cell, local_ns)\u001b[0m\n",
      "\u001b[0;32m/home/ubuntu/anaconda/lib/python2.7/site-packages/IPython/core/magic.pyc\u001b[0m in \u001b[0;36m<lambda>\u001b[0;34m(f, *a, **k)\u001b[0m\n\u001b[1;32m    186\u001b[0m     \u001b[0;31m# but it's overkill for just that one bit of state.\u001b[0m\u001b[0;34m\u001b[0m\u001b[0;34m\u001b[0m\u001b[0m\n\u001b[1;32m    187\u001b[0m     \u001b[0;32mdef\u001b[0m \u001b[0mmagic_deco\u001b[0m\u001b[0;34m(\u001b[0m\u001b[0marg\u001b[0m\u001b[0;34m)\u001b[0m\u001b[0;34m:\u001b[0m\u001b[0;34m\u001b[0m\u001b[0m\n\u001b[0;32m--> 188\u001b[0;31m         \u001b[0mcall\u001b[0m \u001b[0;34m=\u001b[0m \u001b[0;32mlambda\u001b[0m \u001b[0mf\u001b[0m\u001b[0;34m,\u001b[0m \u001b[0;34m*\u001b[0m\u001b[0ma\u001b[0m\u001b[0;34m,\u001b[0m \u001b[0;34m**\u001b[0m\u001b[0mk\u001b[0m\u001b[0;34m:\u001b[0m \u001b[0mf\u001b[0m\u001b[0;34m(\u001b[0m\u001b[0;34m*\u001b[0m\u001b[0ma\u001b[0m\u001b[0;34m,\u001b[0m \u001b[0;34m**\u001b[0m\u001b[0mk\u001b[0m\u001b[0;34m)\u001b[0m\u001b[0;34m\u001b[0m\u001b[0m\n\u001b[0m\u001b[1;32m    189\u001b[0m \u001b[0;34m\u001b[0m\u001b[0m\n\u001b[1;32m    190\u001b[0m         \u001b[0;32mif\u001b[0m \u001b[0mcallable\u001b[0m\u001b[0;34m(\u001b[0m\u001b[0marg\u001b[0m\u001b[0;34m)\u001b[0m\u001b[0;34m:\u001b[0m\u001b[0;34m\u001b[0m\u001b[0m\n",
      "\u001b[0;32m/home/ubuntu/anaconda/lib/python2.7/site-packages/IPython/core/magics/execution.pyc\u001b[0m in \u001b[0;36mtime\u001b[0;34m(self, line, cell, local_ns)\u001b[0m\n\u001b[1;32m   1178\u001b[0m         \u001b[0;32melse\u001b[0m\u001b[0;34m:\u001b[0m\u001b[0;34m\u001b[0m\u001b[0m\n\u001b[1;32m   1179\u001b[0m             \u001b[0mst\u001b[0m \u001b[0;34m=\u001b[0m \u001b[0mclock2\u001b[0m\u001b[0;34m(\u001b[0m\u001b[0;34m)\u001b[0m\u001b[0;34m\u001b[0m\u001b[0m\n\u001b[0;32m-> 1180\u001b[0;31m             \u001b[0;32mexec\u001b[0m\u001b[0;34m(\u001b[0m\u001b[0mcode\u001b[0m\u001b[0;34m,\u001b[0m \u001b[0mglob\u001b[0m\u001b[0;34m,\u001b[0m \u001b[0mlocal_ns\u001b[0m\u001b[0;34m)\u001b[0m\u001b[0;34m\u001b[0m\u001b[0m\n\u001b[0m\u001b[1;32m   1181\u001b[0m             \u001b[0mend\u001b[0m \u001b[0;34m=\u001b[0m \u001b[0mclock2\u001b[0m\u001b[0;34m(\u001b[0m\u001b[0;34m)\u001b[0m\u001b[0;34m\u001b[0m\u001b[0m\n\u001b[1;32m   1182\u001b[0m             \u001b[0mout\u001b[0m \u001b[0;34m=\u001b[0m \u001b[0mNone\u001b[0m\u001b[0;34m\u001b[0m\u001b[0m\n",
      "\u001b[0;32m<timed exec>\u001b[0m in \u001b[0;36m<module>\u001b[0;34m()\u001b[0m\n",
      "\u001b[0;31mAttributeError\u001b[0m: 'ceo.source.Source' object has no attribute 'segmentsWavefrontGradientFast'"
     ]
    }
   ],
   "source": [
    "%%time\n",
    "q = gs.segmentsWavefrontGradientFast()\n",
    "print q.reshape(14,3)*ceo.constants.RAD2ARCSEC"
   ]
  },
  {
   "cell_type": "markdown",
   "metadata": {},
   "source": [
    "# AGWS CLOSED-LOOP"
   ]
  },
  {
   "cell_type": "code",
   "execution_count": null,
   "metadata": {
    "collapsed": true
   },
   "outputs": [],
   "source": [
    "def updateGMT(__c__,_dist_,__tt7_c__=0.0):\n",
    "    _s_ = np.s_[:]\n",
    "    l = 12+gmt.M1.modes.n_mode\n",
    "    cp = np.reshape(__c__,(7,l))\n",
    "    gmt.M1.motion_CS.update(Rxyz=(_s_,_s_,_dist_[0] - cp[:,:3]),\n",
    "                            Txyz=(_s_,_s_,_dist_[2] - cp[:,3:6]))\n",
    "    gmt.M2.motion_CS.update(Rxyz=(_s_,_s_,_dist_[1] - __tt7_c__ - cp[:,6:9]),\n",
    "                            Txyz=(_s_,_s_,_dist_[3] - cp[:,9:12]))\n",
    "    gmt.M1.modes.a[:] = _dist_[4] - cp[:,12:]\n",
    "    gmt.M1.modes.update()"
   ]
  },
  {
   "cell_type": "code",
   "execution_count": null,
   "metadata": {
    "collapsed": false
   },
   "outputs": [],
   "source": [
    "from numpy.random import randn\n",
    "def perturbations():\n",
    "    M1_Txyz0      = randn(7,3)*75e-6;\n",
    "    M1_Txyz0[:,2] = randn(7)*160e-6;\n",
    "    M1_Txyz0[6,2] = 0; #% M1 S1 Tz\n",
    "\n",
    "    M2_Txyz0      = randn(7,3)*75e-6;\n",
    "    M2_Txyz0[:,2] = randn(7)*170e-6;\n",
    "\n",
    "    arcs2rad = np.pi/180/3600;\n",
    "    M1_Rxyz0      = randn(7,3)*0.38*arcs2rad;\n",
    "    M1_Rxyz0[:,2] = randn(7)*40*arcs2rad;\n",
    "\n",
    "    M2_Rxyz0      = randn(7,3)*3.0*arcs2rad;\n",
    "    M2_Rxyz0[:,2] = randn(7)*330*arcs2rad;\n",
    "\n",
    "    #M1_RiBo_d = M1_Txyz0 M1_Rxyz0]; \n",
    "    #M2_RiBo_d = [M2_Txyz0 M2_Rxyz0];\n",
    "\n",
    "    radialOrders = np.concatenate( [np.ones((1,x+1))*x for x in range(9)] , axis=1 )\n",
    "    scale = 1.0/radialOrders[0,3:];\n",
    "    M1_BeMo_d = 1e-6*randn(7,gmt.M1.modes.n_mode)*scale[None,:]/scale[0];\n",
    "    \n",
    "    return (M1_Rxyz0,M2_Rxyz0,M1_Txyz0,M2_Txyz0,M1_BeMo_d)"
   ]
  },
  {
   "cell_type": "code",
   "execution_count": null,
   "metadata": {
    "collapsed": true
   },
   "outputs": [],
   "source": [
    "nStep = int(simDuration/samplingTime)\n",
    "nFrame = int(wfsExposureTime/samplingTime)\n",
    "nWfsDelay = int(wfsDelay/samplingTime)"
   ]
  },
  {
   "cell_type": "markdown",
   "metadata": {},
   "source": [
    "## Reference PSF"
   ]
  },
  {
   "cell_type": "code",
   "execution_count": null,
   "metadata": {
    "collapsed": true
   },
   "outputs": [],
   "source": [
    "%%time\n",
    "if WITH_ATMOSPHERE:\n",
    "    ps0_rms_0 = np.zeros(nStep)\n",
    "    gmt0 = ceo.GMT_MX()\n",
    "    ~imgr\n",
    "    gs0>>(atm,gmt0,imgr)\n",
    "    gs0.timeStamp = 0\n",
    "    gs0.samplingTime = samplingTime\n",
    "    for k in range(nStep):\n",
    "        +gs0\n",
    "        ps0_rms_0[k] = gs0.wavefront.rms(-9)\n",
    "        if (k<nWfsDelay):\n",
    "            ~imgr\n",
    "\n",
    "    psf_atm_0 = imgr.frame.host()\n",
    "    ee80_atm_0 = 1e3*imgr.pixelScaleArcsec(gs0)*imgr.ee80()\n",
    "    print \"EE80: %.2fmas\"%ee80_atm_0\n",
    "    \n",
    "\n",
    "    fig, (ax1,ax2) = plt.subplots(ncols=2)\n",
    "    fig.set_size_inches(14,6)\n",
    "    frame = imgr.frame.host()\n",
    "    h1= ax1.imshow(frame,interpolation='None',cmap='viridis',extent=ext)\n",
    "    plt.colorbar(h1,ax=ax1)\n",
    "    ax1.grid(color='w',linestyle=':',alpha=0.5)\n",
    "    ax1.set_xlabel('arcsec')\n",
    "    ax1.set_ylabel('arcsec')\n",
    "    \n",
    "    ax2.plot(np.linspace(-1,1,imgr.N_PX_FRAME)*imgr.pixelScaleArcsec(gs0)*imgr.N_PX_FRAME*0.5,frame[500,:],alpha=0.5)\n",
    "    ax2.plot(np.linspace(-1,1,imgr.N_PX_FRAME)*imgr.pixelScaleArcsec(gs0)*imgr.N_PX_FRAME*0.5,frame[:,500],alpha=0.5)\n",
    "    ax2.grid()\n",
    "    ax2.set_xlabel('arcsec')\n",
    "    print \"Guide star time stamp:%gs\"%gs0.timeStamp"
   ]
  },
  {
   "cell_type": "markdown",
   "metadata": {},
   "source": [
    "## Setting the optical paths"
   ]
  },
  {
   "cell_type": "code",
   "execution_count": null,
   "metadata": {
    "collapsed": false
   },
   "outputs": [],
   "source": [
    "~gmt\n",
    "~wfs\n",
    "~imgr\n",
    "~gs0\n",
    "~gs\n",
    "~tt7_gs\n",
    "if WITH_ATMOSPHERE:\n",
    "    gs0>>(atm,gmt,imgr)\n",
    "    \n",
    "    gs.fwhm = 0\n",
    "    gs>>(atm,gmt,wfs)\n",
    "    \n",
    "    tt7_gs.fwhm = 0\n",
    "    tt7_gs>>(atm,gmt,tt7)\n",
    "else:\n",
    "    gs0>>(gmt,imgr)\n",
    "    \n",
    "    gs.fwhm = gs_fwhm\n",
    "    gs>>(gmt,wfs)    \n",
    "    \n",
    "    if TT7_CLASS=='TT7':\n",
    "        tt7_gs.fwhm = tt7_gs_fwhm\n",
    "        tt7_gs>>(gmt,tt7)\n",
    "    if TT7_CLASS=='GeometricTT7':\n",
    "        tt7_gs>>(gmt,tt7,)"
   ]
  },
  {
   "cell_type": "markdown",
   "metadata": {},
   "source": [
    "## Setting the # of background photons"
   ]
  },
  {
   "cell_type": "code",
   "execution_count": null,
   "metadata": {
    "collapsed": false
   },
   "outputs": [],
   "source": [
    "backgroundMagnitude = 16.8 # per arcsec^2, 30 deg. from full moon\n",
    "#backgroundMagnitude = 19.7 # per arcsec^2, 60 deg. from full moon\n",
    "+gs\n",
    "wfs.camera.nBackgroundPhoton = gs.nBackgroundPhoton(backgroundMagnitude)*wfs.camera.pixelScaleArcsec(gs)**2\n",
    "print \"WFS # of background photon per frame: %.0f\"%wfs.camera.nBackgroundPhoton\n",
    "if TT7_CLASS==\"TT7\":\n",
    "    +tt7_gs\n",
    "    tt7.camera.nBackgroundPhoton = tt7_gs.nBackgroundPhoton(backgroundMagnitude)*tt7.camera.pixelScaleArcsec(tt7_gs)**2\n",
    "    print \"TT7 # of background photon per frame: %.0f\"%tt7.camera.nBackgroundPhoton"
   ]
  },
  {
   "cell_type": "markdown",
   "metadata": {},
   "source": [
    "## Segments initial perturbations:"
   ]
  },
  {
   "cell_type": "code",
   "execution_count": null,
   "metadata": {
    "collapsed": true
   },
   "outputs": [],
   "source": [
    "if WITH_MISALIGNMENT:\n",
    "    dist = perturbations()\n",
    "else:\n",
    "    dist = [np.zeros((7,3)) for k in range(4)] + [np.zeros((7,42))]"
   ]
  },
  {
   "cell_type": "code",
   "execution_count": null,
   "metadata": {
    "collapsed": false
   },
   "outputs": [],
   "source": [
    "gmt.reset()\n",
    "gmt.M1.motion_CS.euler_angles[:] = dist[0]\n",
    "gmt.M1.motion_CS.origin[:]       = dist[2]\n",
    "gmt.M1.motion_CS.update()\n",
    "gmt.M2.motion_CS.euler_angles[:] = dist[1]\n",
    "gmt.M2.motion_CS.origin[:]       = dist[3]\n",
    "gmt.M2.motion_CS.update()\n",
    "gmt.M1.modes.a[:] = dist[4]\n",
    "gmt.M1.modes.update()"
   ]
  },
  {
   "cell_type": "markdown",
   "metadata": {},
   "source": [
    "### Initial WFE RMS [nm]:"
   ]
  },
  {
   "cell_type": "code",
   "execution_count": null,
   "metadata": {
    "collapsed": false
   },
   "outputs": [],
   "source": [
    "gs0.timeStamp = 0\n",
    "+gs0\n",
    "print gs0.wavefront.rms(-9)"
   ]
  },
  {
   "cell_type": "markdown",
   "metadata": {},
   "source": [
    "## Integrator gains"
   ]
  },
  {
   "cell_type": "code",
   "execution_count": null,
   "metadata": {
    "collapsed": true
   },
   "outputs": [],
   "source": [
    "wfs_loop_gain = 0.2\n",
    "tt7_loop_gain = 0.2"
   ]
  },
  {
   "cell_type": "markdown",
   "metadata": {},
   "source": [
    "## Number of sensor frame delays"
   ]
  },
  {
   "cell_type": "code",
   "execution_count": null,
   "metadata": {
    "collapsed": true
   },
   "outputs": [],
   "source": [
    "wfs_nFrameDelay = 1\n",
    "tt7_nFrameDelay = 1"
   ]
  },
  {
   "cell_type": "code",
   "execution_count": null,
   "metadata": {
    "collapsed": true
   },
   "outputs": [],
   "source": [
    "VISU = False"
   ]
  },
  {
   "cell_type": "code",
   "execution_count": null,
   "metadata": {
    "collapsed": false
   },
   "outputs": [],
   "source": [
    "%%time\n",
    "print time.asctime( time.localtime(time.time()) )\n",
    "\n",
    "gs0.timeStamp = 0\n",
    "gs.timeStamp = 0\n",
    "tt7_gs.timeStamp = 0\n",
    "gs.samplingTime = samplingTime\n",
    "gs0.samplingTime = samplingTime\n",
    "tt7_gs.samplingTime = samplingTime\n",
    "\n",
    "wfs.camera.exposureTime = wfsExposureTime\n",
    "tt7.camera.exposureTime = samplingTime\n",
    "\n",
    "print \"nStep=%d ; nFrame=%d ; nWfsDelay=%d\"%(nStep,nFrame,nWfsDelay)\n",
    "\n",
    "ps0_rms = np.zeros(nStep)\n",
    "ps0_seg_rms = np.zeros((nStep,7))\n",
    "ps0_seg_piston = np.zeros((nStep,7))\n",
    "bmc = np.zeros((nStep,7,gmt.M1.modes.n_mode))\n",
    "\n",
    "tt7_c = np.zeros(14)\n",
    "tt7_c_eps = np.zeros((14,1+tt7_nFrameDelay))\n",
    "l = 12+gmt.M1.modes.n_mode\n",
    "c = np.zeros((7*l,1))\n",
    "c_eps = np.zeros((7*l,1+wfs_nFrameDelay))\n",
    "\n",
    "tt7_stt = []\n",
    "stt = np.zeros((nStep,14))\n",
    "gtt = np.zeros((nStep,2))\n",
    "\n",
    "gmt.M2.motion_CS.log = 0\n",
    "~imgr\n",
    "~wfs\n",
    "\n",
    "if VISU:\n",
    "    fig,(ax1,ax2) = plt.subplots(ncols=2)\n",
    "    fig.set_size_inches(15,6)\n",
    "\n",
    "for k in range(nStep):\n",
    "\n",
    "    sys.stdout.write(\"\\rT=%.3fs\"%(k*samplingTime))\n",
    "    sys.stdout.flush()\n",
    "    \n",
    "    gs0.timeStamp = k*samplingTime\n",
    "    gs.timeStamp = k*samplingTime\n",
    "    tt7_gs.timeStamp = k*samplingTime\n",
    "    \n",
    "    if k>=nWfsDelay:\n",
    "        #sys.stdout.write(\"WFS first integration @ T=%.3fs\\n\"%(k*samplingTime))\n",
    "        +gs\n",
    "        \n",
    "    +tt7_gs\n",
    "    +tt7\n",
    "    \n",
    "    +gs0\n",
    "    ps0_rms[k] = gs0.wavefront.rms(-9)\n",
    "    ps0_seg_rms[k,:] = gs0.phaseRms(where='segments',units_exponent=-9)\n",
    "    ps0_seg_piston[k,:] = gs0.piston(where='segments',units_exponent=-9)\n",
    "    stt[k,:] = gs0.segmentsWavefrontGradient().host(units='arcsec').ravel()\n",
    "    gtt[k,:] = gs0.wavefront.gradientAverage(1,gs0.rays.L).host(units='arcsec').ravel()\n",
    "\n",
    "    #sys.stdout.write(\"WFE RMS %gnm\\n\"%(ps0_rms[k]) )\n",
    "\n",
    "    tt7_s = tt7.get_measurement()\n",
    "    #tt7_stt.append(tt7_s)\n",
    "    tt7__c_ = np.dot(Mtt7,tt7_s)\n",
    "    \n",
    "    tt7_c_eps = np.roll(tt7_c_eps,1,axis=1)\n",
    "    tt7_c_eps[:,0] = tt7__c_\n",
    "    \n",
    "    tt7_c = tt7_c + tt7_loop_gain*tt7_c_eps[:,tt7_nFrameDelay]\n",
    "    tt7_cp = np.append( tt7_c.reshape(7,2) , np.zeros((7,1)) , axis =1 )\n",
    "    \n",
    "\n",
    "    if (k>=(nWfsDelay+nFrame)) and ((k-nWfsDelay)%nFrame)==0:\n",
    "\n",
    "        sys.stdout.write(\"\\rWFS readout @ T=%.3fs\"%(k*samplingTime))\n",
    "        sys.stdout.flush()\n",
    "        +wfs\n",
    "        s = wfs.valid_slopes.host(shape=(wfs.n_valid_slopes,1))\n",
    "        _c_ = C.dot(s)\n",
    "    \n",
    "    if (k>=(nWfsDelay+nFrame)) and ((k-nWfsDelay)%(nFrame+wfs_nFrameDelay))==0:\n",
    "\n",
    "        c = c + wfs_loop_gain*_c_\n",
    "\n",
    "    updateGMT(c[:,0],dist,tt7_cp)\n",
    "    bmc[k,:,:] = gmt.M1.modes.a\n",
    "    \n",
    "    if (k<nWfsDelay):\n",
    "        ~imgr\n",
    "        \n",
    "        if np.isnan(ps0_rms[k]):\n",
    "            print \" >>> NAN ISSUE!!\"\n",
    "            break\n",
    "\n",
    "        if VISU:\n",
    "            psf_atm_aco = imgr.frame.host()\n",
    "            ee80 = 1e3*imgr.pixelScaleArcsec(gs0)*imgr.ee80()\n",
    "            fwhm8 = (gs0.wavelength/8)*ceo.constants.RAD2ARCSEC\n",
    "            o = np.linspace(0,1,21)*2*np.pi\n",
    "            x8 = 0.5*fwhm8*np.cos(o)\n",
    "            y8 = 0.5*fwhm8*np.sin(o)\n",
    "\n",
    "            ext = np.array([-1,1,-1,1])*imgr.N_PX_FRAME*0.5*imgr.pixelScaleArcsec(gs0)\n",
    "            h1 = ax1.imshow(psf_atm_aco,interpolation='none',cmap='viridis',extent=ext)\n",
    "            ax1.set_title(\"EE80 %.2fmas\"%(ee80))\n",
    "            ax1.plot(x8,y8,'w:', linewidth=0.5)\n",
    "            ax1.grid(color='w')\n",
    "            ax1.set_xlabel('arcsec')\n",
    "            ax1.set_ylabel('arcsec')\n",
    "            clb1 = plt.colorbar(h1,ax=ax1)\n",
    "\n",
    "            h2 = ax2.imshow(gs0.phase.host(units='nm'),interpolation='none',cmap='viridis')\n",
    "            clb2 = plt.colorbar(h2,ax=ax2,label='WFE [nm]')\n",
    "            ax2.set_title(\"WFE RMS: %.2fnm\"%ps0_rms[k])\n",
    "            ax2.set_xticks([])\n",
    "            ax2.set_yticks([])\n",
    "\n",
    "            clear_output(wait=True)\n",
    "            display(fig)\n",
    "            clb1.remove()\n",
    "            clb2.remove()\n",
    "\n",
    "sys.stdout.write(\"\\n\\n\")\n",
    "if VISU:\n",
    "    plt.close()"
   ]
  },
  {
   "cell_type": "code",
   "execution_count": null,
   "metadata": {
    "collapsed": false
   },
   "outputs": [],
   "source": [
    "(150/4)*10/60*100/5/24"
   ]
  },
  {
   "cell_type": "code",
   "execution_count": null,
   "metadata": {
    "collapsed": false
   },
   "outputs": [],
   "source": [
    "psf_atm_aco = imgr.frame.host()\n",
    "ee80 = 1e3*imgr.pixelScaleArcsec(gs0)*imgr.ee80()\n",
    "fig,(ax1,ax2) = plt.subplots(ncols=2)\n",
    "fig.set_size_inches(15,6)\n",
    "\n",
    "fwhm8 = (gs0.wavelength/8)*ceo.constants.RAD2ARCSEC\n",
    "o = np.linspace(0,1,21)*2*np.pi\n",
    "x8 = 0.5*fwhm8*np.cos(o)\n",
    "y8 = 0.5*fwhm8*np.sin(o)\n",
    "\n",
    "ext = np.array([-1,1,-1,1])*imgr.N_PX_FRAME*0.5*imgr.pixelScaleArcsec(gs0)\n",
    "h1 = ax1.imshow(psf_atm_aco,interpolation='none',cmap='viridis',extent=ext)\n",
    "ax1.set_title(\"EE80 %.2fmas\"%(ee80))\n",
    "ax1.plot(x8,y8,'w:', linewidth=0.5)\n",
    "ax1.grid(color='w',linestyle=':',alpha=0.5)\n",
    "ax1.set_xlabel('arcsec')\n",
    "ax1.set_ylabel('arcsec')\n",
    "clb1 = plt.colorbar(h1,ax=ax1)\n",
    "\n",
    "h2 = ax2.imshow(gs0.phase.host(units='nm'),interpolation='none',cmap='viridis')\n",
    "clb2 = plt.colorbar(h2,ax=ax2,label='WFE [nm]')\n",
    "ax2.set_title(\"WFE RMS: %.2fnm\"%ps0_rms[k])\n",
    "ax2.set_xticks([])\n",
    "ax2.set_yticks([])\n"
   ]
  },
  {
   "cell_type": "code",
   "execution_count": null,
   "metadata": {
    "collapsed": false
   },
   "outputs": [],
   "source": [
    "u = np.arange(nStep)*samplingTime\n",
    "fig, (ax1,ax2) = plt.subplots(nrows=2)\n",
    "fig.set_size_inches((14,12))\n",
    "ax1.plot(u,ps0_rms.ravel(),label='AcO')\n",
    "ax1.plot(u,ps0_rms_0.ravel(),label='On-axis')\n",
    "ax1.grid()\n",
    "ax1.set_xlabel('Time [s]')\n",
    "ax1.set_ylabel('On-axis WFE RMS [nm]')\n",
    "ax1.legend(loc='best')\n",
    "\n",
    "ax2.plot(u,ps0_seg_rms,label='AcO')\n",
    "ax2.grid()\n",
    "ax2.set_xlabel('Time [s]')\n",
    "ax2.set_ylabel('On-axis segment WFE RMS [nm]')"
   ]
  },
  {
   "cell_type": "code",
   "execution_count": null,
   "metadata": {
    "collapsed": false
   },
   "outputs": [],
   "source": [
    "fig, ax1 = plt.subplots()\n",
    "fig.set_size_inches((14,6))\n",
    "ax1.plot(u,ps0_seg_piston,label='AcO')\n",
    "#ax1.plot(u,ps0_rms_0.ravel(),label='On-axis')\n",
    "ax1.grid()\n",
    "ax1.set_xlabel('Time [s]')\n",
    "ax1.set_ylabel('On-axis segment piston [nm]')"
   ]
  },
  {
   "cell_type": "code",
   "execution_count": null,
   "metadata": {
    "collapsed": false
   },
   "outputs": [],
   "source": [
    "fig = plt.figure(figsize=(14,6))\n",
    "#stt_ = np.concatenate(stt,axis=1).T\n",
    "plt.plot(u,stt[:,:7],'-')\n",
    "plt.plot(u,gtt,'k:')\n",
    "#plt.plot([0,45],np.tile(tt7.reference_slopes[:,0].T*ceo.constants.RAD2ARCSEC,2).reshape(2,14))\n",
    "#plt.xlim([0,45])\n",
    "#plt.ylim([-0.1,0.1])\n",
    "plt.grid()\n",
    "plt.xlabel('Time [s]')\n",
    "plt.ylabel('On-axis segment TT [arcsec]')"
   ]
  },
  {
   "cell_type": "code",
   "execution_count": null,
   "metadata": {
    "collapsed": false
   },
   "outputs": [],
   "source": [
    "fig,ax1 = plt.subplots()\n",
    "fig.set_size_inches(15,6)\n",
    "h1 = ax1.imshow(np.concatenate([psf_atm_0,psf_atm_aco],axis=1),interpolation='none',cmap='viridis')\n",
    "ax1.set_title(\"EE80:  %.2fmas/%.2fmas\"%(ee80_atm_0,ee80))\n",
    "plt.colorbar(h1,ax=ax1)\n",
    "#ax1.set_xticks([])\n",
    "#ax1.plot(x8,y8,'w:')\n"
   ]
  },
  {
   "cell_type": "code",
   "execution_count": null,
   "metadata": {
    "collapsed": false
   },
   "outputs": [],
   "source": [
    "print \"Reference PSF flux: %g\"%np.sum(psf_atm_0)\n",
    "print \"AcO PSF flux      : %g\"%np.sum(psf_atm_aco)"
   ]
  },
  {
   "cell_type": "code",
   "execution_count": null,
   "metadata": {
    "collapsed": false
   },
   "outputs": [],
   "source": [
    "PSSN = np.sum(psf_atm_aco**2)/np.sum(psf_atm_0**2)\n",
    "print \"PSSN = %f\"%PSSN"
   ]
  },
  {
   "cell_type": "code",
   "execution_count": null,
   "metadata": {
    "collapsed": false
   },
   "outputs": [],
   "source": [
    "np.savez('AcO_Ctrl.npz',PSSN=PSSN,WFE_RMS_0=ps0_rms_0.ravel(),WFE_RMS=ps0_rms.ravel(),\n",
    "                        SEGMENT_WFE_RMS=ps0_seg_rms,SEGMENT_WFE_PISTON=ps0_seg_piston,\n",
    "                        PSF_0=psf_atm_0,PSF=psf_atm_aco,\n",
    "                        EE80_0 = ee80_atm_0, EE80=ee80,\n",
    "                        segment_tipTilt = stt,\n",
    "                        global_tipTilt = gtt,\n",
    "                        BM_coefficients = bmc,\n",
    "                        last_wavefront_nm=gs0.phase.host(units='nm'))"
   ]
  },
  {
   "cell_type": "code",
   "execution_count": null,
   "metadata": {
    "collapsed": true
   },
   "outputs": [],
   "source": [
    "from scipy.signal import medfilt"
   ]
  },
  {
   "cell_type": "code",
   "execution_count": null,
   "metadata": {
    "collapsed": false
   },
   "outputs": [],
   "source": [
    "kern = 11\n",
    "plt.plot(np.linspace(-1,1,imgr.N_PX_FRAME)*imgr.pixelScaleArcsec(gs0)*imgr.N_PX_FRAME*0.5,medfilt(psf_atm_0[:,500],kern))\n",
    "plt.plot(np.linspace(-1,1,imgr.N_PX_FRAME)*imgr.pixelScaleArcsec(gs0)*imgr.N_PX_FRAME*0.5,medfilt(psf_atm_aco[:,500],kern))\n",
    "plt.grid()\n",
    "plt.xlabel('arcsec')\n"
   ]
  },
  {
   "cell_type": "code",
   "execution_count": null,
   "metadata": {
    "collapsed": true
   },
   "outputs": [],
   "source": [
    "from twilio.rest import TwilioRestClient\n",
    "\n",
    "# Find these values at https://twilio.com/user/account\n",
    "account_sid = \"ACc974b7f06c6738c383a4a79460c93ec4\"\n",
    "auth_token = \"068f6f9a52798b5965c7d24ddc620b97\"\n",
    "client = TwilioRestClient(account_sid, auth_token)\n",
    "\n",
    "message = client.messages.create(to=\"+16263548207\", from_=\"+16266583114\",\n",
    "                                     body=\"ACO CTRL SIMULATION ENDED (PSSN=%.4f)\"%PSSN)\n"
   ]
  },
  {
   "cell_type": "code",
   "execution_count": null,
   "metadata": {
    "collapsed": true
   },
   "outputs": [],
   "source": []
  }
 ],
 "metadata": {
  "kernelspec": {
   "display_name": "Python 2",
   "language": "python",
   "name": "python2"
  },
  "language_info": {
   "codemirror_mode": {
    "name": "ipython",
    "version": 2
   },
   "file_extension": ".py",
   "mimetype": "text/x-python",
   "name": "python",
   "nbconvert_exporter": "python",
   "pygments_lexer": "ipython2",
   "version": "2.7.12"
  }
 },
 "nbformat": 4,
 "nbformat_minor": 0
}
