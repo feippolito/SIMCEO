{
 "cells": [
  {
   "cell_type": "code",
   "execution_count": 1,
   "metadata": {},
   "outputs": [],
   "source": [
    "import dos\n",
    "path = './dos/AcO_M1Pos_noFEM'"
   ]
  },
  {
   "cell_type": "code",
   "execution_count": null,
   "metadata": {},
   "outputs": [
    {
     "name": "stderr",
     "output_type": "stream",
     "text": [
      "INFO:DOS:Reading config from ./dos/AcO_M1Pos_noFEM/dos.yaml\n"
     ]
    }
   ],
   "source": [
    "# ini\n",
    "sim = dos.DOS(path, 10, show_timing = 2)"
   ]
  },
  {
   "cell_type": "code",
   "execution_count": null,
   "metadata": {},
   "outputs": [],
   "source": [
    "sim.start()\n",
    "sim.join()\n",
    "sim.terminate()"
   ]
  },
  {
   "cell_type": "markdown",
   "metadata": {},
   "source": [
    "#### Backup simulated Data"
   ]
  },
  {
   "cell_type": "code",
   "execution_count": null,
   "metadata": {},
   "outputs": [],
   "source": [
    "import pickle\n",
    "\n",
    "with open('simulated_Data.txt', 'wb') as f:\n",
    "    pickle.dump(sim.logs.entries, f)"
   ]
  },
  {
   "cell_type": "markdown",
   "metadata": {},
   "source": [
    "# plot logs\n",
    "---"
   ]
  },
  {
   "cell_type": "code",
   "execution_count": null,
   "metadata": {},
   "outputs": [],
   "source": [
    "import matplotlib.pyplot as plt\n",
    "try:\n",
    "    from jupyterthemes import jtplot\n",
    "    jtplot.style()\n",
    "except:\n",
    "    pass\n",
    "\n",
    "import numpy as np\n",
    "\n",
    "sim.logs"
   ]
  },
  {
   "cell_type": "markdown",
   "metadata": {},
   "source": [
    "#### BM"
   ]
  },
  {
   "cell_type": "code",
   "execution_count": null,
   "metadata": {
    "scrolled": false
   },
   "outputs": [],
   "source": [
    "%matplotlib inline\n",
    "\n",
    "BM = sim.logs.entries['AcO_controller']['M1 BM'].timeSeries[1]\n",
    "time = sim.logs.entries['M1PosHP0']['M1PosHP0_out'].timeSeries[0]\n",
    "plt.figure(figsize=(12,6))\n",
    "plt.xticks(np.arange(0, 20, 2))\n",
    "for k in range(BM[0,:,:].shape[0]):\n",
    "    plt.plot(time[::2000], BM[0,k,:])\n",
    "plt.show()"
   ]
  },
  {
   "cell_type": "markdown",
   "metadata": {},
   "source": [
    "#### x_hat"
   ]
  },
  {
   "cell_type": "code",
   "execution_count": null,
   "metadata": {},
   "outputs": [],
   "source": [
    "wfs = sim.logs.entries['wfs48']['M12_RBM'].timeSeries[1]\n",
    "\n",
    "plt.figure(figsize=(12,6))\n",
    "plt.plot(wfs)\n",
    "plt.show()"
   ]
  },
  {
   "cell_type": "markdown",
   "metadata": {},
   "source": [
    "#### Hardpoints"
   ]
  },
  {
   "cell_type": "code",
   "execution_count": null,
   "metadata": {},
   "outputs": [],
   "source": [
    "plt.figure(figsize = (15,6))\n",
    "\n",
    "ax1 = plt.subplot(2,1,1)\n",
    "ax1.title.set_text('Hardpoint')\n",
    "plt.plot(time,M1Pos_out[:,0])\n",
    "\n",
    "ax2 = plt.subplot(2,1,2)\n",
    "ax2.title.set_text('Tx')\n",
    "plt.plot(time[::2000], Txyz[0,0,:])\n",
    "plt.show()"
   ]
  },
  {
   "cell_type": "code",
   "execution_count": null,
   "metadata": {
    "scrolled": true
   },
   "outputs": [],
   "source": [
    "M1Pos_out = sim.logs.entries['M1PosHP0']['M1PosHP0_out'].timeSeries[1]\n",
    "\n",
    "plt.figure(figsize = (15,7.5))\n",
    "plt.plot(time, M1Pos_out)\n",
    "plt.xticks(np.arange(0,20,1))\n",
    "plt.show()"
   ]
  },
  {
   "cell_type": "markdown",
   "metadata": {},
   "source": [
    "#### testing\n",
    "---"
   ]
  },
  {
   "cell_type": "code",
   "execution_count": null,
   "metadata": {},
   "outputs": [],
   "source": [
    "Txyz = sim.logs.entries['AcO_controller']['M1 Txyz'].timeSeries[1]\n",
    "Rxyz = sim.logs.entries['AcO_controller']['M1 Rxyz'].timeSeries[1]\n",
    "\n",
    "TRxyz = np.concatenate((Txyz, Rxyz), axis = 1)"
   ]
  },
  {
   "cell_type": "code",
   "execution_count": null,
   "metadata": {},
   "outputs": [],
   "source": [
    "m1 = M1Pos_out.reshape(-1,7,6)"
   ]
  },
  {
   "cell_type": "code",
   "execution_count": null,
   "metadata": {},
   "outputs": [],
   "source": [
    "plt.figure(figsize = (12,6))\n",
    "plt.subplot(2,1,1)\n",
    "plt.plot(m1[:,0,0])\n",
    "plt.subplot(2,1,2)\n",
    "plt.plot(TRxyz[0,0,:])\n",
    "plt.show()"
   ]
  },
  {
   "cell_type": "code",
   "execution_count": null,
   "metadata": {},
   "outputs": [],
   "source": [
    "TRxyz.shape"
   ]
  },
  {
   "cell_type": "code",
   "execution_count": null,
   "metadata": {},
   "outputs": [],
   "source": [
    "nTs = Txyz.shape[2]\n",
    "\n",
    "reorder = {\n",
    "    'segments': 7,\n",
    "      'groups': 3,\n",
    "      'inputs': 2}\n",
    "\n",
    "TRxyz_reorder = np.empty(TRxyz.shape)\n",
    "for k in range(TRxyz.shape[0]):\n",
    "    TRxyz_reorder[k,:] = np.hstack([x[i].reshape(1,-1) for i in range(reorder['segments'])\n",
    "                    for x in np.split(TRxyz[k].reshape(-1,reorder['groups']),\n",
    "                                      reorder['inputs'])])"
   ]
  },
  {
   "cell_type": "code",
   "execution_count": null,
   "metadata": {},
   "outputs": [],
   "source": [
    "TRxyz_reorder = TRxyz_reorder.reshape(-1,7,6)\n",
    "M1Pos_out_reorder = M1Pos_out.reshape(-1,7,6)"
   ]
  },
  {
   "cell_type": "code",
   "execution_count": null,
   "metadata": {},
   "outputs": [],
   "source": [
    "TRxyz_reorder.shape"
   ]
  },
  {
   "cell_type": "code",
   "execution_count": null,
   "metadata": {},
   "outputs": [],
   "source": [
    "%matplotlib inline\n",
    "\n",
    "# Select\n",
    "seg =  1    #1 - 7\n",
    "rbm = 'Tx'  # Tx Ty Tz Rx Ry Rz\n",
    "\n",
    "# Plot ------\n",
    "table = ['Tx','Ty','Tz','Rx','Ry','Rz']\n",
    "rbm_index = table.index(rbm)\n",
    "\n",
    "plt.figure(figsize=(15,7))\n",
    "ax1 = plt.subplot(2,1,1)\n",
    "ax1.set_title('AcO output - ' + rbm)\n",
    "plt.plot(TRxyz_reorder[:,seg - 1, rbm_index])\n",
    "ax2 = plt.subplot(2,1,2)\n",
    "ax2.set_title('HP output - ' + rbm)\n",
    "plt.plot(M1Pos_out_reorder[:,seg - 1, rbm_index])\n",
    "plt.show()"
   ]
  }
 ],
 "metadata": {
  "kernelspec": {
   "display_name": "Python 3",
   "language": "python",
   "name": "python3"
  },
  "language_info": {
   "codemirror_mode": {
    "name": "ipython",
    "version": 3
   },
   "file_extension": ".py",
   "mimetype": "text/x-python",
   "name": "python",
   "nbconvert_exporter": "python",
   "pygments_lexer": "ipython3",
   "version": "3.7.4"
  }
 },
 "nbformat": 4,
 "nbformat_minor": 2
}
