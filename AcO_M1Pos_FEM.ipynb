{
 "cells": [
  {
   "cell_type": "code",
   "execution_count": 1,
   "metadata": {},
   "outputs": [],
   "source": [
    "import dos\n",
    "path = './dos/AcO_M1Pos_M1rbm/'"
   ]
  },
  {
   "cell_type": "code",
   "execution_count": 2,
   "metadata": {},
   "outputs": [
    {
     "name": "stderr",
     "output_type": "stream",
     "text": [
      "INFO:DOS:Reading config from ./dos/AcO_M1Pos_M1rbm/dos.yaml\n",
      "INFO:DOS:New driver: FEM\n",
      "INFO:FEM:New input: OSS_Hardpoint_delta_F\n",
      "INFO:FEM:New output: OSS_M1_lcl\n",
      "INFO:FEM:Output logged in!\n",
      "INFO:DOS:New driver: M2\n",
      "INFO:M2:New input: Txyz\n",
      "INFO:M2:New input: Rxyz\n",
      "INFO:M2:No inputs!\n",
      "INFO:DOS:New driver: M1\n",
      "INFO:M1:New input: Txyz\n",
      "INFO:M1:New input: Rxyz\n",
      "INFO:M1:New input: modes\n",
      "INFO:M1:No inputs!\n",
      "INFO:DOS:New driver: M1PosHP0\n",
      "INFO:M1PosHP0:New input: M1PosHP0_ref\n",
      "INFO:M1PosHP0:New output: M1PosHP0_out\n",
      "INFO:M1PosHP0:Output logged in!\n",
      "INFO:DOS:New driver: wfs48\n",
      "INFO:wfs48:No inputs!\n",
      "INFO:wfs48:New output: M12_RBM\n",
      "INFO:wfs48:Output logged in!\n",
      "INFO:DOS:New driver: AcO_controller\n",
      "INFO:AcO_controller:New input: x_hat\n",
      "INFO:AcO_controller:New output: M1 RTxyz\n",
      "INFO:AcO_controller:Output logged in!\n",
      "INFO:AcO_controller:New output: M2 Txyz\n",
      "INFO:AcO_controller:Output logged in!\n",
      "INFO:AcO_controller:New output: M2 Rxyz\n",
      "INFO:AcO_controller:Output logged in!\n",
      "INFO:AcO_controller:New output: M1 BM\n",
      "INFO:AcO_controller:Output logged in!\n",
      "INFO:DOS:New driver: science\n",
      "INFO:science:No inputs!\n",
      "INFO:science:New output: wfe_rms\n",
      "INFO:science:Output logged in!\n",
      "INFO:science:New output: segment_wfe_rms\n",
      "INFO:science:Output logged in!\n",
      "INFO:science:New output: PSSn\n",
      "INFO:science:Output logged in!\n",
      "INFO:science:New output: tiptilt\n",
      "INFO:science:Output logged in!\n",
      "INFO:science:New output: segment_piston\n",
      "INFO:science:Output logged in!\n",
      "INFO:science:New output: segment_tiptilt\n",
      "INFO:science:Output logged in!\n",
      "INFO:M1PosHP0_out:Linked to OSS_Hardpoint_delta_F from FEM\n",
      "INFO:x_hat:Linked to M12_RBM from wfs48\n",
      "INFO:M1 RTxyz:Linked to M1PosHP0_ref from M1PosHP0\n",
      "INFO:M2 Txyz:Linked to Txyz from M2\n",
      "INFO:M2 Rxyz:Linked to Rxyz from M2\n",
      "INFO:M1 BM:Linked to modes from M1\n"
     ]
    },
    {
     "name": "stdout",
     "output_type": "stream",
     "text": [
      "SIMCEO server received: Acknowledging connection from SIMCEO client!\n"
     ]
    },
    {
     "name": "stderr",
     "output_type": "stream",
     "text": [
      "INFO:DOS:Simulation setup for a duration of 10s @ 1Hz (10 steps)!\n",
      "DEBUG:DOS:Timing:FEM\n",
      "DEBUG:DOS:Timing:M2\n",
      "DEBUG:DOS:Timing:M1\n",
      "DEBUG:DOS:Timing:M1PosHP0\n",
      "DEBUG:DOS:Timing:wfs48\n",
      "DEBUG:DOS:Timing:AcO_controller\n",
      "DEBUG:DOS:Timing:science\n"
     ]
    }
   ],
   "source": [
    "sim = dos.DOS(path, 10, show_timing = 2)"
   ]
  },
  {
   "cell_type": "code",
   "execution_count": 3,
   "metadata": {},
   "outputs": [
    {
     "name": "stderr",
     "output_type": "stream",
     "text": [
      "INFO:DOS:Pushing configuration to server\n",
      "DEBUG:FEM:Starting!\n",
      "INFO:FEM:The server has failed!\n",
      "DEBUG:M2:Starting!\n",
      "INFO:M2:GMT\n",
      "DEBUG:M1:Starting!\n",
      "INFO:M1:GMT\n",
      "DEBUG:M1PosHP0:Starting!\n",
      "DEBUG:wfs48:Starting!\n",
      "INFO:wfs48:OP0\n",
      "DEBUG:AcO_controller:Starting!\n",
      "DEBUG:science:Starting!\n",
      "INFO:science:OP1\n",
      "INFO:DOS:Initializing\n",
      "DEBUG:FEM:Initializing!\n",
      "INFO:FEM:The server has failed!\n",
      "DEBUG:M2:Initializing!\n",
      "INFO:M2:None\n",
      "DEBUG:M1:Initializing!\n",
      "INFO:M1:None\n",
      "DEBUG:M1PosHP0:Initializing!\n",
      "DEBUG:wfs48:Initializing!\n",
      "INFO:wfs48:None\n",
      "DEBUG:AcO_controller:Initializing!\n",
      "DEBUG:science:Initializing!\n",
      "INFO:science:None\n",
      "INFO:DOS:Running\n",
      "DEBUG:DOS:Step #0\n",
      "DEBUG:FEM:Updating!\n",
      "DEBUG:M2:Updating!\n",
      "DEBUG:M1:Updating!\n",
      "DEBUG:M1PosHP0:Updating!\n",
      "DEBUG:M1PosHP0:Reordering! \n",
      "DEBUG:M1PosHP0:u: (1, 42)\n",
      "DEBUG:wfs48:Updating!\n",
      "DEBUG:AcO_controller:Updating!\n",
      "DEBUG:AcO_controller:u: (1, 273)\n",
      "DEBUG:science:Updating!\n",
      "DEBUG:FEM:Outputing OSS_M1_lcl!\n"
     ]
    },
    {
     "name": "stdout",
     "output_type": "stream",
     "text": [
      "Elapsed time: 1.178954839706421\n"
     ]
    },
    {
     "name": "stderr",
     "output_type": "stream",
     "text": [
      "Exception in thread Thread-4:\n",
      "Traceback (most recent call last):\n",
      "  File \"/home/felipe/anaconda3/lib/python3.7/threading.py\", line 926, in _bootstrap_inner\n",
      "    self.run()\n",
      "  File \"/home/felipe/Documents/GMT/SIMCEO_rromano/dos/dos.py\", line 132, in run\n",
      "    next(self.step)\n",
      "  File \"/home/felipe/Documents/GMT/SIMCEO_rromano/dos/dos.py\", line 121, in stepping\n",
      "    yield [x.update(l) for x in v] + [x.output(l) for x in v]\n",
      "  File \"/home/felipe/Documents/GMT/SIMCEO_rromano/dos/dos.py\", line 121, in <listcomp>\n",
      "    yield [x.update(l) for x in v] + [x.output(l) for x in v]\n",
      "  File \"/home/felipe/Documents/GMT/SIMCEO_rromano/dos/driver.py\", line 156, in output\n",
      "    v.data[...] = np.asarray(reply[k]).reshape(v.size)\n",
      "TypeError: string indices must be integers\n",
      "\n"
     ]
    }
   ],
   "source": [
    "sim.start()\n",
    "sim.join()"
   ]
  },
  {
   "cell_type": "code",
   "execution_count": null,
   "metadata": {},
   "outputs": [],
   "source": [
    "sim.terminate()"
   ]
  },
  {
   "cell_type": "markdown",
   "metadata": {},
   "source": [
    "# sim.logs.entries"
   ]
  },
  {
   "cell_type": "code",
   "execution_count": null,
   "metadata": {},
   "outputs": [],
   "source": [
    "import matplotlib.pyplot as plt\n",
    "from jupyterthemes import jtplot\n",
    "jtplot.style()"
   ]
  },
  {
   "cell_type": "code",
   "execution_count": null,
   "metadata": {},
   "outputs": [],
   "source": [
    "t = sim.logs.entries['M1PosHP0']['M1PosHP0_out'].timeSeries[0]\n",
    "hp = sim.logs.entries['M1PosHP0']['M1PosHP0_out'].timeSeries[1]\n",
    "ref = sim.logs.entries['AcO_controller']['M1 RTxyz'].timeSeries[1]"
   ]
  },
  {
   "cell_type": "code",
   "execution_count": null,
   "metadata": {
    "scrolled": false
   },
   "outputs": [],
   "source": [
    "for i in range(42):\n",
    "    plt.figure(figsize=(15,5))\n",
    "    plt.subplot(2,1,1)\n",
    "    plt.plot(t,ref[:,i])\n",
    "    plt.subplot(2,1,2)\n",
    "    plt.plot(t,hp[:,i])\n",
    "    plt.show()"
   ]
  }
 ],
 "metadata": {
  "kernelspec": {
   "display_name": "Python 3",
   "language": "python",
   "name": "python3"
  },
  "language_info": {
   "codemirror_mode": {
    "name": "ipython",
    "version": 3
   },
   "file_extension": ".py",
   "mimetype": "text/x-python",
   "name": "python",
   "nbconvert_exporter": "python",
   "pygments_lexer": "ipython3",
   "version": "3.7.4"
  }
 },
 "nbformat": 4,
 "nbformat_minor": 2
}
