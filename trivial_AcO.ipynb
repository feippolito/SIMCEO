{
 "cells": [
  {
   "cell_type": "code",
   "execution_count": null,
   "metadata": {},
   "outputs": [],
   "source": [
    "import dos\n",
    "path = './dos/trivial_AcO'"
   ]
  },
  {
   "cell_type": "code",
   "execution_count": null,
   "metadata": {},
   "outputs": [],
   "source": [
    "sim = dos.DOS(path, 20, show_timing = 2)"
   ]
  },
  {
   "cell_type": "code",
   "execution_count": null,
   "metadata": {},
   "outputs": [],
   "source": [
    "sim.start()\n",
    "sim.join()"
   ]
  },
  {
   "cell_type": "markdown",
   "metadata": {},
   "source": [
    "## Plot\n",
    "---"
   ]
  },
  {
   "cell_type": "code",
   "execution_count": null,
   "metadata": {},
   "outputs": [],
   "source": [
    "import matplotlib.pyplot as plt\n",
    "from jupyterthemes import jtplot\n",
    "\n",
    "jtplot.style()"
   ]
  },
  {
   "cell_type": "code",
   "execution_count": null,
   "metadata": {},
   "outputs": [],
   "source": [
    "time = sim.logs.entries['wfs48']['M12_RBM'].timeSeries[0]\n",
    "y1 = sim.logs.entries['AcO_controller']['M1 Txyz'].timeSeries[1][0,0,:]\n",
    "y2 = sim.logs.entries['AcO_controller']['M1 Txyz'].timeSeries[1][0,1,:]\n",
    "y3 = sim.logs.entries['AcO_controller']['M1 Txyz'].timeSeries[1][0,2,:]"
   ]
  },
  {
   "cell_type": "code",
   "execution_count": null,
   "metadata": {},
   "outputs": [],
   "source": [
    "plt.figure(figsize=(15,15))\n",
    "\n",
    "plt.subplot(3,1,1)\n",
    "plt.plot(time, y1)\n",
    "plt.subplot(3,1,2)\n",
    "plt.plot(time, y2)\n",
    "plt.subplot(3,1,3)\n",
    "plt.plot(time, y3)\n",
    "plt.show()"
   ]
  },
  {
   "cell_type": "markdown",
   "metadata": {},
   "source": [
    "## tests"
   ]
  },
  {
   "cell_type": "code",
   "execution_count": null,
   "metadata": {},
   "outputs": [],
   "source": [
    "path_to_config_dir = './dos/trivial_AcO'\n",
    "show_timing = 2"
   ]
  },
  {
   "cell_type": "code",
   "execution_count": null,
   "metadata": {},
   "outputs": [],
   "source": [
    "import os\n",
    "from ruamel.yaml import YAML\n",
    "yaml=YAML(typ='safe')"
   ]
  },
  {
   "cell_type": "code",
   "execution_count": null,
   "metadata": {},
   "outputs": [],
   "source": [
    "from .dos import "
   ]
  },
  {
   "cell_type": "code",
   "execution_count": null,
   "metadata": {},
   "outputs": [],
   "source": [
    "dos."
   ]
  },
  {
   "cell_type": "code",
   "execution_count": null,
   "metadata": {},
   "outputs": [],
   "source": [
    "DOS_REPO = path_to_config_dir\n",
    "cfg_file = os.path.join(path_to_config_dir,'dos.yaml')\n",
    "\n",
    "with open(cfg_file) as f:\n",
    "    cfg = yaml.load(f)\n",
    "\n",
    "agent = None\n",
    "if show_timing in [0,2]:\n",
    "    agent = broker(cfg['simulation']['server']['IP'])"
   ]
  },
  {
   "cell_type": "code",
   "execution_count": null,
   "metadata": {},
   "outputs": [],
   "source": [
    "\n",
    "\n",
    "self.N_SAMPLE = int(self.cfg['simulation']['sampling frequency']*\n",
    "                    self.cfg['simulation']['duration'])\n",
    "self.__k_step = 0\n",
    "self.pushed = False\n",
    "self.initialized = False\n",
    "tau = 1/self.cfg['simulation']['sampling frequency']\n",
    "self.logs = Logs(tau,logs_repo=self.DOS_REPO)\n",
    "self.drivers = {}"
   ]
  }
 ],
 "metadata": {
  "kernelspec": {
   "display_name": "Python 3",
   "language": "python",
   "name": "python3"
  },
  "language_info": {
   "codemirror_mode": {
    "name": "ipython",
    "version": 3
   },
   "file_extension": ".py",
   "mimetype": "text/x-python",
   "name": "python",
   "nbconvert_exporter": "python",
   "pygments_lexer": "ipython3",
   "version": "3.7.4"
  }
 },
 "nbformat": 4,
 "nbformat_minor": 2
}
