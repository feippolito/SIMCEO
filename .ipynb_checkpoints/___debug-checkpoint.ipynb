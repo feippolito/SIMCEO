{
 "cells": [
  {
   "cell_type": "code",
   "execution_count": 1,
   "metadata": {},
   "outputs": [],
   "source": [
    "import sys\n",
    "import threading\n",
    "import time\n",
    "import zmq\n",
    "import ceo\n",
    "import numpy as np\n",
    "from collections import OrderedDict\n",
    "import os\n",
    "import shelve\n",
    "import traceback\n",
    "import scipy.linalg as LA\n",
    "import pickle\n",
    "import zlib\n",
    "import logging\n",
    "import copy\n",
    "from numpy.linalg import norm\n",
    "\n",
    "from ruamel.yaml import YAML\n",
    "yaml=YAML(typ='safe')"
   ]
  },
  {
   "cell_type": "code",
   "execution_count": 2,
   "metadata": {},
   "outputs": [],
   "source": [
    "path_to_config_dir = './dos/trivial_AcO'"
   ]
  },
  {
   "cell_type": "code",
   "execution_count": 3,
   "metadata": {},
   "outputs": [],
   "source": [
    "logger = logging.getLogger('Teste')\n",
    "logger.setLevel(logging.INFO)\n",
    "\n",
    "DOS_REPO = path_to_config_dir\n",
    "cfg_file = os.path.join(path_to_config_dir,'dos.yaml')\n",
    "logger.info('Reading config from %s',cfg_file)\n",
    "with open(cfg_file) as f:\n",
    "    cfg = yaml.load(f)"
   ]
  },
  {
   "cell_type": "code",
   "execution_count": 4,
   "metadata": {},
   "outputs": [],
   "source": [
    "agent = None\n",
    "N_SAMPLE = int(cfg['simulation']['sampling frequency']*\n",
    "               cfg['simulation']['duration'])"
   ]
  },
  {
   "cell_type": "code",
   "execution_count": 5,
   "metadata": {},
   "outputs": [],
   "source": [
    "from dos.dos import Logs"
   ]
  },
  {
   "cell_type": "code",
   "execution_count": 6,
   "metadata": {},
   "outputs": [],
   "source": [
    "__k_step = 0\n",
    "pushed = False\n",
    "initialized = False\n",
    "tau = 1/cfg['simulation']['sampling frequency']\n",
    "logs = Logs(tau,logs_repo=DOS_REPO)"
   ]
  },
  {
   "cell_type": "code",
   "execution_count": 7,
   "metadata": {},
   "outputs": [],
   "source": [
    "from dos.driver import Client, Atmosphere\n",
    "verbose=logging.INFO"
   ]
  },
  {
   "cell_type": "code",
   "execution_count": 8,
   "metadata": {},
   "outputs": [
    {
     "data": {
      "text/plain": [
       "dict_keys(['M1', 'M2', 'wfs48', 'AcO_controller', 'science'])"
      ]
     },
     "execution_count": 8,
     "metadata": {},
     "output_type": "execute_result"
    }
   ],
   "source": [
    "cfg['drivers'].keys()"
   ]
  },
  {
   "cell_type": "code",
   "execution_count": 9,
   "metadata": {},
   "outputs": [
    {
     "ename": "NameError",
     "evalue": "name 'Driver' is not defined",
     "output_type": "error",
     "traceback": [
      "\u001b[0;31m---------------------------------------------------------------------------\u001b[0m",
      "\u001b[0;31mNameError\u001b[0m                                 Traceback (most recent call last)",
      "\u001b[0;32m<ipython-input-9-e63c4916cd2e>\u001b[0m in \u001b[0;36m<module>\u001b[0;34m\u001b[0m\n\u001b[0;32m----> 1\u001b[0;31m \u001b[0;32mclass\u001b[0m \u001b[0mServer\u001b[0m\u001b[0;34m(\u001b[0m\u001b[0mDriver\u001b[0m\u001b[0;34m)\u001b[0m\u001b[0;34m:\u001b[0m\u001b[0;34m\u001b[0m\u001b[0;34m\u001b[0m\u001b[0m\n\u001b[0m\u001b[1;32m      2\u001b[0m     def __init__(self,tau,tag,logs,server,delay=0,sampling_rate=1,\n\u001b[1;32m      3\u001b[0m              verbose=logging.INFO,**kwargs):\n\u001b[1;32m      4\u001b[0m         \u001b[0mDriver\u001b[0m\u001b[0;34m.\u001b[0m\u001b[0m__init__\u001b[0m\u001b[0;34m(\u001b[0m\u001b[0mself\u001b[0m\u001b[0;34m,\u001b[0m\u001b[0mtau\u001b[0m\u001b[0;34m,\u001b[0m\u001b[0mtag\u001b[0m\u001b[0;34m)\u001b[0m\u001b[0;34m\u001b[0m\u001b[0;34m\u001b[0m\u001b[0m\n\u001b[1;32m      5\u001b[0m         \u001b[0mself\u001b[0m\u001b[0;34m.\u001b[0m\u001b[0mlogger\u001b[0m \u001b[0;34m=\u001b[0m \u001b[0mlogging\u001b[0m\u001b[0;34m.\u001b[0m\u001b[0mgetLogger\u001b[0m\u001b[0;34m(\u001b[0m\u001b[0mtag\u001b[0m\u001b[0;34m)\u001b[0m\u001b[0;34m\u001b[0m\u001b[0;34m\u001b[0m\u001b[0m\n",
      "\u001b[0;31mNameError\u001b[0m: name 'Driver' is not defined"
     ]
    }
   ],
   "source": [
    "class Server(Driver):\n",
    "    def __init__(self,tau,tag,logs,server,delay=0,sampling_rate=1,\n",
    "             verbose=logging.INFO,**kwargs):\n",
    "        Driver.__init__(self,tau,tag)\n",
    "        self.logger = logging.getLogger(tag)\n",
    "        self.logger.setLevel(verbose)\n",
    "        self.delay         = delay\n",
    "        self.sampling_rate = sampling_rate\n",
    "        self.inputs       = {}\n",
    "        try:\n",
    "            for k in kwargs['inputs']:\n",
    "                v = kwargs['inputs'][k]\n",
    "                self.logger.info('New input: %s',k)\n",
    "                self.inputs[k] = Input(k,**v)\n",
    "        except KeyError:\n",
    "            self.logger.info('No inputs!')\n",
    "        self.outputs       = {}\n",
    "        try:\n",
    "            for k in kwargs['outputs']:\n",
    "                v = kwargs['outputs'][k]\n",
    "                self.logger.info('New output: %s',k)\n",
    "                if not 'sampling_rate' in v:\n",
    "                    v['sampling_rate']=self.sampling_rate\n",
    "                if v['sampling_rate']<self.sampling_rate:\n",
    "                    if v['sampling_rate']!=1:\n",
    "                        self.logger.error('The driver output rate cannot be less than the update rate!')\n",
    "                    self.logger.warning('Changing the output rate to match the update rate!')\n",
    "                    v['sampling_rate'] = self.sampling_rate\n",
    "                if 'logs' in v:\n",
    "                    logs.add(tag,k,v['logs']['decimation'],self.delay)\n",
    "                    if v['logs']['decimation']<v['sampling_rate']:\n",
    "                        if v['logs']['decimation']!=1:\n",
    "                            self.logger.error('The log decimation rate cannot be less than the output rate!')\n",
    "                        self.logger.warning('Changing the decimation rate to match the output rate!')\n",
    "                        v['logs']['decimation'] = v['sampling_rate']\n",
    "                    v['logs'] = logs.entries[tag][k]\n",
    "                    self.logger.info('Output logged in!')\n",
    "                self.outputs[k] = Output(k,**v)\n",
    "        except KeyError:\n",
    "            self.logger.info('No inputs!')\n",
    "        try:\n",
    "            self.shape = kwargs['shape']\n",
    "        except KeyError:\n",
    "            self.shape = None\n",
    "        try:\n",
    "            self.split = kwargs['split']\n",
    "        except KeyError:\n",
    "            self.split = {'indices_or_sections':1,'axis':0}\n",
    "        self.server        = server\n",
    "        self.msg = {'class_id':'',\n",
    "                    'method_id':'',\n",
    "                    'args':{}}\n",
    "        self.msg_args = {'Start':{},\n",
    "                    'Init':{},\n",
    "                    'Update':{'inputs':{}},\n",
    "                    'Outputs':{'outputs':[]},\n",
    "                    'Terminate':{'args':None}}"
   ]
  },
  {
   "cell_type": "code",
   "execution_count": null,
   "metadata": {},
   "outputs": [],
   "source": [
    "drivers = {}\n",
    "for d,v in cfg['drivers'].items():\n",
    "    prm_file = os.path.join(path_to_config_dir,d)\n",
    "    if os.path.isfile(prm_file+'.yaml') or os.path.isfile(prm_file+'.pickle'):\n",
    "        logger.info('New driver: %s',d)\n",
    "        if 'server' in v and v['server'] is False:\n",
    "            drivers[d] = Client(tau,d,\n",
    "                                            logs,\n",
    "                                            verbose=verbose,**v)\n",
    "        elif d=='atmosphere':\n",
    "            drivers[d] = Atmosphere(tau,d,agent,\n",
    "                                                    verbose=verbose)\n",
    "        else:\n",
    "            print(v)\n",
    "            drivers[d] = Server(tau,d,\n",
    "                                            logs,\n",
    "                                            agent,\n",
    "                                            verbose=verbose,**v)\n",
    "    else:\n",
    "        logger.warning('%s is missing!',prm_file)"
   ]
  },
  {
   "cell_type": "code",
   "execution_count": null,
   "metadata": {},
   "outputs": [],
   "source": [
    "drivers['M1']"
   ]
  },
  {
   "cell_type": "code",
   "execution_count": null,
   "metadata": {},
   "outputs": [],
   "source": [
    " for k_d in drivers:\n",
    "    d = drivers[k_d]\n",
    "    for k_i in d.inputs:\n",
    "        d.inputs[k_i].tie(drivers)\n",
    "    for k_o in d.outputs:\n",
    "        d.outputs[k_o].tie(drivers)\n",
    "for k_d in drivers:\n",
    "    d = drivers[k_d]\n",
    "    device = os.path.join(path_to_config_dir,k_d)\n",
    "    try:\n",
    "        with open(device+'.yaml') as f:\n",
    "            prm = yaml.load(f)\n",
    "    except:\n",
    "        with open(device+'.pickle','rb') as f:\n",
    "            prm = pickle.load(f)\n",
    "    #print(prm)\n",
    "    if 'mirror' in prm:\n",
    "        print(k_d)\n",
    "    #print('\\n\\n')\n",
    "    d.associate(prm)"
   ]
  },
  {
   "cell_type": "code",
   "execution_count": null,
   "metadata": {},
   "outputs": [],
   "source": [
    "drivers['M1'].inputs"
   ]
  },
  {
   "cell_type": "code",
   "execution_count": null,
   "metadata": {},
   "outputs": [],
   "source": [
    "self.__start = map(lambda x: x.start(), self.drivers.values())\n",
    "self.__init = map(lambda x: x.init(), self.drivers.values())\n",
    "self.step = self.stepping()\n",
    "self.__terminate = map(lambda x: x.terminate(), self.drivers.values())\n",
    "self.logger.info('Simulation setup for a duration of {0}s @ {1}Hz ({2} steps)!'.format(\n",
    "    self.cfg['simulation']['duration'],\n",
    "    self.cfg['simulation']['sampling frequency'],\n",
    "    self.N_SAMPLE))\n"
   ]
  }
 ],
 "metadata": {
  "kernelspec": {
   "display_name": "Python 3",
   "language": "python",
   "name": "python3"
  },
  "language_info": {
   "codemirror_mode": {
    "name": "ipython",
    "version": 3
   },
   "file_extension": ".py",
   "mimetype": "text/x-python",
   "name": "python",
   "nbconvert_exporter": "python",
   "pygments_lexer": "ipython3",
   "version": "3.7.4"
  }
 },
 "nbformat": 4,
 "nbformat_minor": 2
}
