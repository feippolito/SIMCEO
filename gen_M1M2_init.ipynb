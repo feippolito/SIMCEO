{
 "cells": [
  {
   "cell_type": "markdown",
   "metadata": {},
   "source": [
    "### Generates M1/M2 yaml files for different case-studies on initial loads."
   ]
  },
  {
   "cell_type": "code",
   "execution_count": 1,
   "metadata": {},
   "outputs": [],
   "source": [
    "import numpy as np\n",
    "from scipy.linalg import block_diag\n",
    "\n",
    "from pathlib import Path\n",
    "# import DOS library\n",
    "import dos\n",
    "import dos.plot_tools as ptools\n",
    "\n",
    "from ruamel import yaml\n",
    "from ruamel.yaml import YAML\n",
    "y = YAML()\n",
    "y.default_flow_style = None\n",
    "\n",
    "import scipy.io as spio\n",
    "import os\n",
    "from os import path\n",
    "import matplotlib.pyplot as plt\n",
    "# Define color and marker for analysis plots\n",
    "markers = [\"P\", \"X\", \"d\",\"s\",\"x\",\"+\",\".\"]\n",
    "colors = [\"blue\",\"orange\",\"green\",\"red\",\"purple\",\"brown\",\"pink\"]"
   ]
  },
  {
   "cell_type": "markdown",
   "metadata": {},
   "source": [
    "Data folder"
   ]
  },
  {
   "cell_type": "code",
   "execution_count": 5,
   "metadata": {},
   "outputs": [],
   "source": [
    "dt_folder = '/home/felipe/Documents/GMTO/MatlabScripts/InfluenceMatrices'"
   ]
  },
  {
   "cell_type": "markdown",
   "metadata": {},
   "source": [
    "Settings"
   ]
  },
  {
   "cell_type": "code",
   "execution_count": 2,
   "metadata": {},
   "outputs": [],
   "source": [
    "# Case-study label\n",
    "test_case = 'random' # 'random_RBM' # 'BM_dist' #\n",
    "# Identification number\n",
    "r_id = 1\n",
    "# Number of M1 bending modes\n",
    "n_bm = 27"
   ]
  },
  {
   "cell_type": "code",
   "execution_count": 6,
   "metadata": {},
   "outputs": [],
   "source": [
    "# Initialize states dictionary\n",
    "if 'm1_x0_dt' not in locals():\n",
    "    m1_x0_dt = {'mirror' : 'M1',\n",
    "                'mirror_args': {'mirror_modes': 'bending modes','N_MODE': n_bm},\n",
    "                'state': {'Txyz':[],'Rxyz':[],'modes':[]}}\n",
    "if 'm2_x0_dt' not in locals():\n",
    "    m2_x0_dt = {'mirror' : 'M2',\n",
    "                'mirror_args': {},\n",
    "                'state': {'Txyz':[],'Rxyz':[]}}\n",
    "\n",
    "m1_x0_dt['state']['Txyz'] = np.zeros((7,3)).tolist()\n",
    "m1_x0_dt['state']['Rxyz'] = np.zeros((7,3)).tolist()\n",
    "m1_x0_dt['state']['modes'] = np.zeros((7,n_bm)).tolist()\n",
    "m2_x0_dt['state']['Txyz'] = np.zeros((7,3)).tolist()\n",
    "m2_x0_dt['state']['Rxyz'] =  np.zeros((7,3)).tolist()        \n",
    "# Update number of M1 bending modes in yaml file\n",
    "m1_x0_dt['mirror_args']['N_MODE'] = n_bm"
   ]
  },
  {
   "cell_type": "code",
   "execution_count": 9,
   "metadata": {},
   "outputs": [
    {
     "name": "stdout",
     "output_type": "stream",
     "text": [
      "86.78186647058612\n",
      "71.2415460767723\n",
      "61.23535158192895\n",
      "65.46728590653669\n",
      "62.49486302530415\n",
      "68.9934137270551\n",
      "60.52177032516452\n"
     ]
    },
    {
     "data": {
      "image/png": "[encoded data removed]",
      "text/plain": [
       "<Figure size 432x288 with 1 Axes>"
      ]
     },
     "metadata": {
      "needs_background": "light"
     },
     "output_type": "display_data"
    }
   ],
   "source": [
    "#\n",
    "        \n",
    "if(test_case == 'fully_aligned'):\n",
    "    pass\n",
    "#        \n",
    "elif(test_case == 'BM_dist'):\n",
    "    fileSTR = '_2_3bm'\n",
    "    m1_x0_dt['state']['modes'][0][2] = 5.0e-4\n",
    "    m1_x0_dt['state']['modes'][0][1] = 5.0e-4\n",
    "#    \n",
    "elif(test_case == 'random_RBM') or (test_case == 'random'):\n",
    "    k_ = 3.0e-6    # 3xstd\n",
    "    as2urad = 4.84814\n",
    "    x_rand = (2*np.random.rand(7,39)-1)\n",
    "    \n",
    "    # M1 random initial values\n",
    "    x0_M1_Tx = k_*block_diag(np.kron(np.eye(6),0.057),1.654).dot(x_rand[:,0])\n",
    "    x0_M1_Ty = k_*block_diag(np.kron(np.eye(6),0.06),0.99).dot(x_rand[:,1])\n",
    "    x0_M1_Tz = k_*block_diag(np.kron(np.eye(6),0.144),0.201).dot(x_rand[:,2])\n",
    "    m1_x0_dt['state']['Txyz'] = np.vstack([x0_M1_Tx,x0_M1_Ty,x0_M1_Tz]).T.tolist()\n",
    "    x0_M1_Rx = k_*as2urad*block_diag(np.kron(np.eye(6),0.01),0.014).dot(x_rand[:,3])\n",
    "    x0_M1_Ry = k_*as2urad*block_diag(np.kron(np.eye(6),0.004),0.016).dot(x_rand[:,4])\n",
    "    x0_M1_Rz = k_*as2urad*block_diag(np.kron(np.eye(6),0.006),0.035).dot(x_rand[:,5])\n",
    "    m1_x0_dt['state']['Rxyz'] = np.vstack([x0_M1_Rx,x0_M1_Ry,x0_M1_Rz]).T.tolist()\n",
    "    \n",
    "    # M2 random initial values\n",
    "    x0_M2_Tx = k_*block_diag(np.kron(np.eye(6),6.235),5.863).dot(x_rand[:,6])\n",
    "    x0_M2_Ty = k_*block_diag(np.kron(np.eye(6),6.192),5.863).dot(x_rand[:,7])\n",
    "    x0_M2_Tz = k_*block_diag(np.kron(np.eye(6),1.595),0.869).dot(x_rand[:,8])\n",
    "    m2_x0_dt['state']['Txyz'] = np.vstack([x0_M2_Tx,x0_M2_Ty,x0_M2_Tz]).T.tolist()\n",
    "    x0_M2_Rx = k_*as2urad*block_diag(np.kron(np.eye(6),0.474),0.463).dot(x_rand[:,9])\n",
    "    x0_M2_Ry = k_*as2urad*block_diag(np.kron(np.eye(6),0.688),0.465).dot(x_rand[:,10])\n",
    "    x0_M2_Rz = k_*as2urad*block_diag(np.kron(np.eye(6),2.315),2.186).dot(x_rand[:,11])\n",
    "    m2_x0_dt['state']['Rxyz'] = np.vstack([x0_M2_Rx,x0_M2_Ry,x0_M2_Rz]).T.tolist()\n",
    "    \n",
    "    if(test_case == 'random'):\n",
    "        \n",
    "        # Bending modes' data\n",
    "        Afz = {}\n",
    "        # OA segment weights\n",
    "        filepath = os.path.join(dt_folder,'Af_oa_axial_ver3.mat')\n",
    "        Afz['outer'] = spio.loadmat(filepath)['afprime']\n",
    "        _U,s_oa,V_oaT = np.linalg.svd(Afz['outer'],0)\n",
    "        bm2Fz_oa = np.dot(V_oaT.T, np.diag(1/s_oa)[:,:n_bm])\n",
    "        # CS (center segment) weights\n",
    "        filepath = os.path.join(dt_folder,'Af_cs154_axial.mat')\n",
    "        Afz['center'] = spio.loadmat(filepath)['afprime']\n",
    "        _U,s_cs,V_csT = np.linalg.svd(Afz['center'],0)\n",
    "        bm2Fz_cs = np.dot(V_csT.T, np.diag(1/s_cs)[:,:n_bm])\n",
    "        \n",
    "        bms = np.vstack([np.random.rand(6,n_bm).dot(np.diag(s_oa[:n_bm]/s_oa[0]))*2.5e-4,\n",
    "                        np.random.rand(1,n_bm).dot(np.diag(s_cs[:n_bm]/s_oa[0]))*2.0e-4])\n",
    "        for kseg in range(6):\n",
    "            plt.plot(np.arange(1,n_bm+1),bms[kseg,:],':', color=colors[kseg], marker=markers[kseg])\n",
    "            print(max(abs(bm2Fz_oa.dot(bms[kseg,:]))))\n",
    "        plt.plot(np.arange(1,n_bm+1),bms[6,:],':', color=colors[6], marker=markers[6])\n",
    "        plt.grid()\n",
    "        plt.ylabel('Bending mode mag')\n",
    "        plt.xlabel('# Bending mode')\n",
    "        print(max(abs(bm2Fz_cs.dot(bms[6,:]))))\n",
    "        m1_x0_dt['state']['modes'] = bms.tolist()\n"
   ]
  },
  {
   "cell_type": "code",
   "execution_count": 12,
   "metadata": {},
   "outputs": [
    {
     "data": {
      "text/plain": [
       "array([[1.46483874e-05, 2.17554619e-04, 4.77231792e-05, 4.05863701e-05,\n",
       "        1.09104461e-05, 1.24229268e-05, 4.56010164e-06, 1.54949115e-06,\n",
       "        9.85114670e-06, 3.31896777e-06, 5.04029015e-06, 2.31467489e-06,\n",
       "        1.00230585e-06, 5.82306593e-06, 1.08209399e-06, 9.88862110e-07,\n",
       "        1.22485512e-06, 3.31677977e-06, 1.91519988e-07, 1.21297433e-06,\n",
       "        1.05811002e-06, 2.09989843e-06, 1.91680726e-06, 1.06092527e-06,\n",
       "        1.67829647e-06, 5.70155410e-07, 1.04712451e-06],\n",
       "       [1.40910313e-04, 1.65922544e-04, 5.92858346e-05, 4.14391133e-06,\n",
       "        2.45309849e-05, 5.07304873e-06, 1.76105328e-05, 9.80432686e-06,\n",
       "        5.23389480e-06, 5.46677602e-07, 3.43942246e-06, 5.00755677e-06,\n",
       "        5.90643594e-06, 2.97987472e-06, 1.41101974e-06, 5.86408634e-07,\n",
       "        1.37586681e-06, 3.48727476e-06, 2.70291626e-06, 7.46705891e-07,\n",
       "        3.50591121e-07, 1.29698040e-06, 4.15107608e-07, 6.99539014e-07,\n",
       "        1.12174021e-06, 1.52695809e-06, 1.41242951e-06],\n",
       "       [7.55266357e-05, 2.23668519e-05, 3.98900835e-05, 2.80674921e-05,\n",
       "        4.54613133e-06, 1.61776550e-06, 9.01853682e-06, 7.95116391e-06,\n",
       "        1.16273456e-05, 3.98619458e-06, 6.82799831e-06, 6.66420585e-06,\n",
       "        1.12511883e-06, 4.70838645e-06, 5.80829105e-07, 8.96847743e-07,\n",
       "        3.26539018e-07, 2.32942253e-06, 2.18612516e-06, 9.78283194e-07,\n",
       "        1.23119209e-07, 1.77045329e-06, 5.00494680e-07, 1.20355441e-06,\n",
       "        8.68905747e-07, 5.17822412e-07, 3.71584228e-07],\n",
       "       [9.91485453e-05, 2.31238853e-04, 3.27083825e-05, 3.58428218e-06,\n",
       "        3.53844666e-05, 1.15187848e-05, 5.55754827e-06, 7.57304481e-06,\n",
       "        6.09135941e-06, 4.60294875e-06, 1.97906556e-06, 6.36203369e-06,\n",
       "        6.62637875e-06, 1.69244401e-06, 3.62738252e-07, 2.18553446e-06,\n",
       "        1.78720116e-06, 7.30651266e-07, 1.56263848e-06, 2.13569262e-06,\n",
       "        2.06982799e-06, 4.30271003e-07, 1.85210939e-06, 6.12123339e-07,\n",
       "        1.48011264e-06, 1.31602931e-06, 2.38100990e-07],\n",
       "       [1.33650456e-04, 1.04867584e-04, 4.79673569e-05, 2.08682075e-05,\n",
       "        1.86029588e-06, 1.34279709e-06, 7.82371678e-07, 1.73314083e-06,\n",
       "        2.78447369e-06, 4.51897671e-06, 5.91626061e-06, 3.93939183e-06,\n",
       "        1.81366990e-07, 1.66804459e-06, 6.18553802e-07, 2.21939604e-06,\n",
       "        8.66457374e-07, 1.99950712e-06, 2.63439782e-06, 5.36423491e-08,\n",
       "        1.82858945e-06, 1.48868281e-06, 1.93990226e-06, 2.38791076e-07,\n",
       "        7.61663066e-07, 1.04050968e-06, 5.36664109e-07],\n",
       "       [1.90328218e-04, 1.26953896e-04, 3.39005961e-05, 4.02654294e-06,\n",
       "        2.64728133e-05, 1.45813478e-06, 9.79067181e-06, 1.07258441e-05,\n",
       "        2.54165961e-06, 3.82240316e-06, 4.71028746e-06, 9.05114252e-08,\n",
       "        1.94193133e-06, 5.91538968e-06, 1.39760817e-06, 3.30083969e-06,\n",
       "        2.71346298e-06, 1.87667109e-06, 1.68532934e-06, 2.49743662e-06,\n",
       "        4.99149206e-07, 2.11645260e-06, 4.89363126e-07, 1.00648873e-06,\n",
       "        5.81352483e-07, 1.59038723e-07, 4.70574108e-08],\n",
       "       [9.08417387e-05, 6.27932846e-05, 1.59580095e-05, 1.89293516e-05,\n",
       "        1.83352979e-05, 1.56223621e-05, 5.91233959e-06, 1.62206634e-06,\n",
       "        6.97526515e-06, 6.82761033e-06, 1.50770252e-06, 4.82197958e-06,\n",
       "        3.53440013e-06, 1.59149517e-06, 4.25537053e-08, 2.94058730e-06,\n",
       "        1.27640427e-06, 1.74846645e-06, 2.38416873e-06, 3.07111261e-07,\n",
       "        4.60586090e-07, 5.12906225e-07, 1.33285732e-06, 3.36581144e-07,\n",
       "        1.03210002e-06, 1.49067923e-06, 3.26271234e-07]])"
      ]
     },
     "execution_count": 12,
     "metadata": {},
     "output_type": "execute_result"
    }
   ],
   "source": [
    "bms"
   ]
  },
  {
   "cell_type": "code",
   "execution_count": 19,
   "metadata": {},
   "outputs": [
    {
     "name": "stdout",
     "output_type": "stream",
     "text": [
      "_rbmplusbm_1\n"
     ]
    }
   ],
   "source": [
    "# Filename\n",
    "\n",
    "if(test_case == 'BM_dist'):\n",
    "    fileSTR = '_2_3bm'\n",
    "elif(test_case == 'random_RBM'):\n",
    "    fileSTR = '_rand_rbm_%d' %r_id\n",
    "elif(test_case == 'random'):\n",
    "    fileSTR = '_rbmplusbm_%d' %r_id\n",
    "else:\n",
    "    fileSTR = '_noload' %r_id\n",
    "\n",
    "print(fileSTR)"
   ]
  },
  {
   "cell_type": "code",
   "execution_count": null,
   "metadata": {},
   "outputs": [],
   "source": []
  },
  {
   "cell_type": "code",
   "execution_count": 20,
   "metadata": {},
   "outputs": [],
   "source": [
    "# Update yaml files with M1/M2 initial conditions    \n",
    "with open(Path(dt_folder)/('M1'+fileSTR+'.yaml'),'w') as f:\n",
    "    y.dump(m1_x0_dt, f)\n",
    "with open(Path(dt_folder)/('M2'+fileSTR+'.yaml'),'w') as f:\n",
    "    y.dump(m2_x0_dt, f)"
   ]
  },
  {
   "cell_type": "code",
   "execution_count": null,
   "metadata": {},
   "outputs": [],
   "source": []
  },
  {
   "cell_type": "code",
   "execution_count": 89,
   "metadata": {},
   "outputs": [],
   "source": []
  },
  {
   "cell_type": "code",
   "execution_count": null,
   "metadata": {},
   "outputs": [],
   "source": []
  },
  {
   "cell_type": "code",
   "execution_count": null,
   "metadata": {},
   "outputs": [],
   "source": []
  },
  {
   "cell_type": "code",
   "execution_count": null,
   "metadata": {},
   "outputs": [],
   "source": []
  },
  {
   "cell_type": "code",
   "execution_count": null,
   "metadata": {},
   "outputs": [],
   "source": []
  },
  {
   "cell_type": "code",
   "execution_count": 64,
   "metadata": {},
   "outputs": [],
   "source": [
    "\n"
   ]
  },
  {
   "cell_type": "code",
   "execution_count": 47,
   "metadata": {},
   "outputs": [],
   "source": []
  },
  {
   "cell_type": "code",
   "execution_count": 82,
   "metadata": {},
   "outputs": [
    {
     "name": "stdout",
     "output_type": "stream",
     "text": [
      "80.72598604180851\n",
      "83.37781632864117\n",
      "107.21667038138031\n",
      "73.61900753782376\n",
      "72.53572164236809\n",
      "76.41349645062814\n",
      "70.64364016713472\n"
     ]
    }
   ],
   "source": []
  },
  {
   "cell_type": "code",
   "execution_count": null,
   "metadata": {},
   "outputs": [],
   "source": []
  },
  {
   "cell_type": "code",
   "execution_count": 72,
   "metadata": {},
   "outputs": [
    {
     "data": {
      "text/plain": [
       "(1, 2, 3, 5, 8, 13, 21)"
      ]
     },
     "execution_count": 72,
     "metadata": {},
     "output_type": "execute_result"
    }
   ],
   "source": [
    "1, 2, 3, 5, 8, 13, 21"
   ]
  },
  {
   "cell_type": "code",
   "execution_count": null,
   "metadata": {},
   "outputs": [],
   "source": []
  },
  {
   "cell_type": "code",
   "execution_count": 77,
   "metadata": {},
   "outputs": [
    {
     "name": "stdout",
     "output_type": "stream",
     "text": [
      "128.60476033042795\n",
      "157.2321672730265\n",
      "120.53177657366423\n",
      "132.39920520130005\n",
      "149.45290667167873\n",
      "121.49098331406893\n",
      "128.3763235273333\n"
     ]
    }
   ],
   "source": []
  },
  {
   "cell_type": "code",
   "execution_count": 67,
   "metadata": {},
   "outputs": [
    {
     "data": {
      "text/plain": [
       "[<matplotlib.lines.Line2D at 0x1c21506da0>,\n",
       " <matplotlib.lines.Line2D at 0x1c21506ef0>,\n",
       " <matplotlib.lines.Line2D at 0x1c21513080>,\n",
       " <matplotlib.lines.Line2D at 0x1c215131d0>,\n",
       " <matplotlib.lines.Line2D at 0x1c21513320>,\n",
       " <matplotlib.lines.Line2D at 0x1c21513470>,\n",
       " <matplotlib.lines.Line2D at 0x1c215135c0>]"
      ]
     },
     "execution_count": 67,
     "metadata": {},
     "output_type": "execute_result"
    },
    {
     "data": {
      "image/png": "[encoded data removed]",
      "text/plain": [
       "<Figure size 432x288 with 1 Axes>"
      ]
     },
     "metadata": {
      "needs_background": "light"
     },
     "output_type": "display_data"
    }
   ],
   "source": []
  },
  {
   "cell_type": "code",
   "execution_count": null,
   "metadata": {},
   "outputs": [],
   "source": []
  }
 ],
 "metadata": {
  "kernelspec": {
   "display_name": "Python 3",
   "language": "python",
   "name": "python3"
  },
  "language_info": {
   "codemirror_mode": {
    "name": "ipython",
    "version": 3
   },
   "file_extension": ".py",
   "mimetype": "text/x-python",
   "name": "python",
   "nbconvert_exporter": "python",
   "pygments_lexer": "ipython3",
   "version": "3.7.4"
  }
 },
 "nbformat": 4,
 "nbformat_minor": 4
}
