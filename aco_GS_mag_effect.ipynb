{
 "cells": [
  {
   "cell_type": "code",
   "execution_count": 1,
   "metadata": {},
   "outputs": [],
   "source": [
    "# Notebook to evaluate active optics strategies"
   ]
  },
  {
   "cell_type": "code",
   "execution_count": 1,
   "metadata": {},
   "outputs": [],
   "source": [
    "import numpy as np\n",
    "import logging\n",
    "import pickle\n",
    "from scipy.linalg import block_diag\n",
    "import scipy.io as spio\n",
    "# required libraries for Reconstructor matrix computation or MPC\n",
    "from scipy import sparse\n",
    "\n",
    "import os.path\n",
    "from os import path\n",
    "\n",
    "from pathlib import Path\n",
    "# import DOS library\n",
    "import dos\n",
    "\n",
    "from ruamel import yaml\n",
    "from ruamel.yaml import YAML\n",
    "y = YAML()\n",
    "y.default_flow_style = None\n",
    "\n",
    "sim_folder = 'dos/SH_AcO'\n",
    "calibDataFolder = '/Users/rromano/Workspace/SIMCEO/calibration_dbs'"
   ]
  },
  {
   "cell_type": "code",
   "execution_count": 2,
   "metadata": {},
   "outputs": [],
   "source": [
    "# Load data from yaml file\n",
    "\n",
    "with open(Path(sim_folder)/'wfs48.yaml','r') as stream:\n",
    "        wfs48_dt = yaml.safe_load(stream)\n",
    "# with open(Path(sim_folder)/'AcO_controller.yaml','r') as stream:\n",
    "#         aco_ctrl_dt = yaml.safe_load(stream)\n",
    "\n",
    "# Calibrations data\n",
    "#dt = np.load(Path(calibDataFolder)/'calib_dt_SH0p5fluxTH_46BM.npz', allow_pickle=True)\n",
    "dt = np.load(Path(calibDataFolder)/'calib_dt_GSH0p5fluxTH_46BM.npz', allow_pickle=True)"
   ]
  },
  {
   "cell_type": "code",
   "execution_count": null,
   "metadata": {},
   "outputs": [],
   "source": []
  },
  {
   "cell_type": "code",
   "execution_count": 3,
   "metadata": {},
   "outputs": [],
   "source": [
    "def get_aco_recW(Dsh,n_bm,rho_F):\n",
    "    \n",
    "    # --- W2 ---\n",
    "    _U,sigma,VT = np.linalg.svd(Dsh,full_matrices=False)\n",
    "    n_r = 12\n",
    "    q = sigma[-n_r:] #40*sigma[-12:] #np.ones((12)) #np.zeros_like(sigma)\n",
    "    W2 = VT[-n_r:,:].T.dot(np.diag(q)).dot(VT[-n_r:,:])\n",
    "\n",
    "    # --- W3 ---\n",
    "    #rho_F = 1.\n",
    "    # RBMs\n",
    "    W_M1TxyzRxyz = 4*np.ones(6)\n",
    "    W_M2TxyzRxyz = np.ones(6)   \n",
    "    W_rbm_oa = block_diag(np.diag(W_M1TxyzRxyz), np.diag(W_M2TxyzRxyz))\n",
    "    W_rbm_cs = block_diag(np.diag(W_M1TxyzRxyz[:-1]), np.diag(W_M2TxyzRxyz[:-1]))\n",
    "    \n",
    "    # OA segment weights\n",
    "    W_m1oaFz = np.diag([1]*165)\n",
    "    W_m1oaFz =  rho_F*(1/np.linalg.norm(W_m1oaFz))*W_m1oaFz\n",
    "    # CS (center segment) weights\n",
    "    W_m1csFz = np.diag([1]*154)\n",
    "    W_m1csFz =  rho_F*(1/np.linalg.norm(W_m1csFz))*W_m1csFz\n",
    "\n",
    "\n",
    "    # Rescale RBM weighting matrix\n",
    "    rbm_factor = 1/np.linalg.norm(W_rbm_oa) \n",
    "    # Merge weighting matrices\n",
    "    W3_oa = block_diag(rbm_factor*W_rbm_oa,W_m1oaFz)\n",
    "    W3_cs = block_diag(rbm_factor*W_rbm_cs,W_m1csFz)\n",
    "    W3 = block_diag(np.kron(np.eye(6),W3_oa),W3_cs)\n",
    "    \n",
    "    W3 = (1/np.linalg.norm(W3))*W3\n",
    "    \n",
    "    return W2, W3\n"
   ]
  },
  {
   "cell_type": "code",
   "execution_count": 4,
   "metadata": {},
   "outputs": [],
   "source": [
    "n_bm = 27\n",
    "K = 0.25"
   ]
  },
  {
   "cell_type": "markdown",
   "metadata": {},
   "source": [
    "#### AcO reconstructor+controller settings"
   ]
  },
  {
   "cell_type": "code",
   "execution_count": 5,
   "metadata": {},
   "outputs": [
    {
     "name": "stdout",
     "output_type": "stream",
     "text": [
      "M1/2 RBM weights (M1/TxyzRxyz):\n",
      " [ 0.151511  0.151511  0.151511  0.151511  0.151511  0.151511]\n",
      "\n",
      "M1/2 RBM weights (M2/TxyzRxyz):\n",
      " [ 0.037878  0.037878  0.037878  0.037878  0.037878  0.037878]\n",
      "\n",
      "Force weights:\n",
      " 1.5752020421330646e-05\n"
     ]
    }
   ],
   "source": [
    "# *** Reconstructor tuning settings ***\n",
    "\n",
    "# Number of bending modes\n",
    "n_bm = 27\n",
    "\n",
    "# Consolidate SH-WFS interaction matrices of all segments\n",
    "Dsh = block_diag(*[Dseg[:,:12+n_bm] for Dseg in dt['calibdt'][()]['D'][:-1]])\n",
    "Dsh = block_diag(Dsh,dt['calibdt'][()]['D'][-1][:,:10+n_bm])\n",
    "\n",
    "# Max actuator command values\n",
    "max_m1RBM = [3.0e-3,4.75e-3,4e-3] + [6.5e-4,5.75e-4,5.75e-4]\n",
    "max_m2RBM = [3.0e-5,3.0e-5,3.0e-5] + [3.5e-3,3.5e-3,3.5e-3]\n",
    "W2,W3 = get_aco_recW(Dsh,n_bm,.1*(12/165)**2)\n",
    "\n",
    "max_Fz = 147\n",
    "fz_factor = np.mean(max_m1RBM + max_m2RBM)/max_Fz\n",
    "rho_2, rho_3 = 1., 1.\n",
    "\n",
    "# Print reconstructor regularization weights\n",
    "np.set_printoptions(formatter={'float': '{: 0.6f}'.format})\n",
    "#aux = np.reshape(np.insert(np.diag(W3),[72+(n_bm*6)+5,72+(n_bm*6)+10],0),[7,12+n_bm])\n",
    "aux = np.insert(np.diag(W3),[72+(165*6)+5,72+(165*6)+10],0)\n",
    "aux = np.reshape(np.append(aux,np.array([0]*11)),[7,12+165])\n",
    "_wM1rbm,_wM2rbm,_wBM = np.split(aux,[6,12],axis=1)\n",
    "print('M1/2 RBM weights (M1/TxyzRxyz):\\n',_wM1rbm[0,:])\n",
    "print('\\nM1/2 RBM weights (M2/TxyzRxyz):\\n',_wM2rbm[0,:])\n",
    "print('\\nForce weights:\\n',_wBM[0,0])\n",
    "\n",
    "np.set_printoptions(formatter=None)\n",
    "\n",
    "# Bending modes' data\n",
    "Afz = {}\n",
    "\n",
    "# OA segment weights\n",
    "filepath = os.path.join('../ActiveOptics','Af_oa_axial_ver3.mat')\n",
    "Afz['outer'] = spio.loadmat(filepath)['afprime']\n",
    "_U,s_oa,V_oaT = np.linalg.svd(Afz['outer'],0)\n",
    "bm2Fz_oa = np.dot(V_oaT.T, np.diag(1/s_oa)[:,:n_bm])\n",
    "# CS (center segment) weights\n",
    "filepath = os.path.join('../ActiveOptics','Af_cs154_axial.mat')\n",
    "Afz['center'] = spio.loadmat(filepath)['afprime']\n",
    "_U,s_cs,V_csT = np.linalg.svd(Afz['center'],0)\n",
    "bm2Fz_cs = np.dot(V_csT.T, np.diag(1/s_cs)[:,:n_bm])\n",
    "\n",
    "rbm_ranges = max_m1RBM+max_m2RBM\n",
    "oa_ranges = np.array(rbm_ranges + [fz_factor*max_Fz]*bm2Fz_oa.shape[0])\n",
    "cs_ranges = np.array(rbm_ranges + [fz_factor*max_Fz]*bm2Fz_cs.shape[0])\n",
    "\n",
    "umax = np.hstack([np.kron(np.array([1]*6),oa_ranges),cs_ranges]) # np.array([]) #\n",
    "umin = -umax\n",
    "_Tu = block_diag(np.kron(np.eye(6),block_diag(np.eye(12),fz_factor*bm2Fz_oa)),\n",
    "                 block_diag(np.eye(12),fz_factor*bm2Fz_cs))\n",
    "_TuwoS7Rz = block_diag(np.kron(np.eye(6),block_diag(np.eye(12),fz_factor*bm2Fz_oa)),\n",
    "                 block_diag(np.eye(10),fz_factor*bm2Fz_cs))\n",
    "\n",
    "\n",
    "# *** Controller settings ****\n",
    "K = 0.25   # Controller gain\n",
    "\n",
    "\n",
    "# AcO dictionary\n",
    "data = {'SHAcO_qp':{'D':Dsh,'n_bm':n_bm,\n",
    "                    'W2':W2,'W3':_TuwoS7Rz.T.dot(W3).dot(_TuwoS7Rz),\n",
    "                    'K':K,'rho_2':rho_2,'rho_3':rho_3,\n",
    "                    'wfsMask':dt['calibdt'][()]['wfsMask'],\n",
    "                    'umin':umin, 'umax':umax,'_Tu':_Tu,'J1_J3_ratio':100}}\n",
    "# Pickles MPC data into string representation\n",
    "with open(Path(sim_folder)/'SHAcO_qp.pickle','wb') as f:\n",
    "    pickle.dump(data,f)\n",
    "    "
   ]
  },
  {
   "cell_type": "markdown",
   "metadata": {},
   "source": [
    "#### Set initial M1/M2 states and generate respective yaml files"
   ]
  },
  {
   "cell_type": "code",
   "execution_count": 6,
   "metadata": {},
   "outputs": [],
   "source": [
    "# Python code to set simulation states\n",
    "from ruamel import yaml\n",
    "from ruamel.yaml import YAML\n",
    "m1m2load_folder = 'testDT/M1M2_loads'\n",
    "r_id = 1\n",
    "\n",
    "test_case = 'random' # 'random_RBM' # 'BM_dist' #\n",
    "\n",
    "if(test_case == 'BM_dist'):\n",
    "    fileSTR = '_2_3bm'\n",
    "elif(test_case == 'random_RBM'):\n",
    "    fileSTR = '_rand_rbm_%d' %r_id\n",
    "elif(test_case == 'random'):\n",
    "    fileSTR = '_rbmplusbm_%d' %r_id\n",
    "else:\n",
    "    fileSTR = '_noload' %r_id\n",
    "\n",
    "print(fileSTR)\n",
    "\n",
    "with open(Path(m1m2load_folder)/('M1'+fileSTR+'.yaml'),'r') as f:\n",
    "    m1_x0_dt = yaml.safe_load(f)\n",
    "with open(Path(m1m2load_folder)/('M2'+fileSTR+'.yaml'),'r') as f:\n",
    "    m2_x0_dt = yaml.safe_load(f)\n",
    "   \n",
    " \n",
    "# Update yaml files with M1/M2 initial conditions    \n",
    "with open(Path(sim_folder)/'M1.yaml','w') as f:\n",
    "        y.dump(m1_x0_dt, f)\n",
    "with open(Path(sim_folder)/'M2.yaml','w') as f:\n",
    "        y.dump(m2_x0_dt, f)\n",
    "    "
   ]
  },
  {
   "cell_type": "code",
   "execution_count": 7,
   "metadata": {},
   "outputs": [
    {
     "name": "stderr",
     "output_type": "stream",
     "text": [
      "INFO:wfs48 data:Linked to data from wfs48\n",
      "INFO:M1 Txyz:Linked to Txyz from M1\n",
      "INFO:M1 Rxyz:Linked to Rxyz from M1\n",
      "INFO:M2 Txyz:Linked to Txyz from M2\n",
      "INFO:M2 Rxyz:Linked to Rxyz from M2\n",
      "INFO:M1 BM:Linked to modes from M1\n"
     ]
    },
    {
     "name": "stdout",
     "output_type": "stream",
     "text": [
      "Magnitude: [6, 6, 6]\n",
      "SIMCEO server received: Acknowledging connection from SIMCEO client!\n",
      "27 BMs used in the reconstructor computation.\n",
      "No J1_J3_ratio informed. Using TSVD reconstructor\n",
      "Elapsed time: 49.577433824539185\n",
      "Magnitude: [8, 8, 8]\n"
     ]
    },
    {
     "name": "stderr",
     "output_type": "stream",
     "text": [
      "INFO:wfs48 data:Linked to data from wfs48\n",
      "INFO:M1 Txyz:Linked to Txyz from M1\n",
      "INFO:M1 Rxyz:Linked to Rxyz from M1\n",
      "INFO:M2 Txyz:Linked to Txyz from M2\n",
      "INFO:M2 Rxyz:Linked to Rxyz from M2\n",
      "INFO:M1 BM:Linked to modes from M1\n"
     ]
    },
    {
     "name": "stdout",
     "output_type": "stream",
     "text": [
      "SIMCEO server received: Acknowledging connection from SIMCEO client!\n",
      "27 BMs used in the reconstructor computation.\n",
      "No J1_J3_ratio informed. Using TSVD reconstructor\n",
      "Elapsed time: 52.5614378452301\n",
      "Magnitude: [10, 10, 10]\n"
     ]
    },
    {
     "name": "stderr",
     "output_type": "stream",
     "text": [
      "INFO:wfs48 data:Linked to data from wfs48\n",
      "INFO:M1 Txyz:Linked to Txyz from M1\n",
      "INFO:M1 Rxyz:Linked to Rxyz from M1\n",
      "INFO:M2 Txyz:Linked to Txyz from M2\n",
      "INFO:M2 Rxyz:Linked to Rxyz from M2\n",
      "INFO:M1 BM:Linked to modes from M1\n"
     ]
    },
    {
     "name": "stdout",
     "output_type": "stream",
     "text": [
      "SIMCEO server received: Acknowledging connection from SIMCEO client!\n",
      "27 BMs used in the reconstructor computation.\n",
      "No J1_J3_ratio informed. Using TSVD reconstructor\n",
      "Elapsed time: 52.47752499580383\n",
      "Magnitude: [12, 12, 12]\n"
     ]
    },
    {
     "name": "stderr",
     "output_type": "stream",
     "text": [
      "INFO:wfs48 data:Linked to data from wfs48\n",
      "INFO:M1 Txyz:Linked to Txyz from M1\n",
      "INFO:M1 Rxyz:Linked to Rxyz from M1\n",
      "INFO:M2 Txyz:Linked to Txyz from M2\n",
      "INFO:M2 Rxyz:Linked to Rxyz from M2\n",
      "INFO:M1 BM:Linked to modes from M1\n"
     ]
    },
    {
     "name": "stdout",
     "output_type": "stream",
     "text": [
      "SIMCEO server received: Acknowledging connection from SIMCEO client!\n",
      "27 BMs used in the reconstructor computation.\n",
      "No J1_J3_ratio informed. Using TSVD reconstructor\n",
      "Elapsed time: 53.283950090408325\n",
      "Magnitude: [14, 14, 14]\n"
     ]
    },
    {
     "name": "stderr",
     "output_type": "stream",
     "text": [
      "INFO:wfs48 data:Linked to data from wfs48\n",
      "INFO:M1 Txyz:Linked to Txyz from M1\n",
      "INFO:M1 Rxyz:Linked to Rxyz from M1\n",
      "INFO:M2 Txyz:Linked to Txyz from M2\n",
      "INFO:M2 Rxyz:Linked to Rxyz from M2\n",
      "INFO:M1 BM:Linked to modes from M1\n"
     ]
    },
    {
     "name": "stdout",
     "output_type": "stream",
     "text": [
      "SIMCEO server received: Acknowledging connection from SIMCEO client!\n",
      "27 BMs used in the reconstructor computation.\n",
      "No J1_J3_ratio informed. Using TSVD reconstructor\n",
      "Elapsed time: 51.65459108352661\n"
     ]
    },
    {
     "name": "stderr",
     "output_type": "stream",
     "text": [
      "INFO:wfs48 data:Linked to data from wfs48\n",
      "INFO:M1 Txyz:Linked to Txyz from M1\n",
      "INFO:M1 Rxyz:Linked to Rxyz from M1\n",
      "INFO:M2 Txyz:Linked to Txyz from M2\n",
      "INFO:M2 Rxyz:Linked to Rxyz from M2\n",
      "INFO:M1 BM:Linked to modes from M1\n"
     ]
    },
    {
     "name": "stdout",
     "output_type": "stream",
     "text": [
      "Magnitude: [16, 16, 16]\n",
      "SIMCEO server received: Acknowledging connection from SIMCEO client!\n",
      "27 BMs used in the reconstructor computation.\n",
      "No J1_J3_ratio informed. Using TSVD reconstructor\n",
      "Elapsed time: 53.65119528770447\n",
      "Magnitude: [18, 18, 18]\n"
     ]
    },
    {
     "name": "stderr",
     "output_type": "stream",
     "text": [
      "INFO:wfs48 data:Linked to data from wfs48\n",
      "INFO:M1 Txyz:Linked to Txyz from M1\n",
      "INFO:M1 Rxyz:Linked to Rxyz from M1\n",
      "INFO:M2 Txyz:Linked to Txyz from M2\n",
      "INFO:M2 Rxyz:Linked to Rxyz from M2\n",
      "INFO:M1 BM:Linked to modes from M1\n"
     ]
    },
    {
     "name": "stdout",
     "output_type": "stream",
     "text": [
      "SIMCEO server received: Acknowledging connection from SIMCEO client!\n",
      "27 BMs used in the reconstructor computation.\n",
      "No J1_J3_ratio informed. Using TSVD reconstructor\n",
      "Elapsed time: 52.25102090835571\n",
      "Magnitude: [20, 20, 20]\n"
     ]
    },
    {
     "name": "stderr",
     "output_type": "stream",
     "text": [
      "INFO:wfs48 data:Linked to data from wfs48\n",
      "INFO:M1 Txyz:Linked to Txyz from M1\n",
      "INFO:M1 Rxyz:Linked to Rxyz from M1\n",
      "INFO:M2 Txyz:Linked to Txyz from M2\n",
      "INFO:M2 Rxyz:Linked to Rxyz from M2\n",
      "INFO:M1 BM:Linked to modes from M1\n"
     ]
    },
    {
     "name": "stdout",
     "output_type": "stream",
     "text": [
      "SIMCEO server received: Acknowledging connection from SIMCEO client!\n",
      "27 BMs used in the reconstructor computation.\n",
      "No J1_J3_ratio informed. Using TSVD reconstructor\n",
      "Elapsed time: 51.82087969779968\n"
     ]
    }
   ],
   "source": [
    "\n",
    "# Set of guide star magnitudes to be investigated\n",
    "mag_values = np.array([6, 8, 10, 12, 14, 16, 18, 20])\n",
    "\n",
    "for imag in range(len(mag_values)): \n",
    "    # Set guide star magnitude\n",
    "    wfs48_dt['source']['magnitude'] = (mag_values[imag]*np.array([1,1,1])).tolist()\n",
    "    print('Magnitude:',wfs48_dt['source']['magnitude'])\n",
    "    with open(Path(sim_folder)/'wfs48.yaml','w') as f:\n",
    "        y.dump(wfs48_dt, f)\n",
    "\n",
    "    # invoke DOS\n",
    "    sim = dos.DOS(sim_folder,verbose=logging.WARNING)\n",
    "    # Start simulation\n",
    "    sim._run_()\n",
    "\n",
    "    #sim_log_dt = {'sim_log_dt':sim.logs.entries, 'AcO_dt':data}\n",
    "    sim_log_dt = {'sim_log_dt':sim.logs.entries}\n",
    "    # Pickles interaction matrix data into string representation\n",
    "    #filename = 'dt_mag%d_ctrlK%sreg100_QP_rec_test.pickle'% (mag_values[imag],str(K).replace(\".\", \"p\"))\n",
    "    filename = 'dt_mag%d_ctrlK%sTSVD_rec_test.pickle'% (mag_values[imag],str(K).replace(\".\", \"p\"))\n",
    "    #filename = 'dt_mag%d_ctrlK%sreg100_QP_recBMtest.pickle'% (mag_values[imag],str(K).replace(\".\", \"p\"))\n",
    "    #filename = 'dt_mag%d_ctrlK%sreg100_QP_recRBMtest.pickle'% (mag_values[imag],str(K).replace(\".\", \"p\"))\n",
    "    #filename = 'dt_mag%d_ctrlK%sreg20RecM_reWM2_BMtest.pickle'% (mag_values[imag],str(K).replace(\".\", \"p\"))\n",
    "    #filename = 'dt_mag%d_ctrlK%sTSVD_TSVDRecM_BMtest.pickle'% (mag_values[imag],str(K).replace(\".\", \"p\"))\n",
    "    #filename = 'dt_mag%d_ctrlK%sTSVDRecM.pickle'% (mag_values[imag],str(K).replace(\".\", \"p\"))\n",
    "    with open(Path('testDT')/filename,'wb') as f:\n",
    "        pickle.dump(sim_log_dt,f)\n",
    "\n"
   ]
  },
  {
   "cell_type": "code",
   "execution_count": null,
   "metadata": {},
   "outputs": [],
   "source": []
  },
  {
   "cell_type": "code",
   "execution_count": null,
   "metadata": {},
   "outputs": [],
   "source": []
  },
  {
   "cell_type": "code",
   "execution_count": null,
   "metadata": {},
   "outputs": [],
   "source": []
  },
  {
   "cell_type": "code",
   "execution_count": 7,
   "metadata": {},
   "outputs": [
    {
     "data": {
      "text/plain": [
       "0.0005289256198347108"
      ]
     },
     "execution_count": 7,
     "metadata": {},
     "output_type": "execute_result"
    }
   ],
   "source": []
  },
  {
   "cell_type": "code",
   "execution_count": null,
   "metadata": {},
   "outputs": [],
   "source": []
  }
 ],
 "metadata": {
  "kernelspec": {
   "display_name": "Python 3",
   "language": "python",
   "name": "python3"
  },
  "language_info": {
   "codemirror_mode": {
    "name": "ipython",
    "version": 3
   },
   "file_extension": ".py",
   "mimetype": "text/x-python",
   "name": "python",
   "nbconvert_exporter": "python",
   "pygments_lexer": "ipython3",
   "version": "3.7.3"
  }
 },
 "nbformat": 4,
 "nbformat_minor": 4
}
