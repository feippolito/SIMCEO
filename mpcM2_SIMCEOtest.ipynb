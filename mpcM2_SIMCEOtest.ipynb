{
 "cells": [
  {
   "cell_type": "markdown",
   "metadata": {},
   "source": [
    "### Load required libraries and define simulations settings path"
   ]
  },
  {
   "cell_type": "code",
   "execution_count": 1,
   "metadata": {},
   "outputs": [],
   "source": [
    "import numpy as np\n",
    "import scipy.sparse as sparse\n",
    "import pickle\n",
    "\n",
    "sim_folder = 'dos/mpcM2'"
   ]
  },
  {
   "cell_type": "markdown",
   "metadata": {},
   "source": [
    "### MPC controller settings"
   ]
  },
  {
   "cell_type": "code",
   "execution_count": null,
   "metadata": {},
   "outputs": [],
   "source": [
    "from pathlib import Path\n",
    "\n",
    "# Plant dynamic model matrices\n",
    "A = np.zeros((42,42))\n",
    "B = np.identity(42)\n",
    "nx,nu = A.shape[0], B.shape[1]\n",
    "\n",
    "# MPC settings\n",
    "# Prediction horizon\n",
    "npred = 4\n",
    "# Weighting matrices\n",
    "Q = (0.2/npred)*sparse.block_diag([1]*nx)\n",
    "R = (1/npred)*sparse.block_diag([1]*nu)\n",
    "# Controller output constraints\n",
    "dumin, dumax = -0.25*np.ones(nu), 0.25*np.ones(nu)\n",
    "umin, umax = -2*np.ones(nu), 2*np.ones(nu)\n",
    "\n",
    "# MPC dictionary\n",
    "data = {'MPC':{'A':A,'B':B,'Q':Q,'R':R,\n",
    "              'npred':npred,\n",
    "               'dumin':dumin,'dumax':dumax,\n",
    "               'umin':umin,'umax':umax}}\n",
    "# Pickles MPC data into string representation\n",
    "with open(Path(sim_folder)/'MPC.pickle','wb') as f:\n",
    "    pickle.dump(data,f)"
   ]
  },
  {
   "cell_type": "markdown",
   "metadata": {},
   "source": [
    "### Load DOS and define define folder with simulation settings"
   ]
  },
  {
   "cell_type": "code",
   "execution_count": 8,
   "metadata": {},
   "outputs": [
    {
     "name": "stderr",
     "output_type": "stream",
     "text": [
      "INFO:DOS:Reading config from dos/mpcM2/dos.yaml\n",
      "INFO:DOS:New driver: M2\n",
      "INFO:M2:New input: Txyz\n",
      "INFO:M2:New input: Rxyz\n",
      "INFO:DOS:New driver: wfs48\n",
      "INFO:wfs48:New output: M12_RBM\n",
      "INFO:wfs48:Output logged in!\n",
      "INFO:DOS:New driver: MPC\n",
      "INFO:MPC:New input: wfs48 data\n",
      "INFO:MPC:New output: M2 Txyz\n",
      "INFO:MPC:Output logged in!\n",
      "INFO:MPC:New output: M2 Rxyz\n",
      "INFO:MPC:Output logged in!\n",
      "INFO:DOS:New driver: science\n",
      "INFO:science:New output: wfe_rms\n",
      "INFO:science:Output logged in!\n",
      "INFO:science:New output: tiptilt\n",
      "INFO:science:Output logged in!\n",
      "INFO:science:New output: segment_tiptilt\n",
      "INFO:science:Output logged in!\n",
      "INFO:wfs48 data:Linked to M12_RBM from wfs48\n",
      "INFO:M2 Txyz:Linked to Txyz from M2\n",
      "INFO:M2 Rxyz:Linked to Rxyz from M2\n",
      "INFO:DOS:Simulation setup for a duration of 8s @ 1Hz (8 steps)!\n"
     ]
    },
    {
     "name": "stdout",
     "output_type": "stream",
     "text": [
      "SIMCEO server received: Acknowledging connection from SIMCEO client!\n"
     ]
    }
   ],
   "source": [
    "import dos\n",
    "sim = dos.DOS(sim_folder)"
   ]
  },
  {
   "cell_type": "code",
   "execution_count": 9,
   "metadata": {},
   "outputs": [
    {
     "name": "stderr",
     "output_type": "stream",
     "text": [
      "INFO:DOS:Pushing configuration to server\n",
      "INFO:M2:GMT\n",
      "INFO:wfs48:OP0\n",
      "INFO:science:OP1\n",
      "INFO:DOS:Initializing\n",
      "INFO:M2:None\n",
      "INFO:wfs48:None\n",
      "INFO:science:None\n",
      "INFO:DOS:Running\n",
      "INFO:DOS:Terminating\n",
      "INFO:M2:GMT deleted!\n",
      "INFO:wfs48:OpticalPath deleted!\n",
      "INFO:science:OpticalPath deleted!\n"
     ]
    },
    {
     "name": "stdout",
     "output_type": "stream",
     "text": [
      "Elapsed time: 3.840259075164795\n"
     ]
    }
   ],
   "source": [
    "# Start simulation\n",
    "sim.start()"
   ]
  },
  {
   "cell_type": "code",
   "execution_count": 10,
   "metadata": {},
   "outputs": [
    {
     "name": "stdout",
     "output_type": "stream",
     "text": [
      "Txyz:\n",
      "Seg# 1 : [-9.89553696e-07  1.00000152e-06  9.73331223e-14]\n",
      "Seg# 2 : [-6.53561353e-19  4.70291337e-23 -3.28583943e-23]\n",
      "Seg# 3 : [-7.91965719e-24 -1.52832328e-23 -2.63070554e-24]\n",
      "Seg# 4 : [ 1.01667614e-20 -9.54531527e-22 -1.20485734e-22]\n",
      "Seg# 5 : [-7.88165333e-26  2.78013450e-24 -8.93265942e-26]\n",
      "Seg# 6 : [ 2.17578800e-24  3.61558844e-27 -1.27085770e-27]\n",
      "Seg# 7 : [ 1.83919001e-23 -5.66182780e-24  3.33671781e-26]\n",
      "\n",
      "Rxyz:\n",
      "Seg# 1 : [3.55714394e-13 2.32042157e-07 8.79642417e-07]\n",
      "Seg# 2 : [-2.53695524e-23  1.53221020e-19  5.78349151e-19]\n",
      "Seg# 3 : [ 6.84870499e-23 -5.00824315e-23 -3.29147679e-24]\n",
      "Seg# 4 : [-2.29663201e-22 -2.36810876e-21 -9.31691685e-21]\n",
      "Seg# 5 : [-1.12589881e-23 -3.38542956e-25  1.28855313e-28]\n",
      "Seg# 6 : [-1.53570805e-26  9.31742025e-24 -1.06306259e-26]\n",
      "Seg# 7 : [2.37176495e-23 7.70398532e-23 0.00000000e+00]\n"
     ]
    }
   ],
   "source": [
    "M2_RBM = sim.logs.entries['wfs48']['M12_RBM'].timeSeries\n",
    "M2_Txyz, M2_Rxyz = M2_RBM[1][:,:21], M2_RBM[1][:,-21:]\n",
    "scale = 1.0\n",
    "print('Txyz:')\n",
    "for k in range(7):\n",
    "    print('Seg#',k+1,':',scale*M2_Txyz[-1,0+(k*3):3+(k*3)])\n",
    "    \n",
    "print('\\nRxyz:')\n",
    "for k in range(7):\n",
    "    print('Seg#',k+1,':',scale*M2_Rxyz[-1,0+(k*3):3+(k*3)])"
   ]
  },
  {
   "cell_type": "code",
   "execution_count": null,
   "metadata": {},
   "outputs": [],
   "source": [
    "print(M2_Txyz[-1],M2_Rxyz[-1])"
   ]
  },
  {
   "cell_type": "markdown",
   "metadata": {},
   "source": [
    "### Plot simulation results\n",
    "#### Mirror states"
   ]
  },
  {
   "cell_type": "code",
   "execution_count": null,
   "metadata": {},
   "outputs": [],
   "source": [
    "# Plot mirror states\n",
    "import matplotlib.pyplot as plt\n",
    "\n",
    "M2_RBM = sim.logs.entries['wfs48']['M12_RBM'].timeSeries\n",
    "M2_Txyz = M2_RBM[1][:,:21]\n",
    "M2_Rxyz = M2_RBM[1][:,-21:]\n",
    "\n",
    "plt.figure(figsize=(16,5))\n",
    "\n",
    "plt.subplot(211)\n",
    "plt.plot(M2_RBM[0],M2_Txyz,'.--')\n",
    "plt.grid(True)\n",
    "plt.ylabel('M2 Txyz state')\n",
    "    \n",
    "plt.subplot(212)\n",
    "plt.plot(M2_RBM[0],M2_Rxyz,'.--')\n",
    "plt.grid(True)\n",
    "plt.ylabel('M2 Rxyz state')\n",
    "    \n",
    "plt.show()"
   ]
  },
  {
   "cell_type": "code",
   "execution_count": null,
   "metadata": {
    "scrolled": true
   },
   "outputs": [],
   "source": [
    "# Plot controller outputs\n",
    "uTxyz = sim.logs.entries['MPC']['M2 Txyz'].timeSeries\n",
    "uRxyz = sim.logs.entries['MPC']['M2 Rxyz'].timeSeries\n",
    "\n",
    "fig = plt.figure(figsize=(16,5))\n",
    "\n",
    "plt1, plt2 = fig.add_subplot(211), fig.add_subplot(212)\n",
    "\n",
    "for k in range(7):\n",
    "    for kk in range(3):\n",
    "        #Txyz\n",
    "        plt1.plot(uTxyz[1][k,kk,:],'.--')\n",
    "        plt1.grid(True)\n",
    "        plt1.set_ylabel('Txyz cmd')\n",
    "        plt1.autoscale(enable=True, axis='y')\n",
    "        #Rxyz\n",
    "        plt2.plot(uRxyz[1][k,kk,:],'.--')\n",
    "        plt2.grid(True)\n",
    "        plt2.set_ylabel('Rxyz cmd')\n",
    "\n",
    "plt.show()"
   ]
  },
  {
   "cell_type": "code",
   "execution_count": null,
   "metadata": {},
   "outputs": [],
   "source": [
    "# Plot mirror states\n",
    "import matplotlib.pyplot as plt\n",
    "\n",
    "M2_RBM = sim.logs.entries['wfs48']['M12_RBM'].timeSeries\n",
    "M2_Txyz = M2_RBM[1][:,:3]\n",
    "M2_Rxyz = M2_RBM[1][:,21:24]\n",
    "\n",
    "plt.figure(figsize=(16,5))\n",
    "\n",
    "plt.subplot(211)\n",
    "plt.plot(M2_RBM[0],M2_Txyz,'.--')\n",
    "plt.grid(True)\n",
    "plt.ylabel('M2 Txyz state')\n",
    "    \n",
    "plt.subplot(212)\n",
    "plt.plot(M2_RBM[0],M2_Rxyz,'.--')\n",
    "plt.grid(True)\n",
    "plt.ylabel('M2 Rxyz state')\n",
    "    \n",
    "plt.show()"
   ]
  },
  {
   "cell_type": "code",
   "execution_count": null,
   "metadata": {},
   "outputs": [],
   "source": []
  },
  {
   "cell_type": "code",
   "execution_count": null,
   "metadata": {},
   "outputs": [],
   "source": []
  }
 ],
 "metadata": {
  "celltoolbar": "Raw Cell Format",
  "kernelspec": {
   "display_name": "Python 3",
   "language": "python",
   "name": "python3"
  },
  "language_info": {
   "codemirror_mode": {
    "name": "ipython",
    "version": 3
   },
   "file_extension": ".py",
   "mimetype": "text/x-python",
   "name": "python",
   "nbconvert_exporter": "python",
   "pygments_lexer": "ipython3",
   "version": "3.7.3"
  }
 },
 "nbformat": 4,
 "nbformat_minor": 2
}
