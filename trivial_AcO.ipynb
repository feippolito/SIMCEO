{
 "cells": [
  {
   "cell_type": "code",
   "execution_count": null,
   "metadata": {},
   "outputs": [],
   "source": [
    "import dos\n",
    "path = './dos/trivial_AcO'"
   ]
  },
  {
   "cell_type": "code",
   "execution_count": null,
   "metadata": {},
   "outputs": [],
   "source": [
    "# initialize\n",
    "sim = dos.DOS(path, 20, show_timing = 2)"
   ]
  },
  {
   "cell_type": "code",
   "execution_count": null,
   "metadata": {},
   "outputs": [],
   "source": [
    "# run, wait, terminate\n",
    "sim.start()\n",
    "sim.join()\n",
    "sim.terminate()"
   ]
  },
  {
   "cell_type": "markdown",
   "metadata": {},
   "source": [
    "## Plot\n",
    "---"
   ]
  },
  {
   "cell_type": "code",
   "execution_count": null,
   "metadata": {},
   "outputs": [],
   "source": [
    "import matplotlib.pyplot as plt\n",
    "from jupyterthemes import jtplot\n",
    "\n",
    "jtplot.style()"
   ]
  },
  {
   "cell_type": "code",
   "execution_count": null,
   "metadata": {},
   "outputs": [],
   "source": [
    "time = sim.logs.entries['wfs48']['M12_RBM'].timeSeries[0]\n",
    "Txyz = sim.logs.entries['AcO_controller']['M1 Txyz'].timeSeries[1]\n",
    "\n",
    "x = Txyz[:,0,:]\n",
    "y = Txyz[:,1,:]\n",
    "z = Txyz[:,2,:]\n",
    "\n",
    "wfs = sim.logs.entries['wfs48']['M12_RBM'].timeSeries[1]"
   ]
  },
  {
   "cell_type": "code",
   "execution_count": null,
   "metadata": {},
   "outputs": [],
   "source": [
    "plt.figure(figsize = (15,40))\n",
    "ax1 = plt.subplot(4,1,1)\n",
    "ax1.set_title(\"x_hat\")\n",
    "plt.plot(wfs)\n",
    "ax2 = plt.subplot(4,1,2)\n",
    "ax2.set_title(\"Tx\")\n",
    "plt.plot(x)\n",
    "ax3 = plt.subplot(4,1,3)\n",
    "ax3.set_title(\"Ty\")\n",
    "plt.plot(y)\n",
    "ax4 = plt.subplot(4,1,4)\n",
    "ax4.set_title(\"Tz\")\n",
    "plt.plot(z)\n",
    "plt.show()"
   ]
  }
 ],
 "metadata": {
  "kernelspec": {
   "display_name": "Python 3",
   "language": "python",
   "name": "python3"
  },
  "language_info": {
   "codemirror_mode": {
    "name": "ipython",
    "version": 3
   },
   "file_extension": ".py",
   "mimetype": "text/x-python",
   "name": "python",
   "nbconvert_exporter": "python",
   "pygments_lexer": "ipython3",
   "version": "3.7.4"
  }
 },
 "nbformat": 4,
 "nbformat_minor": 2
}
