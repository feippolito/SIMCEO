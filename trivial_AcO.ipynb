{
 "cells": [
  {
   "cell_type": "code",
   "execution_count": 1,
   "metadata": {},
   "outputs": [],
   "source": [
    "import dos\n",
    "path = './simulation_config/trivial_AcO'"
   ]
  },
  {
   "cell_type": "code",
   "execution_count": 2,
   "metadata": {},
   "outputs": [
    {
     "name": "stderr",
     "output_type": "stream",
     "text": [
      "INFO:DOS:Reading config from ./simulation_config/trivial_AcO/dos.yaml\n",
      "INFO:DOS:New driver: M1\n",
      "INFO:M1:New input: Txyz\n",
      "INFO:M1:New input: Rxyz\n",
      "INFO:M1:New input: modes\n",
      "INFO:M1:No inputs!\n",
      "INFO:DOS:New driver: M2\n",
      "INFO:M2:New input: Txyz\n",
      "INFO:M2:New input: Rxyz\n",
      "INFO:M2:No inputs!\n",
      "INFO:DOS:New driver: wfs48\n",
      "INFO:wfs48:No inputs!\n",
      "INFO:wfs48:New output: M12_RBM\n",
      "INFO:wfs48:Output logged in!\n",
      "INFO:DOS:New driver: AcO_controller\n",
      "INFO:AcO_controller:New input: x_hat\n",
      "INFO:AcO_controller:New output: M1 Txyz\n",
      "INFO:AcO_controller:Output logged in!\n",
      "INFO:AcO_controller:New output: M1 Rxyz\n",
      "INFO:AcO_controller:Output logged in!\n",
      "INFO:AcO_controller:New output: M2 Txyz\n",
      "INFO:AcO_controller:Output logged in!\n",
      "INFO:AcO_controller:New output: M2 Rxyz\n",
      "INFO:AcO_controller:Output logged in!\n",
      "INFO:AcO_controller:New output: M1 BM\n",
      "INFO:AcO_controller:Output logged in!\n",
      "INFO:DOS:New driver: science\n",
      "INFO:science:No inputs!\n",
      "INFO:science:New output: wfe_rms\n",
      "INFO:science:Output logged in!\n",
      "INFO:science:New output: segment_wfe_rms\n",
      "INFO:science:Output logged in!\n",
      "INFO:science:New output: PSSn\n",
      "INFO:science:Output logged in!\n",
      "INFO:science:New output: tiptilt\n",
      "INFO:science:Output logged in!\n",
      "INFO:science:New output: segment_piston\n",
      "INFO:science:Output logged in!\n",
      "INFO:science:New output: segment_tiptilt\n",
      "INFO:science:Output logged in!\n",
      "INFO:x_hat:Linked to M12_RBM from wfs48\n",
      "INFO:M1 Txyz:Linked to Txyz from M1\n",
      "INFO:M1 Rxyz:Linked to Rxyz from M1\n",
      "INFO:M2 Txyz:Linked to Txyz from M2\n",
      "INFO:M2 Rxyz:Linked to Rxyz from M2\n",
      "INFO:M1 BM:Linked to modes from M1\n",
      "INFO:DOS:Simulation setup for a duration of 50s @ 1Hz (51 steps)!\n"
     ]
    },
    {
     "name": "stdout",
     "output_type": "stream",
     "text": [
      "SIMCEO server received: Acknowledging connection from SIMCEO client!\n"
     ]
    }
   ],
   "source": [
    "# initialize\n",
    "sim = dos.DOS(path, 20, show_timing = 2)"
   ]
  },
  {
   "cell_type": "code",
   "execution_count": null,
   "metadata": {},
   "outputs": [
    {
     "name": "stderr",
     "output_type": "stream",
     "text": [
      "INFO:DOS:Pushing configuration to server\n",
      "INFO:M1:GMT\n",
      "INFO:M2:GMT\n",
      "INFO:wfs48:OP0\n",
      "INFO:science:OP1\n",
      "INFO:DOS:Initializing\n",
      "INFO:M1:None\n",
      "INFO:M2:None\n"
     ]
    }
   ],
   "source": [
    "# run, wait, terminate\n",
    "sim.start()\n",
    "sim.join()\n",
    "sim.terminate()"
   ]
  },
  {
   "cell_type": "markdown",
   "metadata": {},
   "source": [
    "## Plot\n",
    "---"
   ]
  },
  {
   "cell_type": "code",
   "execution_count": null,
   "metadata": {},
   "outputs": [],
   "source": [
    "import matplotlib.pyplot as plt\n",
    "from jupyterthemes import jtplot\n",
    "\n",
    "jtplot.style()"
   ]
  },
  {
   "cell_type": "code",
   "execution_count": null,
   "metadata": {},
   "outputs": [],
   "source": [
    "time = sim.logs.entries['wfs48']['M12_RBM'].timeSeries[0]\n",
    "Txyz = sim.logs.entries['AcO_controller']['M1 Txyz'].timeSeries[1]\n",
    "\n",
    "x = Txyz[:,0,:]\n",
    "y = Txyz[:,1,:]\n",
    "z = Txyz[:,2,:]\n",
    "\n",
    "wfs = sim.logs.entries['wfs48']['M12_RBM'].timeSeries[1]\n",
    "BM = sim.logs.entries['AcO_controller']['M1 BM'].timeSeries[1]"
   ]
  },
  {
   "cell_type": "code",
   "execution_count": null,
   "metadata": {},
   "outputs": [],
   "source": [
    "BM.shape"
   ]
  },
  {
   "cell_type": "code",
   "execution_count": null,
   "metadata": {},
   "outputs": [],
   "source": [
    "plt.figure(figsize = (15,20))\n",
    "ax1 = plt.subplot(4,1,1)\n",
    "ax1.set_title(\"x_hat\")\n",
    "plt.plot(BM[0,:,:])\n",
    "plt.show()"
   ]
  },
  {
   "cell_type": "code",
   "execution_count": null,
   "metadata": {},
   "outputs": [],
   "source": [
    "plt.figure(figsize = (15,40))\n",
    "ax1 = plt.subplot(4,1,1)\n",
    "ax1.set_title(\"x_hat\")\n",
    "plt.plot(wfs)\n",
    "ax2 = plt.subplot(4,1,2)\n",
    "ax2.set_title(\"Tx\")\n",
    "plt.plot(x)\n",
    "ax3 = plt.subplot(4,1,3)\n",
    "ax3.set_title(\"Ty\")\n",
    "plt.plot(y)\n",
    "ax4 = plt.subplot(4,1,4)\n",
    "ax4.set_title(\"Tz\")\n",
    "plt.plot(z)\n",
    "plt.show()"
   ]
  }
 ],
 "metadata": {
  "kernelspec": {
   "display_name": "Python 3",
   "language": "python",
   "name": "python3"
  },
  "language_info": {
   "codemirror_mode": {
    "name": "ipython",
    "version": 3
   },
   "file_extension": ".py",
   "mimetype": "text/x-python",
   "name": "python",
   "nbconvert_exporter": "python",
   "pygments_lexer": "ipython3",
   "version": "3.7.4"
  }
 },
 "nbformat": 4,
 "nbformat_minor": 2
}
