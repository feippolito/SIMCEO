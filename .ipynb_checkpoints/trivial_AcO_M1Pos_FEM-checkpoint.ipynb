{
 "cells": [
  {
   "cell_type": "markdown",
   "metadata": {},
   "source": [
    "### AcO_rM1Pos_FEM"
   ]
  },
  {
   "cell_type": "code",
   "execution_count": null,
   "metadata": {},
   "outputs": [],
   "source": [
    "import dos\n",
    "from IPython.display import Image\n",
    "path = './dos/AcO_rM1Pos_FEM'"
   ]
  },
  {
   "cell_type": "code",
   "execution_count": null,
   "metadata": {
    "scrolled": true
   },
   "outputs": [],
   "source": [
    "# init\n",
    "sim = dos.DOS(path, 20, show_timing = 2)\n",
    "Image(filename=path + '/timing.png')"
   ]
  },
  {
   "cell_type": "code",
   "execution_count": null,
   "metadata": {},
   "outputs": [],
   "source": [
    "sim.start()"
   ]
  },
  {
   "cell_type": "code",
   "execution_count": null,
   "metadata": {},
   "outputs": [],
   "source": [
    "sim.terminate()"
   ]
  },
  {
   "cell_type": "code",
   "execution_count": null,
   "metadata": {},
   "outputs": [],
   "source": [
    "SAVE = True"
   ]
  },
  {
   "cell_type": "markdown",
   "metadata": {},
   "source": [
    "#### Backup simulated Data"
   ]
  },
  {
   "cell_type": "code",
   "execution_count": null,
   "metadata": {},
   "outputs": [],
   "source": [
    "import pickle\n",
    "\n",
    "if SAVE:\n",
    "    with open('./logs/trivial_AcO_rM1Pos_FEM.sclogs', 'wb') as f:\n",
    "        pickle.dump(sim.logs.entries, f)\n",
    "        logs = sim.logs.entries\n",
    "        \n",
    "else:\n",
    "    logs = pickle.load( open( './logs/trivial_AcO_rM1Pos_FEM.sclogs', \"rb\" ) )"
   ]
  },
  {
   "cell_type": "markdown",
   "metadata": {},
   "source": [
    "# plot logs\n",
    "---"
   ]
  },
  {
   "cell_type": "code",
   "execution_count": null,
   "metadata": {},
   "outputs": [],
   "source": [
    "import matplotlib.pyplot as plt\n",
    "try:\n",
    "    from jupyterthemes import jtplot\n",
    "    jtplot.style()\n",
    "except:\n",
    "    pass\n",
    "\n",
    "import numpy as np\n",
    "\n",
    "logs"
   ]
  },
  {
   "cell_type": "markdown",
   "metadata": {},
   "source": [
    "#### BM"
   ]
  },
  {
   "cell_type": "code",
   "execution_count": null,
   "metadata": {
    "scrolled": false
   },
   "outputs": [],
   "source": [
    "%matplotlib inline\n",
    "\n",
    "BM = logs['AcO_controller']['M1 BM'].timeSeries[1]\n",
    "time = logs['rM1Pos0']['rM1Pos_out'].timeSeries[0]\n",
    "plt.figure(figsize=(12,6))\n",
    "plt.xticks(np.arange(0, 20, 2))\n",
    "for k in range(BM[0,:,:].shape[0]):\n",
    "    plt.plot(time[::20], BM[0,k,:])\n",
    "plt.show()"
   ]
  },
  {
   "cell_type": "markdown",
   "metadata": {},
   "source": [
    "#### x_hat"
   ]
  },
  {
   "cell_type": "code",
   "execution_count": null,
   "metadata": {},
   "outputs": [],
   "source": [
    "wfs = logs['wfs48']['M12_RBM'].timeSeries[1]\n",
    "\n",
    "plt.figure(figsize=(12,6))\n",
    "plt.plot(wfs)\n",
    "plt.show()"
   ]
  },
  {
   "cell_type": "markdown",
   "metadata": {},
   "source": [
    "#### Hardpoints"
   ]
  },
  {
   "cell_type": "code",
   "execution_count": null,
   "metadata": {},
   "outputs": [],
   "source": [
    "Txyz = logs['AcO_controller']['M1 Txyz'].timeSeries[1]\n",
    "Rxyz = logs['AcO_controller']['M1 Rxyz'].timeSeries[1]\n",
    "TRxyz = np.concatenate((Txyz, Rxyz), axis = 1)\n",
    "\n",
    "M1Pos_out = logs['rM1Pos0']['rM1Pos_out'].timeSeries[1]\n",
    "M1Pos_out_r = np.stack(np.split(M1Pos_out, 7, axis = 1), axis = 2)"
   ]
  },
  {
   "cell_type": "code",
   "execution_count": null,
   "metadata": {
    "scrolled": false
   },
   "outputs": [],
   "source": [
    "# Select\n",
    "seg =  1    #1 - 7\n",
    "rbm = 'Tx'  # Tx Ty Tz Rx Ry Rz\n",
    "\n",
    "# Plot ------\n",
    "table = ['Tx','Ty','Tz','Rx','Ry','Rz']\n",
    "rbm_index = table.index(rbm)\n",
    "#plt.figure(figsize=(15,7))\n",
    "fig1, (ax1,ax2) = plt.subplots(2, 1, sharex=True, figsize=(15,7))\n",
    "ax1.set_xticks(np.arange(0,20,2))\n",
    "ax1.set_title('AcO output - ' + rbm)\n",
    "ax1.plot(time[::20], TRxyz[seg - 1, rbm_index,:])\n",
    "\n",
    "ax2.set_title('HP output - ' + rbm)\n",
    "ax2.plot(time,M1Pos_out_r[:, rbm_index, seg - 1])\n",
    "plt.show()"
   ]
  },
  {
   "cell_type": "code",
   "execution_count": null,
   "metadata": {},
   "outputs": [],
   "source": [
    "plt.figure(figsize = (15,7.5))\n",
    "plt.plot(time, M1Pos_out)\n",
    "plt.xticks(np.arange(0,20,1))\n",
    "plt.title('Hardpoints')\n",
    "plt.show()"
   ]
  },
  {
   "cell_type": "code",
   "execution_count": null,
   "metadata": {
    "scrolled": true
   },
   "outputs": [],
   "source": [
    "# Plot all AcO outputs and Hardpoints\n",
    "\n",
    "table = ['Tx','Ty','Tz','Rx','Ry','Rz']\n",
    "rbm_index = table.index(rbm)\n",
    "\n",
    "for seg in range(7):\n",
    "    for rbm in table:\n",
    "        rbm_index = table.index(rbm)\n",
    "        \n",
    "        fig1, (ax1,ax2) = plt.subplots(2, 1, sharex=True, figsize=(15,7))\n",
    "        ax1.set_title(str(seg + 1) + ': AcO output - ' + rbm)\n",
    "        ax1.plot(time[::20], TRxyz[seg, rbm_index,:])\n",
    "        ax2 = plt.subplot(2,1,2)\n",
    "        ax2.set_title(str(seg + 1) + ': HP output - ' + rbm)\n",
    "        ax2.plot(time, M1Pos_out_r[:, rbm_index, seg])\n",
    "\n",
    "plt.show()"
   ]
  },
  {
   "cell_type": "markdown",
   "metadata": {},
   "source": [
    "##### FEM\n",
    "---"
   ]
  },
  {
   "cell_type": "code",
   "execution_count": null,
   "metadata": {},
   "outputs": [],
   "source": [
    "FEM_time = logs['FEM']['OSS_M1_lcl'].timeSeries[0]\n",
    "FEM_TRxyz = logs['FEM']['OSS_M1_lcl'].timeSeries[1]\n",
    "FEM_TRxyz = np.stack(np.split(FEM_TRxyz, 6 , axis = 1), axis = 2)\n",
    "FEM_TRxyz.shape"
   ]
  },
  {
   "cell_type": "code",
   "execution_count": null,
   "metadata": {},
   "outputs": [],
   "source": [
    "# Select\n",
    "seg =  7    #1 - 7\n",
    "rbm = 'Rx'  # Tx Ty Tz Rx Ry Rz\n",
    "\n",
    "# Plot ------\n",
    "table = ['Tx','Ty','Tz','Rx','Ry','Rz']\n",
    "rbm_index = table.index(rbm)\n",
    "#plt.figure(figsize=(15,7))\n",
    "fig1, (ax1,ax2,ax3) = plt.subplots(3, 1, sharex=True, figsize=(15,12))\n",
    "ax1.set_xticks(np.arange(0,20,2))\n",
    "ax1.set_title('AcO output - ' + rbm)\n",
    "ax1.plot(time[::20], TRxyz[seg - 1, rbm_index,:])\n",
    "\n",
    "ax2.set_title('HP output - ' + rbm)\n",
    "ax2.plot(time,M1Pos_out_r[:, rbm_index, seg - 1])\n",
    "\n",
    "ax3.set_title('FEM output - ' + rbm)\n",
    "ax3.plot(FEM_time, FEM_TRxyz[:,seg -1, rbm_index])\n",
    "plt.show()"
   ]
  },
  {
   "cell_type": "markdown",
   "metadata": {},
   "source": [
    "## Testing\n",
    "---"
   ]
  },
  {
   "cell_type": "code",
   "execution_count": null,
   "metadata": {},
   "outputs": [],
   "source": [
    "sim.drivers['FEM'].msg_args"
   ]
  }
 ],
 "metadata": {
  "kernelspec": {
   "display_name": "Python 3",
   "language": "python",
   "name": "python3"
  },
  "language_info": {
   "codemirror_mode": {
    "name": "ipython",
    "version": 3
   },
   "file_extension": ".py",
   "mimetype": "text/x-python",
   "name": "python",
   "nbconvert_exporter": "python",
   "pygments_lexer": "ipython3",
   "version": "3.7.4"
  }
 },
 "nbformat": 4,
 "nbformat_minor": 2
}
