{
 "cells": [
  {
   "cell_type": "markdown",
   "metadata": {},
   "source": [
    "### Generates M1/M2 yaml files for different case-studies on initial loads."
   ]
  },
  {
   "cell_type": "code",
   "execution_count": 1,
   "metadata": {},
   "outputs": [],
   "source": [
    "import numpy as np\n",
    "from scipy.linalg import block_diag\n",
    "\n",
    "from pathlib import Path\n",
    "# import DOS library\n",
    "import dos\n",
    "import dos.plot_tools as ptools\n",
    "\n",
    "from ruamel import yaml\n",
    "from ruamel.yaml import YAML\n",
    "y = YAML()\n",
    "y.default_flow_style = None\n",
    "\n",
    "import scipy.io as spio\n",
    "import os\n",
    "from os import path\n",
    "import matplotlib.pyplot as plt\n",
    "# Define color and marker for analysis plots\n",
    "markers = [\"P\", \"X\", \"d\",\"s\",\"x\",\"+\",\".\"]\n",
    "colors = [\"blue\",\"orange\",\"green\",\"red\",\"purple\",\"brown\",\"pink\"]"
   ]
  },
  {
   "cell_type": "markdown",
   "metadata": {},
   "source": [
    "Data folder"
   ]
  },
  {
   "cell_type": "code",
   "execution_count": 2,
   "metadata": {},
   "outputs": [],
   "source": [
    "dt_folder = '/home/felipe/Documents/GMTO/MatlabScripts/InfluenceMatrices'"
   ]
  },
  {
   "cell_type": "markdown",
   "metadata": {},
   "source": [
    "Settings"
   ]
  },
  {
   "cell_type": "code",
   "execution_count": 3,
   "metadata": {},
   "outputs": [],
   "source": [
    "# Case-study label\n",
    "test_case = 'random' # 'random_RBM' # 'BM_dist' #\n",
    "# Identification number\n",
    "r_id = 1\n",
    "# Number of M1 bending modes\n",
    "n_bm = 154"
   ]
  },
  {
   "cell_type": "code",
   "execution_count": 4,
   "metadata": {},
   "outputs": [],
   "source": [
    "# Initialize states dictionary\n",
    "if 'm1_x0_dt' not in locals():\n",
    "    m1_x0_dt = {'mirror' : 'M1',\n",
    "                'mirror_args': {'mirror_modes': 'bending modes','N_MODE': n_bm},\n",
    "                'state': {'Txyz':[],'Rxyz':[],'modes':[]}}\n",
    "if 'm2_x0_dt' not in locals():\n",
    "    m2_x0_dt = {'mirror' : 'M2',\n",
    "                'mirror_args': {},\n",
    "                'state': {'Txyz':[],'Rxyz':[]}}\n",
    "\n",
    "m1_x0_dt['state']['Txyz'] = np.zeros((7,3)).tolist()\n",
    "m1_x0_dt['state']['Rxyz'] = np.zeros((7,3)).tolist()\n",
    "m1_x0_dt['state']['modes'] = np.zeros((7,n_bm)).tolist()\n",
    "m2_x0_dt['state']['Txyz'] = np.zeros((7,3)).tolist()\n",
    "m2_x0_dt['state']['Rxyz'] =  np.zeros((7,3)).tolist()        \n",
    "# Update number of M1 bending modes in yaml file\n",
    "m1_x0_dt['mirror_args']['N_MODE'] = n_bm"
   ]
  },
  {
   "cell_type": "code",
   "execution_count": 5,
   "metadata": {},
   "outputs": [
    {
     "name": "stdout",
     "output_type": "stream",
     "text": [
      "193.64087322831045\n",
      "168.9816355661308\n",
      "213.07238698584348\n",
      "169.58697780804812\n",
      "179.65708673532026\n",
      "161.14437248263448\n",
      "128.17473757857556\n"
     ]
    },
    {
     "data": {
      "image/png": "[encoded data removed]",
      "text/plain": [
       "<Figure size 432x288 with 1 Axes>"
      ]
     },
     "metadata": {
      "needs_background": "light"
     },
     "output_type": "display_data"
    }
   ],
   "source": [
    "#\n",
    "        \n",
    "if(test_case == 'fully_aligned'):\n",
    "    pass\n",
    "#        \n",
    "elif(test_case == 'BM_dist'):\n",
    "    fileSTR = '_2_3bm'\n",
    "    m1_x0_dt['state']['modes'][0][2] = 5.0e-4\n",
    "    m1_x0_dt['state']['modes'][0][1] = 5.0e-4\n",
    "#    \n",
    "elif(test_case == 'random_RBM') or (test_case == 'random'):\n",
    "    k_ = 3.0e-6    # 3xstd\n",
    "    as2urad = 4.84814\n",
    "    x_rand = (2*np.random.rand(7,39)-1)\n",
    "    \n",
    "    # M1 random initial values\n",
    "    x0_M1_Tx = k_*block_diag(np.kron(np.eye(6),0.057),1.654).dot(x_rand[:,0])\n",
    "    x0_M1_Ty = k_*block_diag(np.kron(np.eye(6),0.06),0.99).dot(x_rand[:,1])\n",
    "    x0_M1_Tz = k_*block_diag(np.kron(np.eye(6),0.144),0.201).dot(x_rand[:,2])\n",
    "    m1_x0_dt['state']['Txyz'] = np.vstack([x0_M1_Tx,x0_M1_Ty,x0_M1_Tz]).T.tolist()\n",
    "    x0_M1_Rx = k_*as2urad*block_diag(np.kron(np.eye(6),0.01),0.014).dot(x_rand[:,3])\n",
    "    x0_M1_Ry = k_*as2urad*block_diag(np.kron(np.eye(6),0.004),0.016).dot(x_rand[:,4])\n",
    "    x0_M1_Rz = k_*as2urad*block_diag(np.kron(np.eye(6),0.006),0.035).dot(x_rand[:,5])\n",
    "    m1_x0_dt['state']['Rxyz'] = np.vstack([x0_M1_Rx,x0_M1_Ry,x0_M1_Rz]).T.tolist()\n",
    "    \n",
    "    # M2 random initial values\n",
    "    x0_M2_Tx = k_*block_diag(np.kron(np.eye(6),6.235),5.863).dot(x_rand[:,6])\n",
    "    x0_M2_Ty = k_*block_diag(np.kron(np.eye(6),6.192),5.863).dot(x_rand[:,7])\n",
    "    x0_M2_Tz = k_*block_diag(np.kron(np.eye(6),1.595),0.869).dot(x_rand[:,8])\n",
    "    m2_x0_dt['state']['Txyz'] = np.vstack([x0_M2_Tx,x0_M2_Ty,x0_M2_Tz]).T.tolist()\n",
    "    x0_M2_Rx = k_*as2urad*block_diag(np.kron(np.eye(6),0.474),0.463).dot(x_rand[:,9])\n",
    "    x0_M2_Ry = k_*as2urad*block_diag(np.kron(np.eye(6),0.688),0.465).dot(x_rand[:,10])\n",
    "    x0_M2_Rz = k_*as2urad*block_diag(np.kron(np.eye(6),2.315),2.186).dot(x_rand[:,11])\n",
    "    m2_x0_dt['state']['Rxyz'] = np.vstack([x0_M2_Rx,x0_M2_Ry,x0_M2_Rz]).T.tolist()\n",
    "    \n",
    "    if(test_case == 'random'):\n",
    "        \n",
    "        # Bending modes' data\n",
    "        Afz = {}\n",
    "        # OA segment weights\n",
    "        filepath = os.path.join(dt_folder,'Af_oa_axial_ver3.mat')\n",
    "        Afz['outer'] = spio.loadmat(filepath)['afprime']\n",
    "        _U,s_oa,V_oaT = np.linalg.svd(Afz['outer'],0)\n",
    "        bm2Fz_oa = np.dot(V_oaT.T, np.diag(1/s_oa)[:,:n_bm])\n",
    "        # CS (center segment) weights\n",
    "        filepath = os.path.join(dt_folder,'Af_cs154_axial.mat')\n",
    "        Afz['center'] = spio.loadmat(filepath)['afprime']\n",
    "        _U,s_cs,V_csT = np.linalg.svd(Afz['center'],0)\n",
    "        bm2Fz_cs = np.dot(V_csT.T, np.diag(1/s_cs)[:,:n_bm])\n",
    "        \n",
    "        bms = np.vstack([np.random.rand(6,n_bm).dot(np.diag(s_oa[:n_bm]/s_oa[0]))*2.5e-4,\n",
    "                        np.random.rand(1,n_bm).dot(np.diag(s_cs[:n_bm]/s_oa[0]))*2.0e-4])\n",
    "        for kseg in range(6):\n",
    "            plt.plot(np.arange(1,n_bm+1),bms[kseg,:],':', color=colors[kseg], marker=markers[kseg])\n",
    "            print(max(abs(bm2Fz_oa.dot(bms[kseg,:]))))\n",
    "        plt.plot(np.arange(1,n_bm+1),bms[6,:],':', color=colors[6], marker=markers[6])\n",
    "        plt.grid()\n",
    "        plt.ylabel('Bending mode mag')\n",
    "        plt.xlabel('# Bending mode')\n",
    "        print(max(abs(bm2Fz_cs.dot(bms[6,:]))))\n",
    "        m1_x0_dt['state']['modes'] = bms.tolist()\n"
   ]
  },
  {
   "cell_type": "code",
   "execution_count": null,
   "metadata": {},
   "outputs": [],
   "source": [
    "# Filename\n",
    "\n",
    "if(test_case == 'BM_dist'):\n",
    "    fileSTR = '_2_3bm'\n",
    "elif(test_case == 'random_RBM'):\n",
    "    fileSTR = '_rand_rbm_%d' %r_id\n",
    "elif(test_case == 'random'):\n",
    "    fileSTR = '_rbmplusbm_%d' %r_id\n",
    "else:\n",
    "    fileSTR = '_noload' %r_id\n",
    "\n",
    "print(fileSTR)"
   ]
  },
  {
   "cell_type": "code",
   "execution_count": null,
   "metadata": {},
   "outputs": [],
   "source": []
  },
  {
   "cell_type": "code",
   "execution_count": null,
   "metadata": {},
   "outputs": [],
   "source": [
    "# Update yaml files with M1/M2 initial conditions    \n",
    "with open(Path(dt_folder)/('M1'+fileSTR+'.yaml'),'w') as f:\n",
    "    y.dump(m1_x0_dt, f)\n",
    "with open(Path(dt_folder)/('M2'+fileSTR+'.yaml'),'w') as f:\n",
    "    y.dump(m2_x0_dt, f)"
   ]
  },
  {
   "cell_type": "code",
   "execution_count": null,
   "metadata": {},
   "outputs": [],
   "source": []
  },
  {
   "cell_type": "code",
   "execution_count": null,
   "metadata": {},
   "outputs": [],
   "source": []
  },
  {
   "cell_type": "code",
   "execution_count": null,
   "metadata": {},
   "outputs": [],
   "source": []
  },
  {
   "cell_type": "code",
   "execution_count": null,
   "metadata": {},
   "outputs": [],
   "source": []
  },
  {
   "cell_type": "code",
   "execution_count": null,
   "metadata": {},
   "outputs": [],
   "source": []
  },
  {
   "cell_type": "code",
   "execution_count": null,
   "metadata": {},
   "outputs": [],
   "source": []
  },
  {
   "cell_type": "code",
   "execution_count": null,
   "metadata": {},
   "outputs": [],
   "source": [
    "\n"
   ]
  },
  {
   "cell_type": "code",
   "execution_count": null,
   "metadata": {},
   "outputs": [],
   "source": []
  },
  {
   "cell_type": "code",
   "execution_count": null,
   "metadata": {},
   "outputs": [],
   "source": []
  },
  {
   "cell_type": "code",
   "execution_count": null,
   "metadata": {},
   "outputs": [],
   "source": []
  },
  {
   "cell_type": "code",
   "execution_count": null,
   "metadata": {},
   "outputs": [],
   "source": [
    "1, 2, 3, 5, 8, 13, 21"
   ]
  },
  {
   "cell_type": "code",
   "execution_count": null,
   "metadata": {},
   "outputs": [],
   "source": []
  },
  {
   "cell_type": "code",
   "execution_count": null,
   "metadata": {},
   "outputs": [],
   "source": []
  },
  {
   "cell_type": "code",
   "execution_count": null,
   "metadata": {},
   "outputs": [],
   "source": []
  },
  {
   "cell_type": "code",
   "execution_count": null,
   "metadata": {},
   "outputs": [],
   "source": []
  }
 ],
 "metadata": {
  "kernelspec": {
   "display_name": "Python 3",
   "language": "python",
   "name": "python3"
  },
  "language_info": {
   "codemirror_mode": {
    "name": "ipython",
    "version": 3
   },
   "file_extension": ".py",
   "mimetype": "text/x-python",
   "name": "python",
   "nbconvert_exporter": "python",
   "pygments_lexer": "ipython3",
   "version": "3.7.4"
  }
 },
 "nbformat": 4,
 "nbformat_minor": 4
}
